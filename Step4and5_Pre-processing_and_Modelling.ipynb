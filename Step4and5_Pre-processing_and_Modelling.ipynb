{
 "cells": [
  {
   "cell_type": "markdown",
   "metadata": {},
   "source": [
    "# Step 4 - Pre-processing and Training Data Development"
   ]
  },
  {
   "cell_type": "markdown",
   "metadata": {},
   "source": [
    "### **The Data Science Method**  \n",
    "\n",
    "\n",
    "1.   Problem Identification \n",
    "\n",
    "2.   Data Wrangling \n",
    "  \n",
    "3.   Exploratory Data Analysis \n",
    " \n",
    "4.   **Pre-processing and Training Data Development**\n",
    "\n",
    "5.  Modeling\n",
    "  * Fit Models with Training Data Set\n",
    "  * Review Model Outcomes — Iterate over additional models as needed.\n",
    "  * Identify the Final Model\n",
    "\n",
    "6.   Documentation\n",
    "  * Review the Results\n",
    "  * Present and share your findings - storytelling\n",
    "  * Finalize Code \n",
    "  * Finalize Documentation"
   ]
  },
  {
   "cell_type": "markdown",
   "metadata": {},
   "source": [
    "**<font color='teal'> Loading the necessary packages. </font>**"
   ]
  },
  {
   "cell_type": "code",
   "execution_count": 338,
   "metadata": {},
   "outputs": [],
   "source": [
    "#load python packages\n",
    "import os\n",
    "import pandas as pd\n",
    "import datetime\n",
    "import seaborn as sns\n",
    "import matplotlib.pyplot as plt\n",
    "import numpy as np\n",
    "from sklearn import preprocessing\n",
    "%matplotlib inline"
   ]
  },
  {
   "cell_type": "markdown",
   "metadata": {},
   "source": [
    "**<font color='teal'>  Loading the csv file  created in step 3. </font>**"
   ]
  },
  {
   "cell_type": "code",
   "execution_count": 339,
   "metadata": {},
   "outputs": [
    {
     "data": {
      "text/html": [
       "<div>\n",
       "<style scoped>\n",
       "    .dataframe tbody tr th:only-of-type {\n",
       "        vertical-align: middle;\n",
       "    }\n",
       "\n",
       "    .dataframe tbody tr th {\n",
       "        vertical-align: top;\n",
       "    }\n",
       "\n",
       "    .dataframe thead th {\n",
       "        text-align: right;\n",
       "    }\n",
       "</style>\n",
       "<table border=\"1\" class=\"dataframe\">\n",
       "  <thead>\n",
       "    <tr style=\"text-align: right;\">\n",
       "      <th></th>\n",
       "      <th>Wind Speed (m/s)</th>\n",
       "      <th>Real Power (kW)</th>\n",
       "      <th>Wind Direction (⁰)</th>\n",
       "      <th>Ambient Temperature (⁰C)</th>\n",
       "      <th>Wind Speed 79.1m (m/s)</th>\n",
       "      <th>Wind Direction 79.1m (⁰)</th>\n",
       "      <th>Air Temp 76.7m (⁰C)</th>\n",
       "      <th>Relative Humidity 76.7m (%)</th>\n",
       "      <th>Barometric Pressure (mbar)</th>\n",
       "      <th>Wind Speed Gradient (m/s)</th>\n",
       "      <th>...</th>\n",
       "      <th>Relative Humidity Gradient (%)</th>\n",
       "      <th>Ri_B</th>\n",
       "      <th>Summer</th>\n",
       "      <th>Winter</th>\n",
       "      <th>High speed</th>\n",
       "      <th>Low speed</th>\n",
       "      <th>Std. Wind Speed (m/s)</th>\n",
       "      <th>TI Wind Speed</th>\n",
       "      <th>Std. Wind Speed 79.1m (m/s)</th>\n",
       "      <th>TI Wind Speed 79.1m (m/s)</th>\n",
       "    </tr>\n",
       "    <tr>\n",
       "      <th>Timestamp</th>\n",
       "      <th></th>\n",
       "      <th></th>\n",
       "      <th></th>\n",
       "      <th></th>\n",
       "      <th></th>\n",
       "      <th></th>\n",
       "      <th></th>\n",
       "      <th></th>\n",
       "      <th></th>\n",
       "      <th></th>\n",
       "      <th></th>\n",
       "      <th></th>\n",
       "      <th></th>\n",
       "      <th></th>\n",
       "      <th></th>\n",
       "      <th></th>\n",
       "      <th></th>\n",
       "      <th></th>\n",
       "      <th></th>\n",
       "      <th></th>\n",
       "      <th></th>\n",
       "    </tr>\n",
       "  </thead>\n",
       "  <tbody>\n",
       "    <tr>\n",
       "      <th>2012-08-19 01:00:00</th>\n",
       "      <td>5.556833</td>\n",
       "      <td>214.633333</td>\n",
       "      <td>239.385000</td>\n",
       "      <td>21.40</td>\n",
       "      <td>5.330633</td>\n",
       "      <td>253.377777</td>\n",
       "      <td>20.935833</td>\n",
       "      <td>54.757833</td>\n",
       "      <td>975.052380</td>\n",
       "      <td>1.629017</td>\n",
       "      <td>...</td>\n",
       "      <td>-3.236667</td>\n",
       "      <td>-0.591926</td>\n",
       "      <td>1.0</td>\n",
       "      <td>0.0</td>\n",
       "      <td>0.0</td>\n",
       "      <td>1.0</td>\n",
       "      <td>0.105469</td>\n",
       "      <td>0.018980</td>\n",
       "      <td>0.180488</td>\n",
       "      <td>0.033859</td>\n",
       "    </tr>\n",
       "    <tr>\n",
       "      <th>2012-08-19 01:01:00</th>\n",
       "      <td>5.409500</td>\n",
       "      <td>221.266667</td>\n",
       "      <td>240.626667</td>\n",
       "      <td>21.40</td>\n",
       "      <td>5.245217</td>\n",
       "      <td>252.030522</td>\n",
       "      <td>20.909667</td>\n",
       "      <td>55.532667</td>\n",
       "      <td>975.062235</td>\n",
       "      <td>1.730033</td>\n",
       "      <td>...</td>\n",
       "      <td>-3.410167</td>\n",
       "      <td>-0.507177</td>\n",
       "      <td>1.0</td>\n",
       "      <td>0.0</td>\n",
       "      <td>0.0</td>\n",
       "      <td>1.0</td>\n",
       "      <td>0.036473</td>\n",
       "      <td>0.006742</td>\n",
       "      <td>0.202429</td>\n",
       "      <td>0.038593</td>\n",
       "    </tr>\n",
       "    <tr>\n",
       "      <th>2012-08-19 01:02:00</th>\n",
       "      <td>5.646833</td>\n",
       "      <td>245.200000</td>\n",
       "      <td>240.248333</td>\n",
       "      <td>21.40</td>\n",
       "      <td>5.581933</td>\n",
       "      <td>253.660155</td>\n",
       "      <td>20.873833</td>\n",
       "      <td>55.137833</td>\n",
       "      <td>974.933405</td>\n",
       "      <td>1.919733</td>\n",
       "      <td>...</td>\n",
       "      <td>-4.813833</td>\n",
       "      <td>-0.558537</td>\n",
       "      <td>1.0</td>\n",
       "      <td>0.0</td>\n",
       "      <td>0.0</td>\n",
       "      <td>1.0</td>\n",
       "      <td>0.105918</td>\n",
       "      <td>0.018757</td>\n",
       "      <td>0.184955</td>\n",
       "      <td>0.033135</td>\n",
       "    </tr>\n",
       "    <tr>\n",
       "      <th>2012-08-19 01:03:00</th>\n",
       "      <td>5.718667</td>\n",
       "      <td>253.850000</td>\n",
       "      <td>239.643333</td>\n",
       "      <td>21.28</td>\n",
       "      <td>5.841283</td>\n",
       "      <td>255.637168</td>\n",
       "      <td>20.863000</td>\n",
       "      <td>54.162833</td>\n",
       "      <td>974.981192</td>\n",
       "      <td>1.876100</td>\n",
       "      <td>...</td>\n",
       "      <td>-5.227500</td>\n",
       "      <td>-0.605762</td>\n",
       "      <td>1.0</td>\n",
       "      <td>0.0</td>\n",
       "      <td>0.0</td>\n",
       "      <td>1.0</td>\n",
       "      <td>0.041882</td>\n",
       "      <td>0.007324</td>\n",
       "      <td>0.138177</td>\n",
       "      <td>0.023655</td>\n",
       "    </tr>\n",
       "    <tr>\n",
       "      <th>2012-08-19 01:04:00</th>\n",
       "      <td>5.712667</td>\n",
       "      <td>257.216667</td>\n",
       "      <td>240.478333</td>\n",
       "      <td>21.00</td>\n",
       "      <td>5.975533</td>\n",
       "      <td>256.679192</td>\n",
       "      <td>20.882833</td>\n",
       "      <td>53.614000</td>\n",
       "      <td>974.921545</td>\n",
       "      <td>1.785267</td>\n",
       "      <td>...</td>\n",
       "      <td>-5.427500</td>\n",
       "      <td>-0.599312</td>\n",
       "      <td>1.0</td>\n",
       "      <td>0.0</td>\n",
       "      <td>0.0</td>\n",
       "      <td>1.0</td>\n",
       "      <td>0.052299</td>\n",
       "      <td>0.009155</td>\n",
       "      <td>0.100991</td>\n",
       "      <td>0.016901</td>\n",
       "    </tr>\n",
       "  </tbody>\n",
       "</table>\n",
       "<p>5 rows × 22 columns</p>\n",
       "</div>"
      ],
      "text/plain": [
       "                     Wind Speed (m/s)  Real Power (kW)  Wind Direction (⁰)  \\\n",
       "Timestamp                                                                    \n",
       "2012-08-19 01:00:00          5.556833       214.633333          239.385000   \n",
       "2012-08-19 01:01:00          5.409500       221.266667          240.626667   \n",
       "2012-08-19 01:02:00          5.646833       245.200000          240.248333   \n",
       "2012-08-19 01:03:00          5.718667       253.850000          239.643333   \n",
       "2012-08-19 01:04:00          5.712667       257.216667          240.478333   \n",
       "\n",
       "                     Ambient Temperature (⁰C)  Wind Speed 79.1m (m/s)  \\\n",
       "Timestamp                                                               \n",
       "2012-08-19 01:00:00                     21.40                5.330633   \n",
       "2012-08-19 01:01:00                     21.40                5.245217   \n",
       "2012-08-19 01:02:00                     21.40                5.581933   \n",
       "2012-08-19 01:03:00                     21.28                5.841283   \n",
       "2012-08-19 01:04:00                     21.00                5.975533   \n",
       "\n",
       "                     Wind Direction 79.1m (⁰)  Air Temp 76.7m (⁰C)  \\\n",
       "Timestamp                                                            \n",
       "2012-08-19 01:00:00                253.377777            20.935833   \n",
       "2012-08-19 01:01:00                252.030522            20.909667   \n",
       "2012-08-19 01:02:00                253.660155            20.873833   \n",
       "2012-08-19 01:03:00                255.637168            20.863000   \n",
       "2012-08-19 01:04:00                256.679192            20.882833   \n",
       "\n",
       "                     Relative Humidity 76.7m (%)  Barometric Pressure (mbar)  \\\n",
       "Timestamp                                                                      \n",
       "2012-08-19 01:00:00                    54.757833                  975.052380   \n",
       "2012-08-19 01:01:00                    55.532667                  975.062235   \n",
       "2012-08-19 01:02:00                    55.137833                  974.933405   \n",
       "2012-08-19 01:03:00                    54.162833                  974.981192   \n",
       "2012-08-19 01:04:00                    53.614000                  974.921545   \n",
       "\n",
       "                     Wind Speed Gradient (m/s)  ...  \\\n",
       "Timestamp                                       ...   \n",
       "2012-08-19 01:00:00                   1.629017  ...   \n",
       "2012-08-19 01:01:00                   1.730033  ...   \n",
       "2012-08-19 01:02:00                   1.919733  ...   \n",
       "2012-08-19 01:03:00                   1.876100  ...   \n",
       "2012-08-19 01:04:00                   1.785267  ...   \n",
       "\n",
       "                     Relative Humidity Gradient (%)      Ri_B  Summer  Winter  \\\n",
       "Timestamp                                                                       \n",
       "2012-08-19 01:00:00                       -3.236667 -0.591926     1.0     0.0   \n",
       "2012-08-19 01:01:00                       -3.410167 -0.507177     1.0     0.0   \n",
       "2012-08-19 01:02:00                       -4.813833 -0.558537     1.0     0.0   \n",
       "2012-08-19 01:03:00                       -5.227500 -0.605762     1.0     0.0   \n",
       "2012-08-19 01:04:00                       -5.427500 -0.599312     1.0     0.0   \n",
       "\n",
       "                     High speed  Low speed  Std. Wind Speed (m/s)  \\\n",
       "Timestamp                                                           \n",
       "2012-08-19 01:00:00         0.0        1.0               0.105469   \n",
       "2012-08-19 01:01:00         0.0        1.0               0.036473   \n",
       "2012-08-19 01:02:00         0.0        1.0               0.105918   \n",
       "2012-08-19 01:03:00         0.0        1.0               0.041882   \n",
       "2012-08-19 01:04:00         0.0        1.0               0.052299   \n",
       "\n",
       "                     TI Wind Speed  Std. Wind Speed 79.1m (m/s)  \\\n",
       "Timestamp                                                         \n",
       "2012-08-19 01:00:00       0.018980                     0.180488   \n",
       "2012-08-19 01:01:00       0.006742                     0.202429   \n",
       "2012-08-19 01:02:00       0.018757                     0.184955   \n",
       "2012-08-19 01:03:00       0.007324                     0.138177   \n",
       "2012-08-19 01:04:00       0.009155                     0.100991   \n",
       "\n",
       "                     TI Wind Speed 79.1m (m/s)  \n",
       "Timestamp                                       \n",
       "2012-08-19 01:00:00                   0.033859  \n",
       "2012-08-19 01:01:00                   0.038593  \n",
       "2012-08-19 01:02:00                   0.033135  \n",
       "2012-08-19 01:03:00                   0.023655  \n",
       "2012-08-19 01:04:00                   0.016901  \n",
       "\n",
       "[5 rows x 22 columns]"
      ]
     },
     "execution_count": 339,
     "metadata": {},
     "output_type": "execute_result"
    }
   ],
   "source": [
    "df=pd.read_csv('./data/step3_EDA_output.csv',index_col=0)\n",
    "df.head()"
   ]
  },
  {
   "cell_type": "markdown",
   "metadata": {},
   "source": [
    "**<font color='teal'>   Adding square and cube of velocities and inverse of temperature as features. </font>**"
   ]
  },
  {
   "cell_type": "markdown",
   "metadata": {},
   "source": [
    "A linear model will be tested subsequently. However, from eq 1. $P\\propto U^3$ and $\\rho\\propto 1/T$ both non-linear relationships. To incorporate non-linear effects the higher power of velocity and inverse Temperatures are added as features."
   ]
  },
  {
   "cell_type": "code",
   "execution_count": 340,
   "metadata": {},
   "outputs": [
    {
     "data": {
      "text/plain": [
       "Index(['Wind Speed (m/s)', 'Real Power (kW)', 'Wind Direction (⁰)',\n",
       "       'Ambient Temperature (⁰C)', 'Wind Speed 79.1m (m/s)',\n",
       "       'Wind Direction 79.1m (⁰)', 'Air Temp 76.7m (⁰C)',\n",
       "       'Relative Humidity 76.7m (%)', 'Barometric Pressure (mbar)',\n",
       "       'Wind Speed Gradient (m/s)', 'Wind Direction Gradient (⁰)',\n",
       "       'Virt. Pot. Temp. Gradient ($^\\circ C$)',\n",
       "       'Relative Humidity Gradient (%)', 'Ri_B', 'Summer', 'Winter',\n",
       "       'High speed', 'Low speed', 'Std. Wind Speed (m/s)', 'TI Wind Speed',\n",
       "       'Std. Wind Speed 79.1m (m/s)', 'TI Wind Speed 79.1m (m/s)'],\n",
       "      dtype='object')"
      ]
     },
     "execution_count": 340,
     "metadata": {},
     "output_type": "execute_result"
    }
   ],
   "source": [
    "df.columns"
   ]
  },
  {
   "cell_type": "code",
   "execution_count": 341,
   "metadata": {},
   "outputs": [],
   "source": [
    "df['Square Wind Speed (m/s)^2']=df['Wind Speed (m/s)']*df['Wind Speed (m/s)']\n",
    "df['Cube Wind Speed (m/s)^3']=df['Square Wind Speed (m/s)^2']*df['Wind Speed (m/s)']\n",
    "\n",
    "df['Square Wind Speed 79.1m (m/s)^2']=df['Wind Speed 79.1m (m/s)']*df['Wind Speed 79.1m (m/s)']\n",
    "df['Cube Wind Speed 79.1m (m/s)^3']=df['Wind Speed 79.1m (m/s)']*df['Wind Speed 79.1m (m/s)']\n",
    "\n",
    "df['Inverse Ambient Temperature (1/⁰C)']=1/df['Ambient Temperature (⁰C)']\n",
    "df['Inverse Air Temp 76.7m (1/⁰C)']=1/df['Air Temp 76.7m (⁰C)']\n"
   ]
  },
  {
   "cell_type": "markdown",
   "metadata": {},
   "source": [
    "**<font color='teal'> Creating a Dataframe with log of features.</font>**"
   ]
  },
  {
   "cell_type": "markdown",
   "metadata": {},
   "source": [
    "Again from eq. 1, $P\\propto product(\\rho, U^3,..)$. If a linear model is used, adding log of features will have an equivalent effect of feature products as shown in eq. 7."
   ]
  },
  {
   "cell_type": "code",
   "execution_count": 342,
   "metadata": {},
   "outputs": [],
   "source": [
    "#log of negetive temperature may lead to loosing this feature. To avoid the temperatures are converted to Kelvin scale.\n",
    "df_copy=df\n",
    "\n",
    "df_copy['Ambient Temperature (⁰C)']=df_copy['Ambient Temperature (⁰C)']+273\n",
    "df_copy['Air Temp 76.7m (⁰C)']=df_copy['Air Temp 76.7m (⁰C)']+273\n",
    "\n",
    "\n",
    "\n",
    "df_abs=df_copy.applymap(np.absolute)"
   ]
  },
  {
   "cell_type": "code",
   "execution_count": 343,
   "metadata": {},
   "outputs": [],
   "source": [
    "df_abs['Summer']=df_abs['Summer']+1\n",
    "df_abs['Winter']=df_abs['Winter']+1\n",
    "df_abs['High speed']=df_abs['High speed']+1\n",
    "df_abs['Low speed']=df_abs['Low speed']+1\n",
    "\n",
    "df_log=df_abs.applymap(np.log10) \n",
    "\n",
    "# Since Ri_B<0 will be modified, loosing its physical meaning, this feature will be dropped. Further, temperatures will also have to dropped"
   ]
  },
  {
   "cell_type": "markdown",
   "metadata": {},
   "source": [
    "## Standardizing the magnitude of numeric features"
   ]
  },
  {
   "cell_type": "code",
   "execution_count": 344,
   "metadata": {},
   "outputs": [],
   "source": [
    "x = df.drop(['Real Power (kW)'], axis =1)\n",
    "y=df['Real Power (kW)']\n",
    "\n",
    "x_scaled=preprocessing.scale(x, axis=0, with_mean=True, with_std=True, copy=True)"
   ]
  },
  {
   "cell_type": "code",
   "execution_count": 345,
   "metadata": {},
   "outputs": [
    {
     "data": {
      "text/plain": [
       "array([ 2.81256500e-16,  5.92118946e-17, -2.25005200e-15, -3.33066907e-17,\n",
       "       -5.32907052e-16,  2.96059473e-15, -5.92118946e-17, -6.42449057e-15,\n",
       "        5.92118946e-17,  9.89948864e-17, -5.92118946e-17,  0.00000000e+00,\n",
       "        2.96059473e-17,  0.00000000e+00,  0.00000000e+00,  0.00000000e+00,\n",
       "        0.00000000e+00,  8.88178420e-17, -5.92118946e-17, -7.40148683e-17,\n",
       "       -1.62832710e-16, -2.36847579e-16, -1.48029737e-16, -1.96139401e-16,\n",
       "       -1.96139401e-16,  5.92118946e-17,  5.92118946e-17])"
      ]
     },
     "execution_count": 345,
     "metadata": {},
     "output_type": "execute_result"
    }
   ],
   "source": [
    "x_scaled.mean(axis=0)"
   ]
  },
  {
   "cell_type": "code",
   "execution_count": 346,
   "metadata": {},
   "outputs": [
    {
     "data": {
      "text/plain": [
       "array([1., 1., 1., 1., 1., 1., 1., 1., 1., 1., 1., 1., 1., 1., 1., 1., 1.,\n",
       "       1., 1., 1., 1., 1., 1., 1., 1., 1., 1.])"
      ]
     },
     "execution_count": 346,
     "metadata": {},
     "output_type": "execute_result"
    }
   ],
   "source": [
    "x_scaled.std(axis=0)"
   ]
  },
  {
   "cell_type": "code",
   "execution_count": 347,
   "metadata": {},
   "outputs": [
    {
     "data": {
      "text/plain": [
       "(240, 27)"
      ]
     },
     "execution_count": 347,
     "metadata": {},
     "output_type": "execute_result"
    }
   ],
   "source": [
    "x_scaled.shape"
   ]
  },
  {
   "cell_type": "code",
   "execution_count": 348,
   "metadata": {},
   "outputs": [
    {
     "data": {
      "image/png": "[encoded data removed]",
      "text/plain": [
       "<Figure size 1440x1440 with 30 Axes>"
      ]
     },
     "metadata": {
      "needs_background": "light"
     },
     "output_type": "display_data"
    }
   ],
   "source": [
    "x_scaled_check_df=pd.DataFrame(x_scaled,columns=x.columns)\n",
    "hist=x_scaled_check_df.hist(bins=25,figsize=[20,20])"
   ]
  },
  {
   "cell_type": "markdown",
   "metadata": {},
   "source": [
    "### Repeating standardizing for the log dataframe"
   ]
  },
  {
   "cell_type": "code",
   "execution_count": 349,
   "metadata": {},
   "outputs": [],
   "source": [
    "x_log = df_log.drop(['Real Power (kW)','Ri_B'], axis =1)\n",
    "y_log=df_log['Real Power (kW)']\n",
    "\n",
    "x_scaled_log=preprocessing.scale(x_log, axis=0, with_mean=True, with_std=True, copy=True)"
   ]
  },
  {
   "cell_type": "code",
   "execution_count": 350,
   "metadata": {},
   "outputs": [
    {
     "data": {
      "text/plain": [
       "array([ 5.14403335e-16,  1.18423789e-15, -3.07901852e-15,  8.06762065e-16,\n",
       "        4.61852778e-15, -4.85537536e-15, -1.12502600e-15, -1.55904919e-13,\n",
       "       -1.18423789e-16,  7.40148683e-18,  2.07241631e-16,  0.00000000e+00,\n",
       "        0.00000000e+00,  0.00000000e+00,  0.00000000e+00,  0.00000000e+00,\n",
       "       -1.77635684e-16, -1.33226763e-16,  5.92118946e-17, -1.62832710e-16,\n",
       "        4.73695157e-16, -7.40148683e-18,  8.14163551e-16,  8.14163551e-16,\n",
       "       -7.69754630e-16, -1.18423789e-16])"
      ]
     },
     "execution_count": 350,
     "metadata": {},
     "output_type": "execute_result"
    }
   ],
   "source": [
    "x_scaled_log.mean(axis=0)"
   ]
  },
  {
   "cell_type": "code",
   "execution_count": 351,
   "metadata": {},
   "outputs": [
    {
     "data": {
      "text/plain": [
       "array([1., 1., 1., 1., 1., 1., 1., 1., 1., 1., 1., 1., 1., 1., 1., 1., 1.,\n",
       "       1., 1., 1., 1., 1., 1., 1., 1., 1.])"
      ]
     },
     "execution_count": 351,
     "metadata": {},
     "output_type": "execute_result"
    }
   ],
   "source": [
    "x_scaled_log.std(axis=0)"
   ]
  },
  {
   "cell_type": "markdown",
   "metadata": {},
   "source": [
    "## Splitting into training and testing datasets"
   ]
  },
  {
   "cell_type": "code",
   "execution_count": 352,
   "metadata": {},
   "outputs": [],
   "source": [
    "from sklearn.model_selection import train_test_split\n",
    "X_train, X_test, y_train, y_test = train_test_split(x_scaled, y, test_size=0.25)"
   ]
  },
  {
   "cell_type": "code",
   "execution_count": 353,
   "metadata": {},
   "outputs": [
    {
     "data": {
      "text/plain": [
       "((180, 27), (60, 27))"
      ]
     },
     "execution_count": 353,
     "metadata": {},
     "output_type": "execute_result"
    }
   ],
   "source": [
    "X_train.shape, X_test.shape"
   ]
  },
  {
   "cell_type": "code",
   "execution_count": 354,
   "metadata": {},
   "outputs": [
    {
     "data": {
      "text/plain": [
       "((180,), (60,))"
      ]
     },
     "execution_count": 354,
     "metadata": {},
     "output_type": "execute_result"
    }
   ],
   "source": [
    "y_train.shape, y_test.shape"
   ]
  },
  {
   "cell_type": "markdown",
   "metadata": {},
   "source": [
    "### Repeating standardizing for the log dataframe"
   ]
  },
  {
   "cell_type": "code",
   "execution_count": 355,
   "metadata": {},
   "outputs": [],
   "source": [
    "from sklearn.model_selection import train_test_split\n",
    "X_train_log, X_test_log, y_train_log, y_test_log = train_test_split(x_scaled_log, y_log, test_size=0.25)"
   ]
  },
  {
   "cell_type": "code",
   "execution_count": 356,
   "metadata": {},
   "outputs": [
    {
     "data": {
      "text/plain": [
       "((180, 26), (60, 26))"
      ]
     },
     "execution_count": 356,
     "metadata": {},
     "output_type": "execute_result"
    }
   ],
   "source": [
    "X_train_log.shape, X_test_log.shape"
   ]
  },
  {
   "cell_type": "code",
   "execution_count": 357,
   "metadata": {},
   "outputs": [
    {
     "data": {
      "text/plain": [
       "((180,), (60,))"
      ]
     },
     "execution_count": 357,
     "metadata": {},
     "output_type": "execute_result"
    }
   ],
   "source": [
    "y_train_log.shape, y_test_log.shape"
   ]
  },
  {
   "cell_type": "markdown",
   "metadata": {},
   "source": [
    "# Step 5 - Modeling"
   ]
  },
  {
   "cell_type": "markdown",
   "metadata": {},
   "source": [
    "### **The Data Science Method**  \n",
    "\n",
    "1.   Problem Identification \n",
    "\n",
    "2.   Data Wrangling \n",
    "  \n",
    "3.   Exploratory Data Analysis \n",
    " \n",
    "4.   Pre-processing and Training Data Development\n",
    "\n",
    "5.   **Modeling**\n",
    "  * Fit Models with Training Data Set\n",
    "  * Review Model Outcomes — Iterate over additional models as needed.\n",
    "  * Identify the Final Model\n",
    "\n",
    "6.   Documentation\n",
    "  * Review the Results\n",
    "  * Present and share your findings - storytelling\n",
    "  * Finalize Code \n",
    "  * Finalize Documentation"
   ]
  },
  {
   "cell_type": "markdown",
   "metadata": {},
   "source": [
    "## Fit Models with Training Data Set"
   ]
  },
  {
   "cell_type": "markdown",
   "metadata": {},
   "source": [
    "For this project, Wind Turbine Power produced is the response variable, and other features, such as speed, are the explanatory variables. Since data for Power produced is provided we can utilize Supervised Learning Machine Learning algorithms to construct the models to predict turbine power.\n",
    "\n",
    "Two types of models will be evaluated:\n",
    "1. Ordinary Least Square model\n",
    "2. Random Forest Regressor model\n",
    "\n",
    "For each model different number of features will be considered along with tunning of hyperparameters wherever applicable. "
   ]
  },
  {
   "cell_type": "markdown",
   "metadata": {},
   "source": [
    "#### Importing relevant libraries"
   ]
  },
  {
   "cell_type": "code",
   "execution_count": 358,
   "metadata": {},
   "outputs": [],
   "source": [
    "import seaborn as sns # For all our visualization needs.\n",
    "import statsmodels.api as sm # for OLS\n",
    "from statsmodels.graphics.api import abline_plot # What does this do? \"Plot a line given an intercept and slope.\"\n",
    "from sklearn.metrics import mean_squared_error, r2_score # What does this do? \"Mean squared error regression loss\".\n",
    "#\"R^2 (coefficient of determination) regression score function.\n",
    "#Best possible score is 1.0 and it can be negative (because the model can be arbitrarily worse). A constant model #that always predicts the expected value of y, disregarding the input features, would get a R^2 score of 0.0.\""
   ]
  },
  {
   "cell_type": "markdown",
   "metadata": {},
   "source": [
    "### Fitting Models"
   ]
  },
  {
   "cell_type": "markdown",
   "metadata": {},
   "source": [
    "**<font color='teal'>  1a. Making the Ordinary Least Squares (OLS) model with all features. </font>**"
   ]
  },
  {
   "cell_type": "code",
   "execution_count": 359,
   "metadata": {},
   "outputs": [],
   "source": [
    "#Adding constant required for processnig OLS\n",
    "x_scaled_OLS=sm.add_constant(x_scaled)"
   ]
  },
  {
   "cell_type": "code",
   "execution_count": 360,
   "metadata": {},
   "outputs": [],
   "source": [
    "# Split the data using train_test_split()\n",
    "X_train, X_test, y_train, y_test = train_test_split(x_scaled_OLS, y, test_size=0.25, random_state=42)"
   ]
  },
  {
   "cell_type": "code",
   "execution_count": 361,
   "metadata": {},
   "outputs": [],
   "source": [
    "# Create the model\n",
    "model_ols = sm.OLS(y_train,X_train)\n",
    "\n",
    "# Fit the model with fit() \n",
    "results=model_ols.fit() "
   ]
  },
  {
   "cell_type": "code",
   "execution_count": 362,
   "metadata": {},
   "outputs": [
    {
     "data": {
      "text/html": [
       "<table class=\"simpletable\">\n",
       "<caption>OLS Regression Results</caption>\n",
       "<tr>\n",
       "  <th>Dep. Variable:</th>     <td>Real Power (kW)</td> <th>  R-squared:         </th> <td>   0.991</td> \n",
       "</tr>\n",
       "<tr>\n",
       "  <th>Model:</th>                   <td>OLS</td>       <th>  Adj. R-squared:    </th> <td>   0.989</td> \n",
       "</tr>\n",
       "<tr>\n",
       "  <th>Method:</th>             <td>Least Squares</td>  <th>  F-statistic:       </th> <td>   689.5</td> \n",
       "</tr>\n",
       "<tr>\n",
       "  <th>Date:</th>             <td>Sat, 07 Nov 2020</td> <th>  Prob (F-statistic):</th> <td>9.45e-145</td>\n",
       "</tr>\n",
       "<tr>\n",
       "  <th>Time:</th>                 <td>19:08:48</td>     <th>  Log-Likelihood:    </th> <td> -1045.1</td> \n",
       "</tr>\n",
       "<tr>\n",
       "  <th>No. Observations:</th>      <td>   180</td>      <th>  AIC:               </th> <td>   2140.</td> \n",
       "</tr>\n",
       "<tr>\n",
       "  <th>Df Residuals:</th>          <td>   155</td>      <th>  BIC:               </th> <td>   2220.</td> \n",
       "</tr>\n",
       "<tr>\n",
       "  <th>Df Model:</th>              <td>    24</td>      <th>                     </th>     <td> </td>    \n",
       "</tr>\n",
       "<tr>\n",
       "  <th>Covariance Type:</th>      <td>nonrobust</td>    <th>                     </th>     <td> </td>    \n",
       "</tr>\n",
       "</table>\n",
       "<table class=\"simpletable\">\n",
       "<tr>\n",
       "    <td></td>       <th>coef</th>     <th>std err</th>      <th>t</th>      <th>P>|t|</th>  <th>[0.025</th>    <th>0.975]</th>  \n",
       "</tr>\n",
       "<tr>\n",
       "  <th>const</th> <td> 1125.5083</td> <td>    6.532</td> <td>  172.312</td> <td> 0.000</td> <td> 1112.605</td> <td> 1138.411</td>\n",
       "</tr>\n",
       "<tr>\n",
       "  <th>x1</th>    <td>-3501.9091</td> <td>  476.482</td> <td>   -7.350</td> <td> 0.000</td> <td>-4443.146</td> <td>-2560.673</td>\n",
       "</tr>\n",
       "<tr>\n",
       "  <th>x2</th>    <td>    3.3125</td> <td>   28.433</td> <td>    0.117</td> <td> 0.907</td> <td>  -52.853</td> <td>   59.478</td>\n",
       "</tr>\n",
       "<tr>\n",
       "  <th>x3</th>    <td>-1030.1720</td> <td> 1383.608</td> <td>   -0.745</td> <td> 0.458</td> <td>-3763.334</td> <td> 1702.990</td>\n",
       "</tr>\n",
       "<tr>\n",
       "  <th>x4</th>    <td>  139.0296</td> <td>  168.702</td> <td>    0.824</td> <td> 0.411</td> <td> -194.222</td> <td>  472.282</td>\n",
       "</tr>\n",
       "<tr>\n",
       "  <th>x5</th>    <td> -249.1432</td> <td>  105.473</td> <td>   -2.362</td> <td> 0.019</td> <td> -457.494</td> <td>  -40.793</td>\n",
       "</tr>\n",
       "<tr>\n",
       "  <th>x6</th>    <td> 2369.7558</td> <td> 1549.491</td> <td>    1.529</td> <td> 0.128</td> <td> -691.088</td> <td> 5430.599</td>\n",
       "</tr>\n",
       "<tr>\n",
       "  <th>x7</th>    <td> -212.5127</td> <td>  167.860</td> <td>   -1.266</td> <td> 0.207</td> <td> -544.102</td> <td>  119.077</td>\n",
       "</tr>\n",
       "<tr>\n",
       "  <th>x8</th>    <td>  -68.9407</td> <td>  173.812</td> <td>   -0.397</td> <td> 0.692</td> <td> -412.287</td> <td>  274.406</td>\n",
       "</tr>\n",
       "<tr>\n",
       "  <th>x9</th>    <td>   18.1100</td> <td>   15.694</td> <td>    1.154</td> <td> 0.250</td> <td>  -12.892</td> <td>   49.112</td>\n",
       "</tr>\n",
       "<tr>\n",
       "  <th>x10</th>   <td>  -30.1577</td> <td>   14.924</td> <td>   -2.021</td> <td> 0.045</td> <td>  -59.639</td> <td>   -0.677</td>\n",
       "</tr>\n",
       "<tr>\n",
       "  <th>x11</th>   <td>    2.6694</td> <td>   18.565</td> <td>    0.144</td> <td> 0.886</td> <td>  -34.003</td> <td>   39.342</td>\n",
       "</tr>\n",
       "<tr>\n",
       "  <th>x12</th>   <td>    5.4967</td> <td>   40.149</td> <td>    0.137</td> <td> 0.891</td> <td>  -73.812</td> <td>   84.806</td>\n",
       "</tr>\n",
       "<tr>\n",
       "  <th>x13</th>   <td>  -11.9024</td> <td>    8.367</td> <td>   -1.423</td> <td> 0.157</td> <td>  -28.430</td> <td>    4.626</td>\n",
       "</tr>\n",
       "<tr>\n",
       "  <th>x14</th>   <td> -894.6210</td> <td>  468.820</td> <td>   -1.908</td> <td> 0.058</td> <td>-1820.722</td> <td>   31.480</td>\n",
       "</tr>\n",
       "<tr>\n",
       "  <th>x15</th>   <td>  894.6210</td> <td>  468.820</td> <td>    1.908</td> <td> 0.058</td> <td>  -31.480</td> <td> 1820.722</td>\n",
       "</tr>\n",
       "<tr>\n",
       "  <th>x16</th>   <td> -186.0292</td> <td>   81.275</td> <td>   -2.289</td> <td> 0.023</td> <td> -346.580</td> <td>  -25.479</td>\n",
       "</tr>\n",
       "<tr>\n",
       "  <th>x17</th>   <td>  186.0292</td> <td>   81.275</td> <td>    2.289</td> <td> 0.023</td> <td>   25.479</td> <td>  346.580</td>\n",
       "</tr>\n",
       "<tr>\n",
       "  <th>x18</th>   <td> -132.3242</td> <td>   55.903</td> <td>   -2.367</td> <td> 0.019</td> <td> -242.755</td> <td>  -21.894</td>\n",
       "</tr>\n",
       "<tr>\n",
       "  <th>x19</th>   <td>  129.1531</td> <td>   50.351</td> <td>    2.565</td> <td> 0.011</td> <td>   29.691</td> <td>  228.615</td>\n",
       "</tr>\n",
       "<tr>\n",
       "  <th>x20</th>   <td> -229.7222</td> <td>   89.932</td> <td>   -2.554</td> <td> 0.012</td> <td> -407.373</td> <td>  -52.072</td>\n",
       "</tr>\n",
       "<tr>\n",
       "  <th>x21</th>   <td>  211.6951</td> <td>   87.666</td> <td>    2.415</td> <td> 0.017</td> <td>   38.520</td> <td>  384.870</td>\n",
       "</tr>\n",
       "<tr>\n",
       "  <th>x22</th>   <td> 8756.2745</td> <td>  898.449</td> <td>    9.746</td> <td> 0.000</td> <td> 6981.490</td> <td> 1.05e+04</td>\n",
       "</tr>\n",
       "<tr>\n",
       "  <th>x23</th>   <td>-4900.6386</td> <td>  461.247</td> <td>  -10.625</td> <td> 0.000</td> <td>-5811.780</td> <td>-3989.497</td>\n",
       "</tr>\n",
       "<tr>\n",
       "  <th>x24</th>   <td>  105.5120</td> <td>   70.078</td> <td>    1.506</td> <td> 0.134</td> <td>  -32.919</td> <td>  243.943</td>\n",
       "</tr>\n",
       "<tr>\n",
       "  <th>x25</th>   <td>  105.5120</td> <td>   70.078</td> <td>    1.506</td> <td> 0.134</td> <td>  -32.919</td> <td>  243.943</td>\n",
       "</tr>\n",
       "<tr>\n",
       "  <th>x26</th>   <td>   65.2432</td> <td>  257.044</td> <td>    0.254</td> <td> 0.800</td> <td> -442.518</td> <td>  573.005</td>\n",
       "</tr>\n",
       "<tr>\n",
       "  <th>x27</th>   <td>  -67.4932</td> <td>  335.200</td> <td>   -0.201</td> <td> 0.841</td> <td> -729.643</td> <td>  594.657</td>\n",
       "</tr>\n",
       "</table>\n",
       "<table class=\"simpletable\">\n",
       "<tr>\n",
       "  <th>Omnibus:</th>       <td>25.575</td> <th>  Durbin-Watson:     </th> <td>   1.970</td>\n",
       "</tr>\n",
       "<tr>\n",
       "  <th>Prob(Omnibus):</th> <td> 0.000</td> <th>  Jarque-Bera (JB):  </th> <td>  78.592</td>\n",
       "</tr>\n",
       "<tr>\n",
       "  <th>Skew:</th>          <td> 0.501</td> <th>  Prob(JB):          </th> <td>8.59e-18</td>\n",
       "</tr>\n",
       "<tr>\n",
       "  <th>Kurtosis:</th>      <td> 6.078</td> <th>  Cond. No.          </th> <td>1.30e+16</td>\n",
       "</tr>\n",
       "</table><br/><br/>Warnings:<br/>[1] Standard Errors assume that the covariance matrix of the errors is correctly specified.<br/>[2] The smallest eigenvalue is 1.33e-29. This might indicate that there are<br/>strong multicollinearity problems or that the design matrix is singular."
      ],
      "text/plain": [
       "<class 'statsmodels.iolib.summary.Summary'>\n",
       "\"\"\"\n",
       "                            OLS Regression Results                            \n",
       "==============================================================================\n",
       "Dep. Variable:        Real Power (kW)   R-squared:                       0.991\n",
       "Model:                            OLS   Adj. R-squared:                  0.989\n",
       "Method:                 Least Squares   F-statistic:                     689.5\n",
       "Date:                Sat, 07 Nov 2020   Prob (F-statistic):          9.45e-145\n",
       "Time:                        19:08:48   Log-Likelihood:                -1045.1\n",
       "No. Observations:                 180   AIC:                             2140.\n",
       "Df Residuals:                     155   BIC:                             2220.\n",
       "Df Model:                          24                                         \n",
       "Covariance Type:            nonrobust                                         \n",
       "==============================================================================\n",
       "                 coef    std err          t      P>|t|      [0.025      0.975]\n",
       "------------------------------------------------------------------------------\n",
       "const       1125.5083      6.532    172.312      0.000    1112.605    1138.411\n",
       "x1         -3501.9091    476.482     -7.350      0.000   -4443.146   -2560.673\n",
       "x2             3.3125     28.433      0.117      0.907     -52.853      59.478\n",
       "x3         -1030.1720   1383.608     -0.745      0.458   -3763.334    1702.990\n",
       "x4           139.0296    168.702      0.824      0.411    -194.222     472.282\n",
       "x5          -249.1432    105.473     -2.362      0.019    -457.494     -40.793\n",
       "x6          2369.7558   1549.491      1.529      0.128    -691.088    5430.599\n",
       "x7          -212.5127    167.860     -1.266      0.207    -544.102     119.077\n",
       "x8           -68.9407    173.812     -0.397      0.692    -412.287     274.406\n",
       "x9            18.1100     15.694      1.154      0.250     -12.892      49.112\n",
       "x10          -30.1577     14.924     -2.021      0.045     -59.639      -0.677\n",
       "x11            2.6694     18.565      0.144      0.886     -34.003      39.342\n",
       "x12            5.4967     40.149      0.137      0.891     -73.812      84.806\n",
       "x13          -11.9024      8.367     -1.423      0.157     -28.430       4.626\n",
       "x14         -894.6210    468.820     -1.908      0.058   -1820.722      31.480\n",
       "x15          894.6210    468.820      1.908      0.058     -31.480    1820.722\n",
       "x16         -186.0292     81.275     -2.289      0.023    -346.580     -25.479\n",
       "x17          186.0292     81.275      2.289      0.023      25.479     346.580\n",
       "x18         -132.3242     55.903     -2.367      0.019    -242.755     -21.894\n",
       "x19          129.1531     50.351      2.565      0.011      29.691     228.615\n",
       "x20         -229.7222     89.932     -2.554      0.012    -407.373     -52.072\n",
       "x21          211.6951     87.666      2.415      0.017      38.520     384.870\n",
       "x22         8756.2745    898.449      9.746      0.000    6981.490    1.05e+04\n",
       "x23        -4900.6386    461.247    -10.625      0.000   -5811.780   -3989.497\n",
       "x24          105.5120     70.078      1.506      0.134     -32.919     243.943\n",
       "x25          105.5120     70.078      1.506      0.134     -32.919     243.943\n",
       "x26           65.2432    257.044      0.254      0.800    -442.518     573.005\n",
       "x27          -67.4932    335.200     -0.201      0.841    -729.643     594.657\n",
       "==============================================================================\n",
       "Omnibus:                       25.575   Durbin-Watson:                   1.970\n",
       "Prob(Omnibus):                  0.000   Jarque-Bera (JB):               78.592\n",
       "Skew:                           0.501   Prob(JB):                     8.59e-18\n",
       "Kurtosis:                       6.078   Cond. No.                     1.30e+16\n",
       "==============================================================================\n",
       "\n",
       "Warnings:\n",
       "[1] Standard Errors assume that the covariance matrix of the errors is correctly specified.\n",
       "[2] The smallest eigenvalue is 1.33e-29. This might indicate that there are\n",
       "strong multicollinearity problems or that the design matrix is singular.\n",
       "\"\"\""
      ]
     },
     "execution_count": 362,
     "metadata": {},
     "output_type": "execute_result"
    }
   ],
   "source": [
    "# Evaluate the model with .summary()\n",
    "results.summary()"
   ]
  },
  {
   "cell_type": "markdown",
   "metadata": {},
   "source": [
    "The OLS model Adjusted $R^2$ is 0.989 a significant improvement over the physics-based model that had an Adjusted $R^2$ of 0.93."
   ]
  },
  {
   "cell_type": "code",
   "execution_count": 363,
   "metadata": {},
   "outputs": [],
   "source": [
    "# Using the new model to make predictions of the dependent variable y. Use predict(), and plug in X_test as the parameter\n",
    "\n",
    "\n",
    "y_pred_ols = results.predict(X_test)"
   ]
  },
  {
   "cell_type": "code",
   "execution_count": 364,
   "metadata": {},
   "outputs": [
    {
     "data": {
      "image/png": "[encoded data removed]",
      "text/plain": [
       "<Figure size 432x288 with 1 Axes>"
      ]
     },
     "metadata": {
      "needs_background": "light"
     },
     "output_type": "display_data"
    }
   ],
   "source": [
    "# Plot the predictions\n",
    "# Build a scatterplot\n",
    "_ = plt.scatter(y_test, y_pred_ols, color ='b', label='model prediction') \n",
    "\n",
    "\n",
    "\n",
    "# Add a line for perfect correlation. Can you see what this line is doing? Use plot()\n",
    "\n",
    "_ = plt.plot([300,3000], [300,3000], color ='r', label='perfect correlation') \n",
    "\n",
    "# Label it nicely\n",
    "\n",
    "_ = plt.xlabel('Power_test')\n",
    "_ = plt.ylabel('Power_prediction') \n",
    "_ = plt.axis('equal')\n",
    "_ = plt.legend()\n",
    "\n",
    "plt.show()"
   ]
  },
  {
   "cell_type": "code",
   "execution_count": 365,
   "metadata": {},
   "outputs": [
    {
     "data": {
      "text/plain": [
       "[0.5800000000000003, 0.9014293307826042]"
      ]
     },
     "execution_count": 365,
     "metadata": {},
     "output_type": "execute_result"
    },
    {
     "data": {
      "text/plain": [
       "<Figure size 720x504 with 0 Axes>"
      ]
     },
     "metadata": {},
     "output_type": "display_data"
    },
    {
     "data": {
      "image/png": "[encoded data removed]",
      "text/plain": [
       "<Figure size 1008x504 with 2 Axes>"
      ]
     },
     "metadata": {
      "needs_background": "light"
     },
     "output_type": "display_data"
    },
    {
     "data": {
      "text/plain": [
       "<Figure size 504x504 with 0 Axes>"
      ]
     },
     "metadata": {},
     "output_type": "display_data"
    }
   ],
   "source": [
    "# Compare physics-based model with OLS model\n",
    "\n",
    "def comparer(df,y_pred_ols_all,y): \n",
    "    df_test1=df.loc[df['Wind Speed (m/s)']<12 ] #12\n",
    "    df_test=df_test1.loc[df['Real Power (kW)']<2500 ] #2500\n",
    "    x_test_array=np.array(df_test[['Wind Speed (m/s)', 'Ambient Temperature (⁰C)', 'Barometric Pressure (mbar)']].values)\n",
    "    y_test_array=np.array(df_test[['Real Power (kW)']].values)[:,0]\n",
    "    \n",
    "    #from eq. 5\n",
    "    #Note: pressure is multiplied by 100 to convert mbar to Pa\n",
    "    #Note: 273 is added to temperature to convert C to K\n",
    "    \n",
    "    density_estimate=0.0035*(x_test_array[:,2]*100)/(x_test_array[:,1]+273)\n",
    "    cp_array= np.arange(0.3, 0.59, 0.01)\n",
    "    P_est=[]\n",
    "    count=0\n",
    "    vect_adj_R2=[]\n",
    "    \n",
    "    for cp in cp_array:\n",
    "        #from eq. 1\n",
    "        #1/1000 factor multiplication to convert W to kW \n",
    "        P_line=(1/1000)*1/2*cp*np.array(density_estimate)*7.24e3*(np.array(x_test_array[:,0])**3) \n",
    "        P_est.append(P_line)\n",
    "        count=count+1\n",
    "        #estimating  adj_R2\n",
    "        R2=1-((1/len(P_line))*np.sum(np.power((y_test_array-np.array(P_line)),2))/np.var(y_test_array))\n",
    "        adj_R2=1-((1-R2)*(len(P_line)-1)/(len(P_line)-3-1))\n",
    "        vect_adj_R2.append(adj_R2)\n",
    "        \n",
    "        P_est_np=np.array(P_est)\n",
    "        \n",
    "        maxpos = vect_adj_R2.index(max(vect_adj_R2))\n",
    "    \n",
    "    \n",
    "    \n",
    "    #values at rated\n",
    "    df_rated=df.loc[df['Wind Speed (m/s)']>=12 ]\n",
    "    y_test_array_at_rated=np.array(df_rated[['Real Power (kW)']].values)[:,0]\n",
    "    P_phy_model_optCp_at_rated=2500*np.ones(len(y_test_array_at_rated))\n",
    "    \n",
    "    mask=df['Wind Speed (m/s)']>=12\n",
    "    y_rated=y.loc[mask]\n",
    "    y_pred_ols_all_rated=y_pred_ols_all[mask]\n",
    "    #code above for values at rated\n",
    "        \n",
    "    P_phy_model_optCp=(1/1000)*1/2*cp_array[maxpos]*np.array(density_estimate)*7.24e3*(np.array(x_test_array[:,0])**3)\n",
    "    P_phy_model_optCp[P_phy_model_optCp>2500]=2500\n",
    "    \n",
    "    plt.figure(figsize=(10,7))\n",
    "    fig, (ax1, ax2) = plt.subplots(1, 2,figsize=(14,7))\n",
    "    \n",
    "    ax1.plot([100,2700], [100,2700], color ='r', label='perfect correlation')\n",
    "    ax1.scatter(y_test_array,P_phy_model_optCp,color ='b')\n",
    "    ax1.scatter(y_test_array_at_rated,P_phy_model_optCp_at_rated,color ='g')\n",
    "    \n",
    "    ax1.set(xlabel='Real Power (measured) (kW)', ylabel='Estimated Power (kW)', title='Measured vs. Physics-based Model')\n",
    "    ax1.legend(['perfect correlation','model prediction','model prediction_at rated'])\n",
    "    ax1.axis('equal')\n",
    "    \n",
    "    speed_array= np.arange(4, 13, 0.1)\n",
    "    speed_array=np.append(speed_array, 14)\n",
    "    P_phy_model=(1/1000)*1/2*cp_array[maxpos]*np.mean(density_estimate)*7.24e3*(speed_array**3) \n",
    "    speed_array2= np.arange(12, 16.5, 0.1)\n",
    "    P_phy_model2=2500*np.ones(len(speed_array2)) \n",
    "    \n",
    "    plt.figure(figsize=(7,7))\n",
    "    ax2.plot([100,2700], [100,2700], color ='r', label='perfect correlation')\n",
    "    ax2.scatter(y, y_pred_ols_all, color ='b', label='model prediction')\n",
    "    ax2.scatter(y_rated, y_pred_ols_all_rated, color ='g', label='model prediction_at rated')\n",
    "    ax2.set(xlabel='Real Power (measured) (kW)', ylabel='Estimated Power (kW)', title='Measured vs. ML Model')\n",
    "    ax2.legend(['perfect correlation','model prediction','model prediction_at rated'])\n",
    "    ax2.axis('equal')\n",
    "    \n",
    "    output=[cp_array[maxpos], vect_adj_R2[maxpos]]\n",
    "    return output\n",
    "    \n",
    "\n",
    "#predicting all data\n",
    "y_pred_ols_all = results.predict(x_scaled_OLS)\n",
    "    \n",
    "#side-by-side comparison of all data\n",
    "    \n",
    "comparer(df,y_pred_ols_all,y)"
   ]
  },
  {
   "cell_type": "markdown",
   "metadata": {},
   "source": [
    "The prediction improvement is evident in the measured vs. prediction plots. As shown in the left panel, the physics-based model seems to overpredict the power produced in Region II (below rated power), and has worse performance at higher wind speeds (**<font color='blue'> blue dots </font>**). The physics-based model is unable to predict power in Region III (rated power) because the turbine is regulated (**<font color='green'> green dots </font>**). As shown in the right panel, the OLS model is robust enough to predict power even in Region III (**<font color='green'> green dots </font>**). Further, a fitting-based estimate of turbine efficiency $Cp$ was not needed for OLS model prediction."
   ]
  },
  {
   "cell_type": "markdown",
   "metadata": {},
   "source": [
    "#### Checking feature contribution to the model. "
   ]
  },
  {
   "cell_type": "code",
   "execution_count": 366,
   "metadata": {},
   "outputs": [
    {
     "data": {
      "text/html": [
       "<div>\n",
       "<style scoped>\n",
       "    .dataframe tbody tr th:only-of-type {\n",
       "        vertical-align: middle;\n",
       "    }\n",
       "\n",
       "    .dataframe tbody tr th {\n",
       "        vertical-align: top;\n",
       "    }\n",
       "\n",
       "    .dataframe thead th {\n",
       "        text-align: right;\n",
       "    }\n",
       "</style>\n",
       "<table border=\"1\" class=\"dataframe\">\n",
       "  <thead>\n",
       "    <tr style=\"text-align: right;\">\n",
       "      <th></th>\n",
       "      <th>abs linear coeff</th>\n",
       "    </tr>\n",
       "  </thead>\n",
       "  <tbody>\n",
       "    <tr>\n",
       "      <th>Square Wind Speed (m/s)^2</th>\n",
       "      <td>8756.274484</td>\n",
       "    </tr>\n",
       "    <tr>\n",
       "      <th>Cube Wind Speed (m/s)^3</th>\n",
       "      <td>4900.638568</td>\n",
       "    </tr>\n",
       "    <tr>\n",
       "      <th>Wind Speed (m/s)</th>\n",
       "      <td>3501.909110</td>\n",
       "    </tr>\n",
       "    <tr>\n",
       "      <th>Air Temp 76.7m (⁰C)</th>\n",
       "      <td>2369.755820</td>\n",
       "    </tr>\n",
       "    <tr>\n",
       "      <th>Ambient Temperature (⁰C)</th>\n",
       "      <td>1030.172012</td>\n",
       "    </tr>\n",
       "    <tr>\n",
       "      <th>Winter</th>\n",
       "      <td>894.621010</td>\n",
       "    </tr>\n",
       "    <tr>\n",
       "      <th>Summer</th>\n",
       "      <td>894.621010</td>\n",
       "    </tr>\n",
       "    <tr>\n",
       "      <th>Wind Direction 79.1m (⁰)</th>\n",
       "      <td>249.143209</td>\n",
       "    </tr>\n",
       "    <tr>\n",
       "      <th>Std. Wind Speed 79.1m (m/s)</th>\n",
       "      <td>229.722160</td>\n",
       "    </tr>\n",
       "    <tr>\n",
       "      <th>Relative Humidity 76.7m (%)</th>\n",
       "      <td>212.512684</td>\n",
       "    </tr>\n",
       "    <tr>\n",
       "      <th>TI Wind Speed 79.1m (m/s)</th>\n",
       "      <td>211.695096</td>\n",
       "    </tr>\n",
       "    <tr>\n",
       "      <th>High speed</th>\n",
       "      <td>186.029166</td>\n",
       "    </tr>\n",
       "    <tr>\n",
       "      <th>Low speed</th>\n",
       "      <td>186.029166</td>\n",
       "    </tr>\n",
       "    <tr>\n",
       "      <th>Wind Speed 79.1m (m/s)</th>\n",
       "      <td>139.029586</td>\n",
       "    </tr>\n",
       "    <tr>\n",
       "      <th>Std. Wind Speed (m/s)</th>\n",
       "      <td>132.324212</td>\n",
       "    </tr>\n",
       "    <tr>\n",
       "      <th>TI Wind Speed</th>\n",
       "      <td>129.153079</td>\n",
       "    </tr>\n",
       "    <tr>\n",
       "      <th>Square Wind Speed 79.1m (m/s)^2</th>\n",
       "      <td>105.512037</td>\n",
       "    </tr>\n",
       "    <tr>\n",
       "      <th>Cube Wind Speed 79.1m (m/s)^3</th>\n",
       "      <td>105.512037</td>\n",
       "    </tr>\n",
       "    <tr>\n",
       "      <th>Barometric Pressure (mbar)</th>\n",
       "      <td>68.940748</td>\n",
       "    </tr>\n",
       "    <tr>\n",
       "      <th>Inverse Air Temp 76.7m (1/⁰C)</th>\n",
       "      <td>67.493168</td>\n",
       "    </tr>\n",
       "    <tr>\n",
       "      <th>Inverse Ambient Temperature (1/⁰C)</th>\n",
       "      <td>65.243242</td>\n",
       "    </tr>\n",
       "    <tr>\n",
       "      <th>Wind Direction Gradient (⁰)</th>\n",
       "      <td>30.157706</td>\n",
       "    </tr>\n",
       "    <tr>\n",
       "      <th>Wind Speed Gradient (m/s)</th>\n",
       "      <td>18.110016</td>\n",
       "    </tr>\n",
       "    <tr>\n",
       "      <th>Ri_B</th>\n",
       "      <td>11.902376</td>\n",
       "    </tr>\n",
       "    <tr>\n",
       "      <th>Relative Humidity Gradient (%)</th>\n",
       "      <td>5.496651</td>\n",
       "    </tr>\n",
       "    <tr>\n",
       "      <th>Wind Direction (⁰)</th>\n",
       "      <td>3.312486</td>\n",
       "    </tr>\n",
       "    <tr>\n",
       "      <th>Virt. Pot. Temp. Gradient ($^\\circ C$)</th>\n",
       "      <td>2.669430</td>\n",
       "    </tr>\n",
       "  </tbody>\n",
       "</table>\n",
       "</div>"
      ],
      "text/plain": [
       "                                        abs linear coeff\n",
       "Square Wind Speed (m/s)^2                    8756.274484\n",
       "Cube Wind Speed (m/s)^3                      4900.638568\n",
       "Wind Speed (m/s)                             3501.909110\n",
       "Air Temp 76.7m (⁰C)                          2369.755820\n",
       "Ambient Temperature (⁰C)                     1030.172012\n",
       "Winter                                        894.621010\n",
       "Summer                                        894.621010\n",
       "Wind Direction 79.1m (⁰)                      249.143209\n",
       "Std. Wind Speed 79.1m (m/s)                   229.722160\n",
       "Relative Humidity 76.7m (%)                   212.512684\n",
       "TI Wind Speed 79.1m (m/s)                     211.695096\n",
       "High speed                                    186.029166\n",
       "Low speed                                     186.029166\n",
       "Wind Speed 79.1m (m/s)                        139.029586\n",
       "Std. Wind Speed (m/s)                         132.324212\n",
       "TI Wind Speed                                 129.153079\n",
       "Square Wind Speed 79.1m (m/s)^2               105.512037\n",
       "Cube Wind Speed 79.1m (m/s)^3                 105.512037\n",
       "Barometric Pressure (mbar)                     68.940748\n",
       "Inverse Air Temp 76.7m (1/⁰C)                  67.493168\n",
       "Inverse Ambient Temperature (1/⁰C)             65.243242\n",
       "Wind Direction Gradient (⁰)                    30.157706\n",
       "Wind Speed Gradient (m/s)                      18.110016\n",
       "Ri_B                                           11.902376\n",
       "Relative Humidity Gradient (%)                  5.496651\n",
       "Wind Direction (⁰)                              3.312486\n",
       "Virt. Pot. Temp. Gradient ($^\\circ C$)          2.669430"
      ]
     },
     "execution_count": 366,
     "metadata": {},
     "output_type": "execute_result"
    }
   ],
   "source": [
    "feature_names=x.columns.values\n",
    "data=abs(results.params)\n",
    "data=np.array(data)\n",
    "#For retrieving the slope:\n",
    "coeff_df=pd.DataFrame(data[1:29],index=feature_names,columns=['abs linear coeff'])\n",
    "coeff_df.sort_values(by=['abs linear coeff'],ascending=False)"
   ]
  },
  {
   "cell_type": "markdown",
   "metadata": {},
   "source": [
    "The 'square of wind speed' feature has the highest contribution followed by 'cube of wind speed' and 'wind speed'. This is unlike the case of the physics-based model that uses only the 'cube of wind speed' feature, and is independent of wind speed above rated values. Perhaps, a polynomial in the form of various 'wind speed' power creates a robust model that has superior prediction in Region II as well as III. \n",
    "\n",
    "'Air Temperature' measurements are the next significant explanatory variables. This is expected, since air density is a function of temperature. However, the feature associated with pressure is not a significant contributor, perhaps because it does not vary much in proportion numerically. \n",
    "\n",
    "The classification features  that were created to delineate seasons, 'Winter' and 'Summer' follow temperature in terms of contribution. The modelling process reveals their relative importance.\n",
    "\n",
    "The spatial gradient features that were engineered did not seem to have a significant contribution towards prediction.\n",
    "\n"
   ]
  },
  {
   "cell_type": "markdown",
   "metadata": {},
   "source": [
    "**<font color='teal'>  1b. Making the Ordinary Least Squares (OLS) model without features representing measurements on the upstream tower . </font>**"
   ]
  },
  {
   "cell_type": "code",
   "execution_count": 367,
   "metadata": {},
   "outputs": [],
   "source": [
    "x_wo_UpTower = df.drop(['Real Power (kW)'], axis =1)"
   ]
  },
  {
   "cell_type": "code",
   "execution_count": 368,
   "metadata": {},
   "outputs": [
    {
     "data": {
      "text/plain": [
       "Index(['Wind Speed (m/s)', 'Wind Direction (⁰)', 'Ambient Temperature (⁰C)',\n",
       "       'Wind Speed 79.1m (m/s)', 'Wind Direction 79.1m (⁰)',\n",
       "       'Air Temp 76.7m (⁰C)', 'Relative Humidity 76.7m (%)',\n",
       "       'Barometric Pressure (mbar)', 'Wind Speed Gradient (m/s)',\n",
       "       'Wind Direction Gradient (⁰)', 'Virt. Pot. Temp. Gradient ($^\\circ C$)',\n",
       "       'Relative Humidity Gradient (%)', 'Ri_B', 'Summer', 'Winter',\n",
       "       'High speed', 'Low speed', 'Std. Wind Speed (m/s)', 'TI Wind Speed',\n",
       "       'Std. Wind Speed 79.1m (m/s)', 'TI Wind Speed 79.1m (m/s)',\n",
       "       'Square Wind Speed (m/s)^2', 'Cube Wind Speed (m/s)^3',\n",
       "       'Square Wind Speed 79.1m (m/s)^2', 'Cube Wind Speed 79.1m (m/s)^3',\n",
       "       'Inverse Ambient Temperature (1/⁰C)', 'Inverse Air Temp 76.7m (1/⁰C)'],\n",
       "      dtype='object')"
      ]
     },
     "execution_count": 368,
     "metadata": {},
     "output_type": "execute_result"
    }
   ],
   "source": [
    "x_wo_UpTower.columns\n"
   ]
  },
  {
   "cell_type": "code",
   "execution_count": 369,
   "metadata": {},
   "outputs": [],
   "source": [
    "colTodrop=['Wind Speed 79.1m (m/s)', 'Wind Direction 79.1m (⁰)',\n",
    "       'Air Temp 76.7m (⁰C)', 'Relative Humidity 76.7m (%)',\n",
    "       'Barometric Pressure (mbar)', 'Wind Speed Gradient (m/s)',\n",
    "       'Wind Direction Gradient (⁰)', 'Virt. Pot. Temp. Gradient ($^\\circ C$)',\n",
    "       'Relative Humidity Gradient (%)', 'Ri_B','Std. Wind Speed 79.1m (m/s)', 'TI Wind Speed 79.1m (m/s)','Square Wind Speed 79.1m (m/s)^2', 'Cube Wind Speed 79.1m (m/s)^3',\n",
    "       'Inverse Ambient Temperature (1/⁰C)']"
   ]
  },
  {
   "cell_type": "code",
   "execution_count": 370,
   "metadata": {},
   "outputs": [
    {
     "data": {
      "text/plain": [
       "Index(['Wind Speed (m/s)', 'Wind Direction (⁰)', 'Ambient Temperature (⁰C)',\n",
       "       'Summer', 'Winter', 'High speed', 'Low speed', 'Std. Wind Speed (m/s)',\n",
       "       'TI Wind Speed', 'Square Wind Speed (m/s)^2', 'Cube Wind Speed (m/s)^3',\n",
       "       'Inverse Air Temp 76.7m (1/⁰C)'],\n",
       "      dtype='object')"
      ]
     },
     "execution_count": 370,
     "metadata": {},
     "output_type": "execute_result"
    }
   ],
   "source": [
    "x_wo_UpTower = x_wo_UpTower.drop(colTodrop, axis =1)\n",
    "x_wo_UpTower.columns"
   ]
  },
  {
   "cell_type": "code",
   "execution_count": 371,
   "metadata": {},
   "outputs": [],
   "source": [
    "y_wo_UpTower=df['Real Power (kW)']\n",
    "\n",
    "#model perparing steps\n",
    "x_wo_UpTower_scaled=preprocessing.scale(x_wo_UpTower, axis=0, with_mean=True, with_std=True, copy=True)"
   ]
  },
  {
   "cell_type": "code",
   "execution_count": 372,
   "metadata": {},
   "outputs": [],
   "source": [
    "#Adding constant required for processnig OLS\n",
    "x_wo_UpTower_scaled_OLS=sm.add_constant(x_wo_UpTower_scaled)\n",
    "\n",
    "# Split the data using train_test_split()\n",
    "X_train, X_test, y_train, y_test = train_test_split(x_wo_UpTower_scaled_OLS, y, test_size=0.25, random_state=42)"
   ]
  },
  {
   "cell_type": "code",
   "execution_count": 373,
   "metadata": {},
   "outputs": [],
   "source": [
    "# Create the model\n",
    "model_ols_wo = sm.OLS(y_train,X_train)\n",
    "\n",
    "# Fit the model with fit() \n",
    "results_wo=model_ols_wo.fit() "
   ]
  },
  {
   "cell_type": "code",
   "execution_count": 374,
   "metadata": {},
   "outputs": [
    {
     "data": {
      "text/html": [
       "<table class=\"simpletable\">\n",
       "<caption>OLS Regression Results</caption>\n",
       "<tr>\n",
       "  <th>Dep. Variable:</th>     <td>Real Power (kW)</td> <th>  R-squared:         </th> <td>   0.979</td> \n",
       "</tr>\n",
       "<tr>\n",
       "  <th>Model:</th>                   <td>OLS</td>       <th>  Adj. R-squared:    </th> <td>   0.977</td> \n",
       "</tr>\n",
       "<tr>\n",
       "  <th>Method:</th>             <td>Least Squares</td>  <th>  F-statistic:       </th> <td>   770.8</td> \n",
       "</tr>\n",
       "<tr>\n",
       "  <th>Date:</th>             <td>Sat, 07 Nov 2020</td> <th>  Prob (F-statistic):</th> <td>2.27e-135</td>\n",
       "</tr>\n",
       "<tr>\n",
       "  <th>Time:</th>                 <td>19:08:49</td>     <th>  Log-Likelihood:    </th> <td> -1120.5</td> \n",
       "</tr>\n",
       "<tr>\n",
       "  <th>No. Observations:</th>      <td>   180</td>      <th>  AIC:               </th> <td>   2263.</td> \n",
       "</tr>\n",
       "<tr>\n",
       "  <th>Df Residuals:</th>          <td>   169</td>      <th>  BIC:               </th> <td>   2298.</td> \n",
       "</tr>\n",
       "<tr>\n",
       "  <th>Df Model:</th>              <td>    10</td>      <th>                     </th>     <td> </td>    \n",
       "</tr>\n",
       "<tr>\n",
       "  <th>Covariance Type:</th>      <td>nonrobust</td>    <th>                     </th>     <td> </td>    \n",
       "</tr>\n",
       "</table>\n",
       "<table class=\"simpletable\">\n",
       "<tr>\n",
       "    <td></td>       <th>coef</th>     <th>std err</th>      <th>t</th>      <th>P>|t|</th>  <th>[0.025</th>    <th>0.975]</th>  \n",
       "</tr>\n",
       "<tr>\n",
       "  <th>const</th> <td> 1124.6871</td> <td>    9.454</td> <td>  118.969</td> <td> 0.000</td> <td> 1106.025</td> <td> 1143.349</td>\n",
       "</tr>\n",
       "<tr>\n",
       "  <th>x1</th>    <td>-3184.1528</td> <td>  477.078</td> <td>   -6.674</td> <td> 0.000</td> <td>-4125.952</td> <td>-2242.354</td>\n",
       "</tr>\n",
       "<tr>\n",
       "  <th>x2</th>    <td>  -56.2979</td> <td>   37.352</td> <td>   -1.507</td> <td> 0.134</td> <td> -130.034</td> <td>   17.439</td>\n",
       "</tr>\n",
       "<tr>\n",
       "  <th>x3</th>    <td> -549.4046</td> <td>  529.623</td> <td>   -1.037</td> <td> 0.301</td> <td>-1594.934</td> <td>  496.125</td>\n",
       "</tr>\n",
       "<tr>\n",
       "  <th>x4</th>    <td>  273.1672</td> <td>  326.534</td> <td>    0.837</td> <td> 0.404</td> <td> -371.444</td> <td>  917.779</td>\n",
       "</tr>\n",
       "<tr>\n",
       "  <th>x5</th>    <td> -273.1672</td> <td>  326.534</td> <td>   -0.837</td> <td> 0.404</td> <td> -917.779</td> <td>  371.444</td>\n",
       "</tr>\n",
       "<tr>\n",
       "  <th>x6</th>    <td>   41.1064</td> <td>   40.156</td> <td>    1.024</td> <td> 0.307</td> <td>  -38.165</td> <td>  120.378</td>\n",
       "</tr>\n",
       "<tr>\n",
       "  <th>x7</th>    <td>  -41.1064</td> <td>   40.156</td> <td>   -1.024</td> <td> 0.307</td> <td> -120.378</td> <td>   38.165</td>\n",
       "</tr>\n",
       "<tr>\n",
       "  <th>x8</th>    <td> -123.4639</td> <td>   74.582</td> <td>   -1.655</td> <td> 0.100</td> <td> -270.696</td> <td>   23.768</td>\n",
       "</tr>\n",
       "<tr>\n",
       "  <th>x9</th>    <td>  130.5354</td> <td>   68.296</td> <td>    1.911</td> <td> 0.058</td> <td>   -4.289</td> <td>  265.359</td>\n",
       "</tr>\n",
       "<tr>\n",
       "  <th>x10</th>   <td> 8634.8647</td> <td>  973.083</td> <td>    8.874</td> <td> 0.000</td> <td> 6713.901</td> <td> 1.06e+04</td>\n",
       "</tr>\n",
       "<tr>\n",
       "  <th>x11</th>   <td>-4658.4640</td> <td>  498.124</td> <td>   -9.352</td> <td> 0.000</td> <td>-5641.812</td> <td>-3675.116</td>\n",
       "</tr>\n",
       "<tr>\n",
       "  <th>x12</th>   <td>  -52.5139</td> <td>  180.483</td> <td>   -0.291</td> <td> 0.771</td> <td> -408.805</td> <td>  303.777</td>\n",
       "</tr>\n",
       "</table>\n",
       "<table class=\"simpletable\">\n",
       "<tr>\n",
       "  <th>Omnibus:</th>       <td>10.491</td> <th>  Durbin-Watson:     </th> <td>   1.926</td>\n",
       "</tr>\n",
       "<tr>\n",
       "  <th>Prob(Omnibus):</th> <td> 0.005</td> <th>  Jarque-Bera (JB):  </th> <td>  23.844</td>\n",
       "</tr>\n",
       "<tr>\n",
       "  <th>Skew:</th>          <td> 0.063</td> <th>  Prob(JB):          </th> <td>6.64e-06</td>\n",
       "</tr>\n",
       "<tr>\n",
       "  <th>Kurtosis:</th>      <td> 4.779</td> <th>  Cond. No.          </th> <td>1.88e+17</td>\n",
       "</tr>\n",
       "</table><br/><br/>Warnings:<br/>[1] Standard Errors assume that the covariance matrix of the errors is correctly specified.<br/>[2] The smallest eigenvalue is 3.27e-32. This might indicate that there are<br/>strong multicollinearity problems or that the design matrix is singular."
      ],
      "text/plain": [
       "<class 'statsmodels.iolib.summary.Summary'>\n",
       "\"\"\"\n",
       "                            OLS Regression Results                            \n",
       "==============================================================================\n",
       "Dep. Variable:        Real Power (kW)   R-squared:                       0.979\n",
       "Model:                            OLS   Adj. R-squared:                  0.977\n",
       "Method:                 Least Squares   F-statistic:                     770.8\n",
       "Date:                Sat, 07 Nov 2020   Prob (F-statistic):          2.27e-135\n",
       "Time:                        19:08:49   Log-Likelihood:                -1120.5\n",
       "No. Observations:                 180   AIC:                             2263.\n",
       "Df Residuals:                     169   BIC:                             2298.\n",
       "Df Model:                          10                                         \n",
       "Covariance Type:            nonrobust                                         \n",
       "==============================================================================\n",
       "                 coef    std err          t      P>|t|      [0.025      0.975]\n",
       "------------------------------------------------------------------------------\n",
       "const       1124.6871      9.454    118.969      0.000    1106.025    1143.349\n",
       "x1         -3184.1528    477.078     -6.674      0.000   -4125.952   -2242.354\n",
       "x2           -56.2979     37.352     -1.507      0.134    -130.034      17.439\n",
       "x3          -549.4046    529.623     -1.037      0.301   -1594.934     496.125\n",
       "x4           273.1672    326.534      0.837      0.404    -371.444     917.779\n",
       "x5          -273.1672    326.534     -0.837      0.404    -917.779     371.444\n",
       "x6            41.1064     40.156      1.024      0.307     -38.165     120.378\n",
       "x7           -41.1064     40.156     -1.024      0.307    -120.378      38.165\n",
       "x8          -123.4639     74.582     -1.655      0.100    -270.696      23.768\n",
       "x9           130.5354     68.296      1.911      0.058      -4.289     265.359\n",
       "x10         8634.8647    973.083      8.874      0.000    6713.901    1.06e+04\n",
       "x11        -4658.4640    498.124     -9.352      0.000   -5641.812   -3675.116\n",
       "x12          -52.5139    180.483     -0.291      0.771    -408.805     303.777\n",
       "==============================================================================\n",
       "Omnibus:                       10.491   Durbin-Watson:                   1.926\n",
       "Prob(Omnibus):                  0.005   Jarque-Bera (JB):               23.844\n",
       "Skew:                           0.063   Prob(JB):                     6.64e-06\n",
       "Kurtosis:                       4.779   Cond. No.                     1.88e+17\n",
       "==============================================================================\n",
       "\n",
       "Warnings:\n",
       "[1] Standard Errors assume that the covariance matrix of the errors is correctly specified.\n",
       "[2] The smallest eigenvalue is 3.27e-32. This might indicate that there are\n",
       "strong multicollinearity problems or that the design matrix is singular.\n",
       "\"\"\""
      ]
     },
     "execution_count": 374,
     "metadata": {},
     "output_type": "execute_result"
    }
   ],
   "source": [
    "# Evaluate the model with .summary()\n",
    "results_wo.summary()"
   ]
  },
  {
   "cell_type": "code",
   "execution_count": 375,
   "metadata": {},
   "outputs": [],
   "source": [
    "# Using the new model to make predictions of the dependent variable y. Use predict(), and plug in X_test as the parameter\n",
    "\n",
    "\n",
    "y_pred_ols_wo = results_wo.predict(X_test)"
   ]
  },
  {
   "cell_type": "code",
   "execution_count": 376,
   "metadata": {},
   "outputs": [
    {
     "data": {
      "text/plain": [
       "(81.50749999999991, 3138.9758333333334, 73.5513476987112, 3139.354697728633)"
      ]
     },
     "execution_count": 376,
     "metadata": {},
     "output_type": "execute_result"
    },
    {
     "data": {
      "text/plain": [
       "<Figure size 720x504 with 0 Axes>"
      ]
     },
     "metadata": {},
     "output_type": "display_data"
    },
    {
     "data": {
      "image/png": "[encoded data removed]",
      "text/plain": [
       "<Figure size 1008x504 with 2 Axes>"
      ]
     },
     "metadata": {
      "needs_background": "light"
     },
     "output_type": "display_data"
    }
   ],
   "source": [
    "# Plot the predictions\n",
    "# Build a scatterplot\n",
    "\n",
    "plt.figure(figsize=(10,7))\n",
    "fig, (ax1, ax2) = plt.subplots(1, 2,figsize=(14,7))\n",
    "    \n",
    "ax1.scatter(y_test, y_pred_ols, color ='b', label='model prediction')\n",
    "ax1.plot([300,3000], [300,3000], color ='r', label='perfect correlation') \n",
    "    \n",
    "ax1.set(xlabel='Power_test', ylabel='Power_prediction', title='All Features')\n",
    "ax1.legend(['perfect correlation','model prediction'])\n",
    "ax1.axis('equal')\n",
    "    \n",
    "\n",
    "ax2.scatter(y_test, y_pred_ols_wo, color ='b', label='model prediction')\n",
    "ax2.plot([300,3000], [300,3000], color ='r', label='perfect correlation') \n",
    "    \n",
    "ax2.set(xlabel='Power_test', ylabel='Power_prediction', title='Without Upstream Features')\n",
    "ax2.legend(['perfect correlation','model prediction',])\n",
    "ax2.axis('equal')\n",
    "    \n"
   ]
  },
  {
   "cell_type": "code",
   "execution_count": 377,
   "metadata": {},
   "outputs": [
    {
     "data": {
      "text/plain": [
       "[0.5800000000000003, 0.9014293307826042]"
      ]
     },
     "execution_count": 377,
     "metadata": {},
     "output_type": "execute_result"
    },
    {
     "data": {
      "text/plain": [
       "<Figure size 720x504 with 0 Axes>"
      ]
     },
     "metadata": {},
     "output_type": "display_data"
    },
    {
     "data": {
      "image/png": "[encoded data removed]",
      "text/plain": [
       "<Figure size 1008x504 with 2 Axes>"
      ]
     },
     "metadata": {
      "needs_background": "light"
     },
     "output_type": "display_data"
    },
    {
     "data": {
      "text/plain": [
       "<Figure size 504x504 with 0 Axes>"
      ]
     },
     "metadata": {},
     "output_type": "display_data"
    }
   ],
   "source": [
    "# Compare physics-based model with OLS model created using limited features \n",
    "\n",
    "#predicting all data\n",
    "y_pred_ols_wo_all = results_wo.predict(x_wo_UpTower_scaled_OLS)\n",
    "    \n",
    "#side-by-side comparison of all data \n",
    "    \n",
    "comparer(df,y_pred_ols_wo_all,y)"
   ]
  },
  {
   "cell_type": "markdown",
   "metadata": {},
   "source": [
    "#### Checking feature contribution to the model. "
   ]
  },
  {
   "cell_type": "code",
   "execution_count": 378,
   "metadata": {},
   "outputs": [
    {
     "data": {
      "text/html": [
       "<div>\n",
       "<style scoped>\n",
       "    .dataframe tbody tr th:only-of-type {\n",
       "        vertical-align: middle;\n",
       "    }\n",
       "\n",
       "    .dataframe tbody tr th {\n",
       "        vertical-align: top;\n",
       "    }\n",
       "\n",
       "    .dataframe thead th {\n",
       "        text-align: right;\n",
       "    }\n",
       "</style>\n",
       "<table border=\"1\" class=\"dataframe\">\n",
       "  <thead>\n",
       "    <tr style=\"text-align: right;\">\n",
       "      <th></th>\n",
       "      <th>abs linear coeff</th>\n",
       "    </tr>\n",
       "  </thead>\n",
       "  <tbody>\n",
       "    <tr>\n",
       "      <th>Square Wind Speed (m/s)^2</th>\n",
       "      <td>8634.864738</td>\n",
       "    </tr>\n",
       "    <tr>\n",
       "      <th>Cube Wind Speed (m/s)^3</th>\n",
       "      <td>4658.463973</td>\n",
       "    </tr>\n",
       "    <tr>\n",
       "      <th>Wind Speed (m/s)</th>\n",
       "      <td>3184.152838</td>\n",
       "    </tr>\n",
       "    <tr>\n",
       "      <th>Ambient Temperature (⁰C)</th>\n",
       "      <td>549.404552</td>\n",
       "    </tr>\n",
       "    <tr>\n",
       "      <th>Winter</th>\n",
       "      <td>273.167160</td>\n",
       "    </tr>\n",
       "    <tr>\n",
       "      <th>Summer</th>\n",
       "      <td>273.167160</td>\n",
       "    </tr>\n",
       "    <tr>\n",
       "      <th>TI Wind Speed</th>\n",
       "      <td>130.535358</td>\n",
       "    </tr>\n",
       "    <tr>\n",
       "      <th>Std. Wind Speed (m/s)</th>\n",
       "      <td>123.463946</td>\n",
       "    </tr>\n",
       "    <tr>\n",
       "      <th>Wind Direction (⁰)</th>\n",
       "      <td>56.297909</td>\n",
       "    </tr>\n",
       "    <tr>\n",
       "      <th>Inverse Air Temp 76.7m (1/⁰C)</th>\n",
       "      <td>52.513854</td>\n",
       "    </tr>\n",
       "    <tr>\n",
       "      <th>High speed</th>\n",
       "      <td>41.106436</td>\n",
       "    </tr>\n",
       "    <tr>\n",
       "      <th>Low speed</th>\n",
       "      <td>41.106436</td>\n",
       "    </tr>\n",
       "  </tbody>\n",
       "</table>\n",
       "</div>"
      ],
      "text/plain": [
       "                               abs linear coeff\n",
       "Square Wind Speed (m/s)^2           8634.864738\n",
       "Cube Wind Speed (m/s)^3             4658.463973\n",
       "Wind Speed (m/s)                    3184.152838\n",
       "Ambient Temperature (⁰C)             549.404552\n",
       "Winter                               273.167160\n",
       "Summer                               273.167160\n",
       "TI Wind Speed                        130.535358\n",
       "Std. Wind Speed (m/s)                123.463946\n",
       "Wind Direction (⁰)                    56.297909\n",
       "Inverse Air Temp 76.7m (1/⁰C)         52.513854\n",
       "High speed                            41.106436\n",
       "Low speed                             41.106436"
      ]
     },
     "execution_count": 378,
     "metadata": {},
     "output_type": "execute_result"
    }
   ],
   "source": [
    "feature_names_wo=x_wo_UpTower.columns.values\n",
    "data_wo=abs(results_wo.params)\n",
    "data_wo=np.array(data_wo)\n",
    "#For retrieving the slope:\n",
    "coeff_df_wo=pd.DataFrame(data_wo[1:29],index=feature_names_wo,columns=['abs linear coeff'])\n",
    "coeff_df_wo.sort_values(by=['abs linear coeff'],ascending=False)"
   ]
  },
  {
   "cell_type": "markdown",
   "metadata": {},
   "source": [
    "The model built with features limited to typically available measurements, and without any additional measurements from upstream tower has a Adjusted_$R^2=0.977$, is slightly lower than the previous model that had all the features, however still significantly higher than the Adjusted_$R^2=0.93$ of the physics-based model.\n",
    "\n",
    "This model is also able to make prediction in turbine operation Region III that corresponds to rated power.\n",
    "\n",
    "Further, the relative feature contribution to the model is similar to the previous OLS model. "
   ]
  },
  {
   "cell_type": "markdown",
   "metadata": {},
   "source": [
    "**<font color='teal'>  2a. Making the Random Forest Regressor model with all features. </font>**"
   ]
  },
  {
   "cell_type": "code",
   "execution_count": 436,
   "metadata": {},
   "outputs": [],
   "source": [
    "#Preparing data\n",
    "\n",
    "x = df.drop(['Real Power (kW)'], axis =1)\n",
    "y=df['Real Power (kW)']\n",
    "\n",
    "x_scaled=preprocessing.scale(x, axis=0, with_mean=True, with_std=True, copy=True)\n",
    "X_train, X_test, y_train, y_test = train_test_split(x_scaled, y, test_size=0.25)"
   ]
  },
  {
   "cell_type": "code",
   "execution_count": 437,
   "metadata": {},
   "outputs": [
    {
     "data": {
      "text/plain": [
       "0.9793819707190449"
      ]
     },
     "execution_count": 437,
     "metadata": {},
     "output_type": "execute_result"
    }
   ],
   "source": [
    "# Creating the RandomForestRegressor model\n",
    "\n",
    "from sklearn.ensemble import RandomForestRegressor\n",
    "regressor = RandomForestRegressor(random_state=1, n_estimators=10)\n",
    "regressor.fit(X_train, y_train)\n",
    "regressor.score(X_test, y_test)"
   ]
  },
  {
   "cell_type": "code",
   "execution_count": 438,
   "metadata": {},
   "outputs": [],
   "source": [
    "# Preparing framework for Bayesian Optimization\n",
    "\n",
    "def train_model(n_estimators, \n",
    "                max_depth,\n",
    "                min_samples_split, \n",
    "                min_samples_leaf \n",
    "                ):\n",
    "\n",
    "    params = {\n",
    "        'n_estimators': int(n_estimators),\n",
    "        'max_depth': int(max_depth),\n",
    "        'min_samples_split': int(min_samples_split),\n",
    "        'min_samples_leaf':int(min_samples_leaf)\n",
    "        }\n",
    "    model = RandomForestRegressor(**params)\n",
    "    model.fit(X_train, y_train)\n",
    "    return model.score(X_test, y_test)"
   ]
  },
  {
   "cell_type": "code",
   "execution_count": 439,
   "metadata": {},
   "outputs": [],
   "source": [
    "bounds = {\n",
    "    'n_estimators':(10,400),\n",
    "    'max_depth':(5,20),\n",
    "    'min_samples_split': (2,10),\n",
    "    'min_samples_leaf':(1,10)\n",
    "}"
   ]
  },
  {
   "cell_type": "code",
   "execution_count": 440,
   "metadata": {},
   "outputs": [
    {
     "name": "stdout",
     "output_type": "stream",
     "text": [
      "|   iter    |  target   | max_depth | min_sa... | min_sa... | n_esti... |\n",
      "-------------------------------------------------------------------------\n",
      "| \u001b[0m 1       \u001b[0m | \u001b[0m 0.9744  \u001b[0m | \u001b[0m 11.26   \u001b[0m | \u001b[0m 7.483   \u001b[0m | \u001b[0m 2.001   \u001b[0m | \u001b[0m 127.9   \u001b[0m |\n",
      "| \u001b[95m 2       \u001b[0m | \u001b[95m 0.9792  \u001b[0m | \u001b[95m 7.201   \u001b[0m | \u001b[95m 1.831   \u001b[0m | \u001b[95m 3.49    \u001b[0m | \u001b[95m 144.8   \u001b[0m |\n",
      "| \u001b[0m 3       \u001b[0m | \u001b[0m 0.9765  \u001b[0m | \u001b[0m 10.95   \u001b[0m | \u001b[0m 5.849   \u001b[0m | \u001b[0m 5.354   \u001b[0m | \u001b[0m 277.2   \u001b[0m |\n",
      "| \u001b[0m 4       \u001b[0m | \u001b[0m 0.9728  \u001b[0m | \u001b[0m 8.067   \u001b[0m | \u001b[0m 8.903   \u001b[0m | \u001b[0m 2.219   \u001b[0m | \u001b[0m 271.5   \u001b[0m |\n",
      "| \u001b[0m 5       \u001b[0m | \u001b[0m 0.9754  \u001b[0m | \u001b[0m 11.26   \u001b[0m | \u001b[0m 6.028   \u001b[0m | \u001b[0m 3.123   \u001b[0m | \u001b[0m 87.26   \u001b[0m |\n",
      "| \u001b[0m 6       \u001b[0m | \u001b[0m 0.9727  \u001b[0m | \u001b[0m 17.01   \u001b[0m | \u001b[0m 9.714   \u001b[0m | \u001b[0m 4.507   \u001b[0m | \u001b[0m 280.0   \u001b[0m |\n",
      "| \u001b[0m 7       \u001b[0m | \u001b[0m 0.9747  \u001b[0m | \u001b[0m 18.15   \u001b[0m | \u001b[0m 9.051   \u001b[0m | \u001b[0m 2.68    \u001b[0m | \u001b[0m 25.23   \u001b[0m |\n",
      "| \u001b[0m 8       \u001b[0m | \u001b[0m 0.9726  \u001b[0m | \u001b[0m 7.547   \u001b[0m | \u001b[0m 8.903   \u001b[0m | \u001b[0m 2.787   \u001b[0m | \u001b[0m 174.2   \u001b[0m |\n",
      "| \u001b[0m 9       \u001b[0m | \u001b[0m 0.9767  \u001b[0m | \u001b[0m 19.37   \u001b[0m | \u001b[0m 5.798   \u001b[0m | \u001b[0m 7.535   \u001b[0m | \u001b[0m 133.1   \u001b[0m |\n",
      "| \u001b[0m 10      \u001b[0m | \u001b[0m 0.9737  \u001b[0m | \u001b[0m 15.3    \u001b[0m | \u001b[0m 8.512   \u001b[0m | \u001b[0m 2.146   \u001b[0m | \u001b[0m 302.6   \u001b[0m |\n",
      "| \u001b[0m 11      \u001b[0m | \u001b[0m 0.9745  \u001b[0m | \u001b[0m 19.83   \u001b[0m | \u001b[0m 7.733   \u001b[0m | \u001b[0m 4.244   \u001b[0m | \u001b[0m 317.8   \u001b[0m |\n",
      "| \u001b[0m 12      \u001b[0m | \u001b[0m 0.9749  \u001b[0m | \u001b[0m 6.548   \u001b[0m | \u001b[0m 5.031   \u001b[0m | \u001b[0m 9.269   \u001b[0m | \u001b[0m 124.5   \u001b[0m |\n",
      "| \u001b[0m 13      \u001b[0m | \u001b[0m 0.979   \u001b[0m | \u001b[0m 9.317   \u001b[0m | \u001b[0m 2.17    \u001b[0m | \u001b[0m 2.155   \u001b[0m | \u001b[0m 274.7   \u001b[0m |\n",
      "| \u001b[95m 14      \u001b[0m | \u001b[95m 0.9797  \u001b[0m | \u001b[95m 8.174   \u001b[0m | \u001b[95m 3.39    \u001b[0m | \u001b[95m 5.933   \u001b[0m | \u001b[95m 30.81   \u001b[0m |\n",
      "| \u001b[0m 15      \u001b[0m | \u001b[0m 0.9784  \u001b[0m | \u001b[0m 13.61   \u001b[0m | \u001b[0m 2.321   \u001b[0m | \u001b[0m 6.714   \u001b[0m | \u001b[0m 282.9   \u001b[0m |\n",
      "| \u001b[0m 16      \u001b[0m | \u001b[0m 0.9772  \u001b[0m | \u001b[0m 6.535   \u001b[0m | \u001b[0m 4.727   \u001b[0m | \u001b[0m 7.555   \u001b[0m | \u001b[0m 171.5   \u001b[0m |\n",
      "| \u001b[0m 17      \u001b[0m | \u001b[0m 0.9763  \u001b[0m | \u001b[0m 5.749   \u001b[0m | \u001b[0m 5.823   \u001b[0m | \u001b[0m 7.31    \u001b[0m | \u001b[0m 210.8   \u001b[0m |\n",
      "| \u001b[0m 18      \u001b[0m | \u001b[0m 0.9742  \u001b[0m | \u001b[0m 19.17   \u001b[0m | \u001b[0m 6.279   \u001b[0m | \u001b[0m 9.227   \u001b[0m | \u001b[0m 63.62   \u001b[0m |\n",
      "| \u001b[0m 19      \u001b[0m | \u001b[0m 0.9746  \u001b[0m | \u001b[0m 7.089   \u001b[0m | \u001b[0m 8.267   \u001b[0m | \u001b[0m 5.181   \u001b[0m | \u001b[0m 74.49   \u001b[0m |\n",
      "| \u001b[0m 20      \u001b[0m | \u001b[0m 0.9767  \u001b[0m | \u001b[0m 18.91   \u001b[0m | \u001b[0m 4.13    \u001b[0m | \u001b[0m 8.006   \u001b[0m | \u001b[0m 293.1   \u001b[0m |\n",
      "| \u001b[0m 21      \u001b[0m | \u001b[0m 0.9748  \u001b[0m | \u001b[0m 18.25   \u001b[0m | \u001b[0m 6.613   \u001b[0m | \u001b[0m 8.008   \u001b[0m | \u001b[0m 146.1   \u001b[0m |\n",
      "| \u001b[0m 22      \u001b[0m | \u001b[0m 0.9723  \u001b[0m | \u001b[0m 9.049   \u001b[0m | \u001b[0m 9.063   \u001b[0m | \u001b[0m 5.425   \u001b[0m | \u001b[0m 386.3   \u001b[0m |\n",
      "| \u001b[0m 23      \u001b[0m | \u001b[0m 0.9753  \u001b[0m | \u001b[0m 14.95   \u001b[0m | \u001b[0m 6.595   \u001b[0m | \u001b[0m 2.918   \u001b[0m | \u001b[0m 380.3   \u001b[0m |\n",
      "| \u001b[0m 24      \u001b[0m | \u001b[0m 0.9755  \u001b[0m | \u001b[0m 11.75   \u001b[0m | \u001b[0m 6.206   \u001b[0m | \u001b[0m 5.265   \u001b[0m | \u001b[0m 102.4   \u001b[0m |\n",
      "| \u001b[0m 25      \u001b[0m | \u001b[0m 0.9756  \u001b[0m | \u001b[0m 18.55   \u001b[0m | \u001b[0m 6.163   \u001b[0m | \u001b[0m 2.023   \u001b[0m | \u001b[0m 250.7   \u001b[0m |\n",
      "| \u001b[0m 26      \u001b[0m | \u001b[0m 0.9779  \u001b[0m | \u001b[0m 9.9     \u001b[0m | \u001b[0m 5.744   \u001b[0m | \u001b[0m 9.088   \u001b[0m | \u001b[0m 149.3   \u001b[0m |\n",
      "| \u001b[0m 27      \u001b[0m | \u001b[0m 0.9757  \u001b[0m | \u001b[0m 18.63   \u001b[0m | \u001b[0m 6.61    \u001b[0m | \u001b[0m 2.127   \u001b[0m | \u001b[0m 372.5   \u001b[0m |\n",
      "| \u001b[0m 28      \u001b[0m | \u001b[0m 0.9727  \u001b[0m | \u001b[0m 15.36   \u001b[0m | \u001b[0m 9.976   \u001b[0m | \u001b[0m 3.379   \u001b[0m | \u001b[0m 63.48   \u001b[0m |\n",
      "| \u001b[0m 29      \u001b[0m | \u001b[0m 0.9746  \u001b[0m | \u001b[0m 18.99   \u001b[0m | \u001b[0m 7.271   \u001b[0m | \u001b[0m 2.528   \u001b[0m | \u001b[0m 304.6   \u001b[0m |\n",
      "| \u001b[0m 30      \u001b[0m | \u001b[0m 0.9726  \u001b[0m | \u001b[0m 16.31   \u001b[0m | \u001b[0m 9.307   \u001b[0m | \u001b[0m 7.692   \u001b[0m | \u001b[0m 58.47   \u001b[0m |\n",
      "| \u001b[0m 31      \u001b[0m | \u001b[0m 0.977   \u001b[0m | \u001b[0m 5.298   \u001b[0m | \u001b[0m 1.236   \u001b[0m | \u001b[0m 2.226   \u001b[0m | \u001b[0m 106.0   \u001b[0m |\n",
      "| \u001b[0m 32      \u001b[0m | \u001b[0m 0.977   \u001b[0m | \u001b[0m 17.9    \u001b[0m | \u001b[0m 5.849   \u001b[0m | \u001b[0m 6.423   \u001b[0m | \u001b[0m 338.4   \u001b[0m |\n",
      "| \u001b[0m 33      \u001b[0m | \u001b[0m 0.9777  \u001b[0m | \u001b[0m 6.863   \u001b[0m | \u001b[0m 3.513   \u001b[0m | \u001b[0m 6.686   \u001b[0m | \u001b[0m 388.1   \u001b[0m |\n",
      "| \u001b[0m 34      \u001b[0m | \u001b[0m 0.9774  \u001b[0m | \u001b[0m 13.42   \u001b[0m | \u001b[0m 1.168   \u001b[0m | \u001b[0m 8.405   \u001b[0m | \u001b[0m 100.9   \u001b[0m |\n",
      "| \u001b[0m 35      \u001b[0m | \u001b[0m 0.9775  \u001b[0m | \u001b[0m 17.11   \u001b[0m | \u001b[0m 4.491   \u001b[0m | \u001b[0m 8.908   \u001b[0m | \u001b[0m 301.4   \u001b[0m |\n",
      "| \u001b[0m 36      \u001b[0m | \u001b[0m 0.9791  \u001b[0m | \u001b[0m 13.34   \u001b[0m | \u001b[0m 2.228   \u001b[0m | \u001b[0m 2.479   \u001b[0m | \u001b[0m 57.32   \u001b[0m |\n",
      "| \u001b[0m 37      \u001b[0m | \u001b[0m 0.9774  \u001b[0m | \u001b[0m 5.668   \u001b[0m | \u001b[0m 1.967   \u001b[0m | \u001b[0m 3.806   \u001b[0m | \u001b[0m 288.1   \u001b[0m |\n",
      "| \u001b[0m 38      \u001b[0m | \u001b[0m 0.9771  \u001b[0m | \u001b[0m 13.4    \u001b[0m | \u001b[0m 1.113   \u001b[0m | \u001b[0m 2.576   \u001b[0m | \u001b[0m 387.2   \u001b[0m |\n",
      "| \u001b[0m 39      \u001b[0m | \u001b[0m 0.9777  \u001b[0m | \u001b[0m 13.52   \u001b[0m | \u001b[0m 2.83    \u001b[0m | \u001b[0m 4.019   \u001b[0m | \u001b[0m 300.1   \u001b[0m |\n",
      "| \u001b[0m 40      \u001b[0m | \u001b[0m 0.9747  \u001b[0m | \u001b[0m 7.931   \u001b[0m | \u001b[0m 6.232   \u001b[0m | \u001b[0m 9.76    \u001b[0m | \u001b[0m 340.3   \u001b[0m |\n",
      "| \u001b[0m 41      \u001b[0m | \u001b[0m 0.9767  \u001b[0m | \u001b[0m 8.598   \u001b[0m | \u001b[0m 5.444   \u001b[0m | \u001b[0m 6.96    \u001b[0m | \u001b[0m 333.3   \u001b[0m |\n",
      "| \u001b[0m 42      \u001b[0m | \u001b[0m 0.9775  \u001b[0m | \u001b[0m 7.352   \u001b[0m | \u001b[0m 1.167   \u001b[0m | \u001b[0m 2.56    \u001b[0m | \u001b[0m 199.7   \u001b[0m |\n",
      "| \u001b[0m 43      \u001b[0m | \u001b[0m 0.9741  \u001b[0m | \u001b[0m 14.09   \u001b[0m | \u001b[0m 6.12    \u001b[0m | \u001b[0m 4.539   \u001b[0m | \u001b[0m 395.6   \u001b[0m |\n",
      "| \u001b[0m 44      \u001b[0m | \u001b[0m 0.9779  \u001b[0m | \u001b[0m 13.7    \u001b[0m | \u001b[0m 4.421   \u001b[0m | \u001b[0m 6.408   \u001b[0m | \u001b[0m 300.7   \u001b[0m |\n",
      "| \u001b[0m 45      \u001b[0m | \u001b[0m 0.9772  \u001b[0m | \u001b[0m 15.04   \u001b[0m | \u001b[0m 3.384   \u001b[0m | \u001b[0m 2.531   \u001b[0m | \u001b[0m 154.3   \u001b[0m |\n",
      "| \u001b[0m 46      \u001b[0m | \u001b[0m 0.9774  \u001b[0m | \u001b[0m 14.45   \u001b[0m | \u001b[0m 2.892   \u001b[0m | \u001b[0m 8.022   \u001b[0m | \u001b[0m 35.95   \u001b[0m |\n",
      "| \u001b[0m 47      \u001b[0m | \u001b[0m 0.9737  \u001b[0m | \u001b[0m 8.905   \u001b[0m | \u001b[0m 8.243   \u001b[0m | \u001b[0m 3.547   \u001b[0m | \u001b[0m 259.4   \u001b[0m |\n",
      "| \u001b[0m 48      \u001b[0m | \u001b[0m 0.9698  \u001b[0m | \u001b[0m 12.87   \u001b[0m | \u001b[0m 9.323   \u001b[0m | \u001b[0m 4.106   \u001b[0m | \u001b[0m 35.72   \u001b[0m |\n",
      "| \u001b[0m 49      \u001b[0m | \u001b[0m 0.9735  \u001b[0m | \u001b[0m 16.03   \u001b[0m | \u001b[0m 7.95    \u001b[0m | \u001b[0m 9.263   \u001b[0m | \u001b[0m 373.5   \u001b[0m |\n",
      "| \u001b[0m 50      \u001b[0m | \u001b[0m 0.9779  \u001b[0m | \u001b[0m 5.209   \u001b[0m | \u001b[0m 3.109   \u001b[0m | \u001b[0m 6.934   \u001b[0m | \u001b[0m 380.1   \u001b[0m |\n",
      "| \u001b[0m 51      \u001b[0m | \u001b[0m 0.9763  \u001b[0m | \u001b[0m 19.62   \u001b[0m | \u001b[0m 1.112   \u001b[0m | \u001b[0m 8.591   \u001b[0m | \u001b[0m 229.2   \u001b[0m |\n",
      "| \u001b[0m 52      \u001b[0m | \u001b[0m 0.9716  \u001b[0m | \u001b[0m 7.027   \u001b[0m | \u001b[0m 1.041   \u001b[0m | \u001b[0m 7.919   \u001b[0m | \u001b[0m 10.35   \u001b[0m |\n",
      "| \u001b[0m 53      \u001b[0m | \u001b[0m 0.9764  \u001b[0m | \u001b[0m 18.6    \u001b[0m | \u001b[0m 1.118   \u001b[0m | \u001b[0m 2.738   \u001b[0m | \u001b[0m 187.4   \u001b[0m |\n",
      "| \u001b[0m 54      \u001b[0m | \u001b[0m 0.9767  \u001b[0m | \u001b[0m 19.17   \u001b[0m | \u001b[0m 1.055   \u001b[0m | \u001b[0m 9.41    \u001b[0m | \u001b[0m 215.9   \u001b[0m |\n",
      "| \u001b[0m 55      \u001b[0m | \u001b[0m 0.9775  \u001b[0m | \u001b[0m 5.106   \u001b[0m | \u001b[0m 1.031   \u001b[0m | \u001b[0m 6.727   \u001b[0m | \u001b[0m 334.2   \u001b[0m |\n",
      "| \u001b[0m 56      \u001b[0m | \u001b[0m 0.9773  \u001b[0m | \u001b[0m 19.52   \u001b[0m | \u001b[0m 1.136   \u001b[0m | \u001b[0m 2.045   \u001b[0m | \u001b[0m 233.1   \u001b[0m |\n",
      "| \u001b[0m 57      \u001b[0m | \u001b[0m 0.9776  \u001b[0m | \u001b[0m 5.52    \u001b[0m | \u001b[0m 1.085   \u001b[0m | \u001b[0m 9.806   \u001b[0m | \u001b[0m 284.0   \u001b[0m |\n",
      "| \u001b[0m 58      \u001b[0m | \u001b[0m 0.9757  \u001b[0m | \u001b[0m 6.087   \u001b[0m | \u001b[0m 1.061   \u001b[0m | \u001b[0m 9.666   \u001b[0m | \u001b[0m 272.9   \u001b[0m |\n",
      "| \u001b[0m 59      \u001b[0m | \u001b[0m 0.9786  \u001b[0m | \u001b[0m 19.44   \u001b[0m | \u001b[0m 1.163   \u001b[0m | \u001b[0m 2.393   \u001b[0m | \u001b[0m 396.5   \u001b[0m |\n",
      "| \u001b[0m 60      \u001b[0m | \u001b[0m 0.9783  \u001b[0m | \u001b[0m 19.03   \u001b[0m | \u001b[0m 1.116   \u001b[0m | \u001b[0m 2.593   \u001b[0m | \u001b[0m 397.9   \u001b[0m |\n",
      "=========================================================================\n"
     ]
    }
   ],
   "source": [
    "from bayes_opt import BayesianOptimization\n",
    "\n",
    "optimizer = BayesianOptimization(\n",
    "    f=train_model,\n",
    "    pbounds=bounds,\n",
    "    \n",
    "    random_state=1,\n",
    ")\n",
    "optimizer.maximize(init_points=50, n_iter=10)"
   ]
  },
  {
   "cell_type": "markdown",
   "metadata": {},
   "source": [
    " **<font color='teal'> Print the best result by using the '.max' function.</font>**"
   ]
  },
  {
   "cell_type": "code",
   "execution_count": 441,
   "metadata": {},
   "outputs": [
    {
     "data": {
      "text/plain": [
       "{'target': 0.9796788491198688,\n",
       " 'params': {'max_depth': 8.174421740000886,\n",
       "  'min_samples_leaf': 3.389919934350036,\n",
       "  'min_samples_split': 5.932585274242706,\n",
       "  'n_estimators': 30.81139259566135}}"
      ]
     },
     "execution_count": 441,
     "metadata": {},
     "output_type": "execute_result"
    }
   ],
   "source": [
    "optimizer.max"
   ]
  },
  {
   "cell_type": "code",
   "execution_count": 443,
   "metadata": {},
   "outputs": [
    {
     "data": {
      "text/plain": [
       "0.97652760264034"
      ]
     },
     "execution_count": 443,
     "metadata": {},
     "output_type": "execute_result"
    }
   ],
   "source": [
    "regressor = RandomForestRegressor(random_state=1, max_depth=8,\n",
    "  min_samples_leaf= 3,\n",
    "  min_samples_split= 6,\n",
    "  n_estimators= 31)\n",
    "regressor.fit(X_train, y_train)\n",
    "regressor.score(X_test, y_test)"
   ]
  },
  {
   "cell_type": "markdown",
   "metadata": {},
   "source": [
    "**<font color='teal'>  2b. Making the Random Forest Regressor model without upstream tower measuremet features. </font>**"
   ]
  },
  {
   "cell_type": "code",
   "execution_count": 385,
   "metadata": {},
   "outputs": [],
   "source": [
    "#preparing data\n",
    "\n",
    "X_train, X_test, y_train, y_test = train_test_split(x_wo_UpTower_scaled, y, test_size=0.25, random_state=42)"
   ]
  },
  {
   "cell_type": "code",
   "execution_count": 386,
   "metadata": {},
   "outputs": [
    {
     "name": "stdout",
     "output_type": "stream",
     "text": [
      "|   iter    |  target   | max_depth | min_sa... | min_sa... | n_esti... |\n",
      "-------------------------------------------------------------------------\n",
      "| \u001b[0m 1       \u001b[0m | \u001b[0m 0.9725  \u001b[0m | \u001b[0m 11.26   \u001b[0m | \u001b[0m 7.483   \u001b[0m | \u001b[0m 2.001   \u001b[0m | \u001b[0m 127.9   \u001b[0m |\n",
      "| \u001b[95m 2       \u001b[0m | \u001b[95m 0.9725  \u001b[0m | \u001b[95m 7.201   \u001b[0m | \u001b[95m 1.831   \u001b[0m | \u001b[95m 3.49    \u001b[0m | \u001b[95m 144.8   \u001b[0m |\n",
      "| \u001b[95m 3       \u001b[0m | \u001b[95m 0.9745  \u001b[0m | \u001b[95m 10.95   \u001b[0m | \u001b[95m 5.849   \u001b[0m | \u001b[95m 5.354   \u001b[0m | \u001b[95m 277.2   \u001b[0m |\n",
      "| \u001b[0m 4       \u001b[0m | \u001b[0m 0.9722  \u001b[0m | \u001b[0m 8.067   \u001b[0m | \u001b[0m 8.903   \u001b[0m | \u001b[0m 2.219   \u001b[0m | \u001b[0m 271.5   \u001b[0m |\n",
      "| \u001b[0m 5       \u001b[0m | \u001b[0m 0.9726  \u001b[0m | \u001b[0m 11.26   \u001b[0m | \u001b[0m 6.028   \u001b[0m | \u001b[0m 3.123   \u001b[0m | \u001b[0m 87.26   \u001b[0m |\n",
      "| \u001b[0m 6       \u001b[0m | \u001b[0m 0.9707  \u001b[0m | \u001b[0m 17.01   \u001b[0m | \u001b[0m 9.714   \u001b[0m | \u001b[0m 4.507   \u001b[0m | \u001b[0m 280.0   \u001b[0m |\n",
      "| \u001b[0m 7       \u001b[0m | \u001b[0m 0.9674  \u001b[0m | \u001b[0m 18.15   \u001b[0m | \u001b[0m 9.051   \u001b[0m | \u001b[0m 2.68    \u001b[0m | \u001b[0m 25.23   \u001b[0m |\n",
      "| \u001b[0m 8       \u001b[0m | \u001b[0m 0.972   \u001b[0m | \u001b[0m 7.547   \u001b[0m | \u001b[0m 8.903   \u001b[0m | \u001b[0m 2.787   \u001b[0m | \u001b[0m 174.2   \u001b[0m |\n",
      "| \u001b[0m 9       \u001b[0m | \u001b[0m 0.9738  \u001b[0m | \u001b[0m 19.37   \u001b[0m | \u001b[0m 5.798   \u001b[0m | \u001b[0m 7.535   \u001b[0m | \u001b[0m 133.1   \u001b[0m |\n",
      "| \u001b[0m 10      \u001b[0m | \u001b[0m 0.9729  \u001b[0m | \u001b[0m 15.3    \u001b[0m | \u001b[0m 8.512   \u001b[0m | \u001b[0m 2.146   \u001b[0m | \u001b[0m 302.6   \u001b[0m |\n",
      "| \u001b[0m 11      \u001b[0m | \u001b[0m 0.9735  \u001b[0m | \u001b[0m 19.83   \u001b[0m | \u001b[0m 7.733   \u001b[0m | \u001b[0m 4.244   \u001b[0m | \u001b[0m 317.8   \u001b[0m |\n",
      "| \u001b[95m 12      \u001b[0m | \u001b[95m 0.9745  \u001b[0m | \u001b[95m 6.548   \u001b[0m | \u001b[95m 5.031   \u001b[0m | \u001b[95m 9.269   \u001b[0m | \u001b[95m 124.5   \u001b[0m |\n",
      "| \u001b[0m 13      \u001b[0m | \u001b[0m 0.9737  \u001b[0m | \u001b[0m 9.317   \u001b[0m | \u001b[0m 2.17    \u001b[0m | \u001b[0m 2.155   \u001b[0m | \u001b[0m 274.7   \u001b[0m |\n",
      "| \u001b[0m 14      \u001b[0m | \u001b[0m 0.9723  \u001b[0m | \u001b[0m 8.174   \u001b[0m | \u001b[0m 3.39    \u001b[0m | \u001b[0m 5.933   \u001b[0m | \u001b[0m 30.81   \u001b[0m |\n",
      "| \u001b[0m 15      \u001b[0m | \u001b[0m 0.9732  \u001b[0m | \u001b[0m 13.61   \u001b[0m | \u001b[0m 2.321   \u001b[0m | \u001b[0m 6.714   \u001b[0m | \u001b[0m 282.9   \u001b[0m |\n",
      "| \u001b[95m 16      \u001b[0m | \u001b[95m 0.975   \u001b[0m | \u001b[95m 6.535   \u001b[0m | \u001b[95m 4.727   \u001b[0m | \u001b[95m 7.555   \u001b[0m | \u001b[95m 171.5   \u001b[0m |\n",
      "| \u001b[0m 17      \u001b[0m | \u001b[0m 0.9738  \u001b[0m | \u001b[0m 5.749   \u001b[0m | \u001b[0m 5.823   \u001b[0m | \u001b[0m 7.31    \u001b[0m | \u001b[0m 210.8   \u001b[0m |\n",
      "| \u001b[0m 18      \u001b[0m | \u001b[0m 0.9745  \u001b[0m | \u001b[0m 19.17   \u001b[0m | \u001b[0m 6.279   \u001b[0m | \u001b[0m 9.227   \u001b[0m | \u001b[0m 63.62   \u001b[0m |\n",
      "| \u001b[0m 19      \u001b[0m | \u001b[0m 0.9717  \u001b[0m | \u001b[0m 7.089   \u001b[0m | \u001b[0m 8.267   \u001b[0m | \u001b[0m 5.181   \u001b[0m | \u001b[0m 74.49   \u001b[0m |\n",
      "| \u001b[95m 20      \u001b[0m | \u001b[95m 0.9753  \u001b[0m | \u001b[95m 18.91   \u001b[0m | \u001b[95m 4.13    \u001b[0m | \u001b[95m 8.006   \u001b[0m | \u001b[95m 293.1   \u001b[0m |\n",
      "| \u001b[0m 21      \u001b[0m | \u001b[0m 0.9749  \u001b[0m | \u001b[0m 18.25   \u001b[0m | \u001b[0m 6.613   \u001b[0m | \u001b[0m 8.008   \u001b[0m | \u001b[0m 146.1   \u001b[0m |\n",
      "| \u001b[0m 22      \u001b[0m | \u001b[0m 0.9708  \u001b[0m | \u001b[0m 9.049   \u001b[0m | \u001b[0m 9.063   \u001b[0m | \u001b[0m 5.425   \u001b[0m | \u001b[0m 386.3   \u001b[0m |\n",
      "| \u001b[0m 23      \u001b[0m | \u001b[0m 0.9744  \u001b[0m | \u001b[0m 14.95   \u001b[0m | \u001b[0m 6.595   \u001b[0m | \u001b[0m 2.918   \u001b[0m | \u001b[0m 380.3   \u001b[0m |\n",
      "| \u001b[0m 24      \u001b[0m | \u001b[0m 0.9734  \u001b[0m | \u001b[0m 11.75   \u001b[0m | \u001b[0m 6.206   \u001b[0m | \u001b[0m 5.265   \u001b[0m | \u001b[0m 102.4   \u001b[0m |\n",
      "| \u001b[0m 25      \u001b[0m | \u001b[0m 0.9746  \u001b[0m | \u001b[0m 18.55   \u001b[0m | \u001b[0m 6.163   \u001b[0m | \u001b[0m 2.023   \u001b[0m | \u001b[0m 250.7   \u001b[0m |\n",
      "| \u001b[0m 26      \u001b[0m | \u001b[0m 0.975   \u001b[0m | \u001b[0m 9.9     \u001b[0m | \u001b[0m 5.744   \u001b[0m | \u001b[0m 9.088   \u001b[0m | \u001b[0m 149.3   \u001b[0m |\n",
      "| \u001b[0m 27      \u001b[0m | \u001b[0m 0.9734  \u001b[0m | \u001b[0m 18.63   \u001b[0m | \u001b[0m 6.61    \u001b[0m | \u001b[0m 2.127   \u001b[0m | \u001b[0m 372.5   \u001b[0m |\n",
      "| \u001b[0m 28      \u001b[0m | \u001b[0m 0.9691  \u001b[0m | \u001b[0m 15.36   \u001b[0m | \u001b[0m 9.976   \u001b[0m | \u001b[0m 3.379   \u001b[0m | \u001b[0m 63.48   \u001b[0m |\n",
      "| \u001b[0m 29      \u001b[0m | \u001b[0m 0.9732  \u001b[0m | \u001b[0m 18.99   \u001b[0m | \u001b[0m 7.271   \u001b[0m | \u001b[0m 2.528   \u001b[0m | \u001b[0m 304.6   \u001b[0m |\n",
      "| \u001b[0m 30      \u001b[0m | \u001b[0m 0.9696  \u001b[0m | \u001b[0m 16.31   \u001b[0m | \u001b[0m 9.307   \u001b[0m | \u001b[0m 7.692   \u001b[0m | \u001b[0m 58.47   \u001b[0m |\n",
      "| \u001b[0m 31      \u001b[0m | \u001b[0m 0.972   \u001b[0m | \u001b[0m 5.298   \u001b[0m | \u001b[0m 1.236   \u001b[0m | \u001b[0m 2.226   \u001b[0m | \u001b[0m 106.0   \u001b[0m |\n",
      "| \u001b[0m 32      \u001b[0m | \u001b[0m 0.9743  \u001b[0m | \u001b[0m 17.9    \u001b[0m | \u001b[0m 5.849   \u001b[0m | \u001b[0m 6.423   \u001b[0m | \u001b[0m 338.4   \u001b[0m |\n",
      "| \u001b[0m 33      \u001b[0m | \u001b[0m 0.9742  \u001b[0m | \u001b[0m 6.863   \u001b[0m | \u001b[0m 3.513   \u001b[0m | \u001b[0m 6.686   \u001b[0m | \u001b[0m 388.1   \u001b[0m |\n",
      "| \u001b[0m 34      \u001b[0m | \u001b[0m 0.9739  \u001b[0m | \u001b[0m 13.42   \u001b[0m | \u001b[0m 1.168   \u001b[0m | \u001b[0m 8.405   \u001b[0m | \u001b[0m 100.9   \u001b[0m |\n",
      "| \u001b[0m 35      \u001b[0m | \u001b[0m 0.9742  \u001b[0m | \u001b[0m 17.11   \u001b[0m | \u001b[0m 4.491   \u001b[0m | \u001b[0m 8.908   \u001b[0m | \u001b[0m 301.4   \u001b[0m |\n",
      "| \u001b[0m 36      \u001b[0m | \u001b[0m 0.9731  \u001b[0m | \u001b[0m 13.34   \u001b[0m | \u001b[0m 2.228   \u001b[0m | \u001b[0m 2.479   \u001b[0m | \u001b[0m 57.32   \u001b[0m |\n",
      "| \u001b[0m 37      \u001b[0m | \u001b[0m 0.9729  \u001b[0m | \u001b[0m 5.668   \u001b[0m | \u001b[0m 1.967   \u001b[0m | \u001b[0m 3.806   \u001b[0m | \u001b[0m 288.1   \u001b[0m |\n",
      "| \u001b[0m 38      \u001b[0m | \u001b[0m 0.9725  \u001b[0m | \u001b[0m 13.4    \u001b[0m | \u001b[0m 1.113   \u001b[0m | \u001b[0m 2.576   \u001b[0m | \u001b[0m 387.2   \u001b[0m |\n",
      "| \u001b[0m 39      \u001b[0m | \u001b[0m 0.9736  \u001b[0m | \u001b[0m 13.52   \u001b[0m | \u001b[0m 2.83    \u001b[0m | \u001b[0m 4.019   \u001b[0m | \u001b[0m 300.1   \u001b[0m |\n",
      "| \u001b[0m 40      \u001b[0m | \u001b[0m 0.9742  \u001b[0m | \u001b[0m 7.931   \u001b[0m | \u001b[0m 6.232   \u001b[0m | \u001b[0m 9.76    \u001b[0m | \u001b[0m 340.3   \u001b[0m |\n",
      "| \u001b[0m 41      \u001b[0m | \u001b[0m 0.9749  \u001b[0m | \u001b[0m 8.598   \u001b[0m | \u001b[0m 5.444   \u001b[0m | \u001b[0m 6.96    \u001b[0m | \u001b[0m 333.3   \u001b[0m |\n",
      "| \u001b[0m 42      \u001b[0m | \u001b[0m 0.9713  \u001b[0m | \u001b[0m 7.352   \u001b[0m | \u001b[0m 1.167   \u001b[0m | \u001b[0m 2.56    \u001b[0m | \u001b[0m 199.7   \u001b[0m |\n",
      "| \u001b[0m 43      \u001b[0m | \u001b[0m 0.9741  \u001b[0m | \u001b[0m 14.09   \u001b[0m | \u001b[0m 6.12    \u001b[0m | \u001b[0m 4.539   \u001b[0m | \u001b[0m 395.6   \u001b[0m |\n",
      "| \u001b[0m 44      \u001b[0m | \u001b[0m 0.9749  \u001b[0m | \u001b[0m 13.7    \u001b[0m | \u001b[0m 4.421   \u001b[0m | \u001b[0m 6.408   \u001b[0m | \u001b[0m 300.7   \u001b[0m |\n",
      "| \u001b[0m 45      \u001b[0m | \u001b[0m 0.9742  \u001b[0m | \u001b[0m 15.04   \u001b[0m | \u001b[0m 3.384   \u001b[0m | \u001b[0m 2.531   \u001b[0m | \u001b[0m 154.3   \u001b[0m |\n",
      "| \u001b[0m 46      \u001b[0m | \u001b[0m 0.9728  \u001b[0m | \u001b[0m 14.45   \u001b[0m | \u001b[0m 2.892   \u001b[0m | \u001b[0m 8.022   \u001b[0m | \u001b[0m 35.95   \u001b[0m |\n",
      "| \u001b[0m 47      \u001b[0m | \u001b[0m 0.9718  \u001b[0m | \u001b[0m 8.905   \u001b[0m | \u001b[0m 8.243   \u001b[0m | \u001b[0m 3.547   \u001b[0m | \u001b[0m 259.4   \u001b[0m |\n",
      "| \u001b[0m 48      \u001b[0m | \u001b[0m 0.9707  \u001b[0m | \u001b[0m 12.87   \u001b[0m | \u001b[0m 9.323   \u001b[0m | \u001b[0m 4.106   \u001b[0m | \u001b[0m 35.72   \u001b[0m |\n",
      "| \u001b[0m 49      \u001b[0m | \u001b[0m 0.9732  \u001b[0m | \u001b[0m 16.03   \u001b[0m | \u001b[0m 7.95    \u001b[0m | \u001b[0m 9.263   \u001b[0m | \u001b[0m 373.5   \u001b[0m |\n",
      "| \u001b[0m 50      \u001b[0m | \u001b[0m 0.9743  \u001b[0m | \u001b[0m 5.209   \u001b[0m | \u001b[0m 3.109   \u001b[0m | \u001b[0m 6.934   \u001b[0m | \u001b[0m 380.1   \u001b[0m |\n",
      "| \u001b[0m 51      \u001b[0m | \u001b[0m 0.9742  \u001b[0m | \u001b[0m 18.67   \u001b[0m | \u001b[0m 1.392   \u001b[0m | \u001b[0m 9.606   \u001b[0m | \u001b[0m 227.0   \u001b[0m |\n",
      "| \u001b[0m 52      \u001b[0m | \u001b[0m 0.9736  \u001b[0m | \u001b[0m 19.44   \u001b[0m | \u001b[0m 1.024   \u001b[0m | \u001b[0m 9.802   \u001b[0m | \u001b[0m 281.4   \u001b[0m |\n",
      "| \u001b[0m 53      \u001b[0m | \u001b[0m 0.9742  \u001b[0m | \u001b[0m 19.87   \u001b[0m | \u001b[0m 1.377   \u001b[0m | \u001b[0m 9.763   \u001b[0m | \u001b[0m 301.1   \u001b[0m |\n",
      "| \u001b[0m 54      \u001b[0m | \u001b[0m 0.9746  \u001b[0m | \u001b[0m 5.047   \u001b[0m | \u001b[0m 1.16    \u001b[0m | \u001b[0m 9.985   \u001b[0m | \u001b[0m 254.1   \u001b[0m |\n",
      "| \u001b[0m 55      \u001b[0m | \u001b[0m 0.9748  \u001b[0m | \u001b[0m 18.78   \u001b[0m | \u001b[0m 1.007   \u001b[0m | \u001b[0m 9.513   \u001b[0m | \u001b[0m 249.1   \u001b[0m |\n",
      "| \u001b[0m 56      \u001b[0m | \u001b[0m 0.9741  \u001b[0m | \u001b[0m 17.75   \u001b[0m | \u001b[0m 1.079   \u001b[0m | \u001b[0m 9.811   \u001b[0m | \u001b[0m 348.3   \u001b[0m |\n",
      "| \u001b[0m 57      \u001b[0m | \u001b[0m 0.9741  \u001b[0m | \u001b[0m 5.52    \u001b[0m | \u001b[0m 1.085   \u001b[0m | \u001b[0m 9.806   \u001b[0m | \u001b[0m 284.0   \u001b[0m |\n",
      "| \u001b[0m 58      \u001b[0m | \u001b[0m 0.9733  \u001b[0m | \u001b[0m 17.15   \u001b[0m | \u001b[0m 1.324   \u001b[0m | \u001b[0m 9.963   \u001b[0m | \u001b[0m 305.7   \u001b[0m |\n",
      "| \u001b[0m 59      \u001b[0m | \u001b[0m 0.9741  \u001b[0m | \u001b[0m 18.28   \u001b[0m | \u001b[0m 1.413   \u001b[0m | \u001b[0m 9.981   \u001b[0m | \u001b[0m 262.8   \u001b[0m |\n",
      "| \u001b[0m 60      \u001b[0m | \u001b[0m 0.9739  \u001b[0m | \u001b[0m 5.631   \u001b[0m | \u001b[0m 1.043   \u001b[0m | \u001b[0m 9.985   \u001b[0m | \u001b[0m 262.6   \u001b[0m |\n",
      "=========================================================================\n"
     ]
    }
   ],
   "source": [
    "#applying the optimizer\n",
    "\n",
    "optimizer = BayesianOptimization(\n",
    "    f=train_model,\n",
    "    pbounds=bounds,\n",
    "    random_state=1,\n",
    ")\n",
    "optimizer.maximize(init_points=50, n_iter=10)"
   ]
  },
  {
   "cell_type": "code",
   "execution_count": 387,
   "metadata": {},
   "outputs": [
    {
     "data": {
      "text/plain": [
       "{'target': 0.9753306404802536,\n",
       " 'params': {'max_depth': 18.91262870594051,\n",
       "  'min_samples_leaf': 4.129892737709559,\n",
       "  'min_samples_split': 8.006496825089243,\n",
       "  'n_estimators': 293.13921428667607}}"
      ]
     },
     "execution_count": 387,
     "metadata": {},
     "output_type": "execute_result"
    }
   ],
   "source": [
    "optimizer.max"
   ]
  },
  {
   "cell_type": "markdown",
   "metadata": {},
   "source": [
    "### The Random Forest Regressor model's performance is better than the physics-based model, however, is slightly lower than the OLS models for both cases."
   ]
  },
  {
   "cell_type": "markdown",
   "metadata": {},
   "source": [
    "**<font color='teal'>  1c. Building the OLS model for the log Dataframe below to test if it performs any better. </font>** "
   ]
  },
  {
   "cell_type": "code",
   "execution_count": 388,
   "metadata": {},
   "outputs": [],
   "source": [
    "#preparing data\n",
    "\n",
    "x_scaled_OLS_log=sm.add_constant(x_scaled_log)\n",
    "\n",
    "X_train_log, X_test_log, y_train_log, y_test_log = train_test_split(x_scaled_OLS_log, y_log, test_size=0.25)"
   ]
  },
  {
   "cell_type": "code",
   "execution_count": 389,
   "metadata": {},
   "outputs": [],
   "source": [
    "# Create the model\n",
    "model_ols_log = sm.OLS(y_train_log,X_train_log)\n",
    "\n",
    "# Fit the model with fit() \n",
    "results=model_ols_log.fit() "
   ]
  },
  {
   "cell_type": "code",
   "execution_count": 390,
   "metadata": {},
   "outputs": [
    {
     "data": {
      "text/html": [
       "<table class=\"simpletable\">\n",
       "<caption>OLS Regression Results</caption>\n",
       "<tr>\n",
       "  <th>Dep. Variable:</th>     <td>Real Power (kW)</td> <th>  R-squared:         </th> <td>   0.984</td> \n",
       "</tr>\n",
       "<tr>\n",
       "  <th>Model:</th>                   <td>OLS</td>       <th>  Adj. R-squared:    </th> <td>   0.982</td> \n",
       "</tr>\n",
       "<tr>\n",
       "  <th>Method:</th>             <td>Least Squares</td>  <th>  F-statistic:       </th> <td>   537.3</td> \n",
       "</tr>\n",
       "<tr>\n",
       "  <th>Date:</th>             <td>Sat, 07 Nov 2020</td> <th>  Prob (F-statistic):</th> <td>1.03e-133</td>\n",
       "</tr>\n",
       "<tr>\n",
       "  <th>Time:</th>                 <td>19:09:27</td>     <th>  Log-Likelihood:    </th> <td>  286.10</td> \n",
       "</tr>\n",
       "<tr>\n",
       "  <th>No. Observations:</th>      <td>   180</td>      <th>  AIC:               </th> <td>  -534.2</td> \n",
       "</tr>\n",
       "<tr>\n",
       "  <th>Df Residuals:</th>          <td>   161</td>      <th>  BIC:               </th> <td>  -473.5</td> \n",
       "</tr>\n",
       "<tr>\n",
       "  <th>Df Model:</th>              <td>    18</td>      <th>                     </th>     <td> </td>    \n",
       "</tr>\n",
       "<tr>\n",
       "  <th>Covariance Type:</th>      <td>nonrobust</td>    <th>                     </th>     <td> </td>    \n",
       "</tr>\n",
       "</table>\n",
       "<table class=\"simpletable\">\n",
       "<tr>\n",
       "    <td></td>       <th>coef</th>     <th>std err</th>      <th>t</th>      <th>P>|t|</th>  <th>[0.025</th>    <th>0.975]</th>  \n",
       "</tr>\n",
       "<tr>\n",
       "  <th>const</th> <td>    2.9005</td> <td>    0.004</td> <td>  737.457</td> <td> 0.000</td> <td>    2.893</td> <td>    2.908</td>\n",
       "</tr>\n",
       "<tr>\n",
       "  <th>x1</th>    <td>    0.1065</td> <td>    0.009</td> <td>   12.010</td> <td> 0.000</td> <td>    0.089</td> <td>    0.124</td>\n",
       "</tr>\n",
       "<tr>\n",
       "  <th>x2</th>    <td>   -0.0130</td> <td>    0.021</td> <td>   -0.608</td> <td> 0.544</td> <td>   -0.055</td> <td>    0.029</td>\n",
       "</tr>\n",
       "<tr>\n",
       "  <th>x3</th>    <td>   -2.0149</td> <td>    0.771</td> <td>   -2.614</td> <td> 0.010</td> <td>   -3.537</td> <td>   -0.493</td>\n",
       "</tr>\n",
       "<tr>\n",
       "  <th>x4</th>    <td>    0.0045</td> <td>    0.006</td> <td>    0.792</td> <td> 0.429</td> <td>   -0.007</td> <td>    0.016</td>\n",
       "</tr>\n",
       "<tr>\n",
       "  <th>x5</th>    <td>   -0.1371</td> <td>    0.070</td> <td>   -1.968</td> <td> 0.051</td> <td>   -0.275</td> <td>    0.000</td>\n",
       "</tr>\n",
       "<tr>\n",
       "  <th>x6</th>    <td>    2.0882</td> <td>    0.972</td> <td>    2.149</td> <td> 0.033</td> <td>    0.170</td> <td>    4.007</td>\n",
       "</tr>\n",
       "<tr>\n",
       "  <th>x7</th>    <td>    0.1130</td> <td>    0.080</td> <td>    1.417</td> <td> 0.158</td> <td>   -0.044</td> <td>    0.270</td>\n",
       "</tr>\n",
       "<tr>\n",
       "  <th>x8</th>    <td>    0.3599</td> <td>    0.132</td> <td>    2.732</td> <td> 0.007</td> <td>    0.100</td> <td>    0.620</td>\n",
       "</tr>\n",
       "<tr>\n",
       "  <th>x9</th>    <td>   -0.0039</td> <td>    0.006</td> <td>   -0.651</td> <td> 0.516</td> <td>   -0.016</td> <td>    0.008</td>\n",
       "</tr>\n",
       "<tr>\n",
       "  <th>x10</th>   <td>   -0.0175</td> <td>    0.007</td> <td>   -2.433</td> <td> 0.016</td> <td>   -0.032</td> <td>   -0.003</td>\n",
       "</tr>\n",
       "<tr>\n",
       "  <th>x11</th>   <td>    0.0011</td> <td>    0.006</td> <td>    0.164</td> <td> 0.870</td> <td>   -0.012</td> <td>    0.014</td>\n",
       "</tr>\n",
       "<tr>\n",
       "  <th>x12</th>   <td>   -0.0084</td> <td>    0.011</td> <td>   -0.758</td> <td> 0.449</td> <td>   -0.030</td> <td>    0.013</td>\n",
       "</tr>\n",
       "<tr>\n",
       "  <th>x13</th>   <td>    0.1060</td> <td>    0.325</td> <td>    0.326</td> <td> 0.745</td> <td>   -0.536</td> <td>    0.748</td>\n",
       "</tr>\n",
       "<tr>\n",
       "  <th>x14</th>   <td>   -0.1060</td> <td>    0.325</td> <td>   -0.326</td> <td> 0.745</td> <td>   -0.748</td> <td>    0.536</td>\n",
       "</tr>\n",
       "<tr>\n",
       "  <th>x15</th>   <td>    0.1035</td> <td>    0.073</td> <td>    1.428</td> <td> 0.155</td> <td>   -0.040</td> <td>    0.247</td>\n",
       "</tr>\n",
       "<tr>\n",
       "  <th>x16</th>   <td>   -0.1035</td> <td>    0.073</td> <td>   -1.428</td> <td> 0.155</td> <td>   -0.247</td> <td>    0.040</td>\n",
       "</tr>\n",
       "<tr>\n",
       "  <th>x17</th>   <td>    0.0258</td> <td>    0.004</td> <td>    6.336</td> <td> 0.000</td> <td>    0.018</td> <td>    0.034</td>\n",
       "</tr>\n",
       "<tr>\n",
       "  <th>x18</th>   <td>   -0.0109</td> <td>    0.004</td> <td>   -2.632</td> <td> 0.009</td> <td>   -0.019</td> <td>   -0.003</td>\n",
       "</tr>\n",
       "<tr>\n",
       "  <th>x19</th>   <td>   -0.0056</td> <td>    0.008</td> <td>   -0.699</td> <td> 0.486</td> <td>   -0.021</td> <td>    0.010</td>\n",
       "</tr>\n",
       "<tr>\n",
       "  <th>x20</th>   <td>   -0.0078</td> <td>    0.009</td> <td>   -0.844</td> <td> 0.400</td> <td>   -0.026</td> <td>    0.010</td>\n",
       "</tr>\n",
       "<tr>\n",
       "  <th>x21</th>   <td>    0.1065</td> <td>    0.009</td> <td>   12.010</td> <td> 0.000</td> <td>    0.089</td> <td>    0.124</td>\n",
       "</tr>\n",
       "<tr>\n",
       "  <th>x22</th>   <td>    0.1065</td> <td>    0.009</td> <td>   12.010</td> <td> 0.000</td> <td>    0.089</td> <td>    0.124</td>\n",
       "</tr>\n",
       "<tr>\n",
       "  <th>x23</th>   <td>    0.0045</td> <td>    0.006</td> <td>    0.792</td> <td> 0.429</td> <td>   -0.007</td> <td>    0.016</td>\n",
       "</tr>\n",
       "<tr>\n",
       "  <th>x24</th>   <td>    0.0045</td> <td>    0.006</td> <td>    0.792</td> <td> 0.429</td> <td>   -0.007</td> <td>    0.016</td>\n",
       "</tr>\n",
       "<tr>\n",
       "  <th>x25</th>   <td>    0.1245</td> <td>    0.193</td> <td>    0.646</td> <td> 0.519</td> <td>   -0.256</td> <td>    0.505</td>\n",
       "</tr>\n",
       "<tr>\n",
       "  <th>x26</th>   <td>    0.0492</td> <td>    0.258</td> <td>    0.191</td> <td> 0.849</td> <td>   -0.460</td> <td>    0.558</td>\n",
       "</tr>\n",
       "</table>\n",
       "<table class=\"simpletable\">\n",
       "<tr>\n",
       "  <th>Omnibus:</th>       <td> 5.879</td> <th>  Durbin-Watson:     </th> <td>   2.200</td>\n",
       "</tr>\n",
       "<tr>\n",
       "  <th>Prob(Omnibus):</th> <td> 0.053</td> <th>  Jarque-Bera (JB):  </th> <td>   7.197</td>\n",
       "</tr>\n",
       "<tr>\n",
       "  <th>Skew:</th>          <td>-0.218</td> <th>  Prob(JB):          </th> <td>  0.0274</td>\n",
       "</tr>\n",
       "<tr>\n",
       "  <th>Kurtosis:</th>      <td> 3.877</td> <th>  Cond. No.          </th> <td>1.10e+16</td>\n",
       "</tr>\n",
       "</table><br/><br/>Warnings:<br/>[1] Standard Errors assume that the covariance matrix of the errors is correctly specified.<br/>[2] The smallest eigenvalue is 1.84e-29. This might indicate that there are<br/>strong multicollinearity problems or that the design matrix is singular."
      ],
      "text/plain": [
       "<class 'statsmodels.iolib.summary.Summary'>\n",
       "\"\"\"\n",
       "                            OLS Regression Results                            \n",
       "==============================================================================\n",
       "Dep. Variable:        Real Power (kW)   R-squared:                       0.984\n",
       "Model:                            OLS   Adj. R-squared:                  0.982\n",
       "Method:                 Least Squares   F-statistic:                     537.3\n",
       "Date:                Sat, 07 Nov 2020   Prob (F-statistic):          1.03e-133\n",
       "Time:                        19:09:27   Log-Likelihood:                 286.10\n",
       "No. Observations:                 180   AIC:                            -534.2\n",
       "Df Residuals:                     161   BIC:                            -473.5\n",
       "Df Model:                          18                                         \n",
       "Covariance Type:            nonrobust                                         \n",
       "==============================================================================\n",
       "                 coef    std err          t      P>|t|      [0.025      0.975]\n",
       "------------------------------------------------------------------------------\n",
       "const          2.9005      0.004    737.457      0.000       2.893       2.908\n",
       "x1             0.1065      0.009     12.010      0.000       0.089       0.124\n",
       "x2            -0.0130      0.021     -0.608      0.544      -0.055       0.029\n",
       "x3            -2.0149      0.771     -2.614      0.010      -3.537      -0.493\n",
       "x4             0.0045      0.006      0.792      0.429      -0.007       0.016\n",
       "x5            -0.1371      0.070     -1.968      0.051      -0.275       0.000\n",
       "x6             2.0882      0.972      2.149      0.033       0.170       4.007\n",
       "x7             0.1130      0.080      1.417      0.158      -0.044       0.270\n",
       "x8             0.3599      0.132      2.732      0.007       0.100       0.620\n",
       "x9            -0.0039      0.006     -0.651      0.516      -0.016       0.008\n",
       "x10           -0.0175      0.007     -2.433      0.016      -0.032      -0.003\n",
       "x11            0.0011      0.006      0.164      0.870      -0.012       0.014\n",
       "x12           -0.0084      0.011     -0.758      0.449      -0.030       0.013\n",
       "x13            0.1060      0.325      0.326      0.745      -0.536       0.748\n",
       "x14           -0.1060      0.325     -0.326      0.745      -0.748       0.536\n",
       "x15            0.1035      0.073      1.428      0.155      -0.040       0.247\n",
       "x16           -0.1035      0.073     -1.428      0.155      -0.247       0.040\n",
       "x17            0.0258      0.004      6.336      0.000       0.018       0.034\n",
       "x18           -0.0109      0.004     -2.632      0.009      -0.019      -0.003\n",
       "x19           -0.0056      0.008     -0.699      0.486      -0.021       0.010\n",
       "x20           -0.0078      0.009     -0.844      0.400      -0.026       0.010\n",
       "x21            0.1065      0.009     12.010      0.000       0.089       0.124\n",
       "x22            0.1065      0.009     12.010      0.000       0.089       0.124\n",
       "x23            0.0045      0.006      0.792      0.429      -0.007       0.016\n",
       "x24            0.0045      0.006      0.792      0.429      -0.007       0.016\n",
       "x25            0.1245      0.193      0.646      0.519      -0.256       0.505\n",
       "x26            0.0492      0.258      0.191      0.849      -0.460       0.558\n",
       "==============================================================================\n",
       "Omnibus:                        5.879   Durbin-Watson:                   2.200\n",
       "Prob(Omnibus):                  0.053   Jarque-Bera (JB):                7.197\n",
       "Skew:                          -0.218   Prob(JB):                       0.0274\n",
       "Kurtosis:                       3.877   Cond. No.                     1.10e+16\n",
       "==============================================================================\n",
       "\n",
       "Warnings:\n",
       "[1] Standard Errors assume that the covariance matrix of the errors is correctly specified.\n",
       "[2] The smallest eigenvalue is 1.84e-29. This might indicate that there are\n",
       "strong multicollinearity problems or that the design matrix is singular.\n",
       "\"\"\""
      ]
     },
     "execution_count": 390,
     "metadata": {},
     "output_type": "execute_result"
    }
   ],
   "source": [
    "# Evaluate the model with .summary()\n",
    "results.summary()"
   ]
  },
  {
   "cell_type": "markdown",
   "metadata": {},
   "source": [
    "Taking log of the features has not Necessarily improved the model.\n",
    "\n"
   ]
  },
  {
   "cell_type": "code",
   "execution_count": 391,
   "metadata": {},
   "outputs": [
    {
     "data": {
      "text/html": [
       "<div>\n",
       "<style scoped>\n",
       "    .dataframe tbody tr th:only-of-type {\n",
       "        vertical-align: middle;\n",
       "    }\n",
       "\n",
       "    .dataframe tbody tr th {\n",
       "        vertical-align: top;\n",
       "    }\n",
       "\n",
       "    .dataframe thead th {\n",
       "        text-align: right;\n",
       "    }\n",
       "</style>\n",
       "<table border=\"1\" class=\"dataframe\">\n",
       "  <thead>\n",
       "    <tr style=\"text-align: right;\">\n",
       "      <th></th>\n",
       "      <th>abs linear coeff</th>\n",
       "    </tr>\n",
       "  </thead>\n",
       "  <tbody>\n",
       "    <tr>\n",
       "      <th>Air Temp 76.7m (⁰C)</th>\n",
       "      <td>2.088208</td>\n",
       "    </tr>\n",
       "    <tr>\n",
       "      <th>Ambient Temperature (⁰C)</th>\n",
       "      <td>2.014865</td>\n",
       "    </tr>\n",
       "    <tr>\n",
       "      <th>Barometric Pressure (mbar)</th>\n",
       "      <td>0.359926</td>\n",
       "    </tr>\n",
       "    <tr>\n",
       "      <th>Wind Direction 79.1m (⁰)</th>\n",
       "      <td>0.137066</td>\n",
       "    </tr>\n",
       "    <tr>\n",
       "      <th>Inverse Ambient Temperature (1/⁰C)</th>\n",
       "      <td>0.124491</td>\n",
       "    </tr>\n",
       "    <tr>\n",
       "      <th>Relative Humidity 76.7m (%)</th>\n",
       "      <td>0.112962</td>\n",
       "    </tr>\n",
       "    <tr>\n",
       "      <th>Wind Speed (m/s)</th>\n",
       "      <td>0.106543</td>\n",
       "    </tr>\n",
       "    <tr>\n",
       "      <th>Square Wind Speed (m/s)^2</th>\n",
       "      <td>0.106543</td>\n",
       "    </tr>\n",
       "    <tr>\n",
       "      <th>Cube Wind Speed (m/s)^3</th>\n",
       "      <td>0.106543</td>\n",
       "    </tr>\n",
       "    <tr>\n",
       "      <th>Summer</th>\n",
       "      <td>0.106050</td>\n",
       "    </tr>\n",
       "    <tr>\n",
       "      <th>Winter</th>\n",
       "      <td>0.106050</td>\n",
       "    </tr>\n",
       "    <tr>\n",
       "      <th>Low speed</th>\n",
       "      <td>0.103546</td>\n",
       "    </tr>\n",
       "    <tr>\n",
       "      <th>High speed</th>\n",
       "      <td>0.103546</td>\n",
       "    </tr>\n",
       "    <tr>\n",
       "      <th>Inverse Air Temp 76.7m (1/⁰C)</th>\n",
       "      <td>0.049247</td>\n",
       "    </tr>\n",
       "    <tr>\n",
       "      <th>Std. Wind Speed (m/s)</th>\n",
       "      <td>0.025821</td>\n",
       "    </tr>\n",
       "    <tr>\n",
       "      <th>Wind Direction Gradient (⁰)</th>\n",
       "      <td>0.017454</td>\n",
       "    </tr>\n",
       "    <tr>\n",
       "      <th>Wind Direction (⁰)</th>\n",
       "      <td>0.012978</td>\n",
       "    </tr>\n",
       "    <tr>\n",
       "      <th>TI Wind Speed</th>\n",
       "      <td>0.010881</td>\n",
       "    </tr>\n",
       "    <tr>\n",
       "      <th>Relative Humidity Gradient (%)</th>\n",
       "      <td>0.008400</td>\n",
       "    </tr>\n",
       "    <tr>\n",
       "      <th>TI Wind Speed 79.1m (m/s)</th>\n",
       "      <td>0.007759</td>\n",
       "    </tr>\n",
       "    <tr>\n",
       "      <th>Std. Wind Speed 79.1m (m/s)</th>\n",
       "      <td>0.005580</td>\n",
       "    </tr>\n",
       "    <tr>\n",
       "      <th>Cube Wind Speed 79.1m (m/s)^3</th>\n",
       "      <td>0.004494</td>\n",
       "    </tr>\n",
       "    <tr>\n",
       "      <th>Square Wind Speed 79.1m (m/s)^2</th>\n",
       "      <td>0.004494</td>\n",
       "    </tr>\n",
       "    <tr>\n",
       "      <th>Wind Speed 79.1m (m/s)</th>\n",
       "      <td>0.004494</td>\n",
       "    </tr>\n",
       "    <tr>\n",
       "      <th>Wind Speed Gradient (m/s)</th>\n",
       "      <td>0.003898</td>\n",
       "    </tr>\n",
       "    <tr>\n",
       "      <th>Virt. Pot. Temp. Gradient ($^\\circ C$)</th>\n",
       "      <td>0.001061</td>\n",
       "    </tr>\n",
       "  </tbody>\n",
       "</table>\n",
       "</div>"
      ],
      "text/plain": [
       "                                        abs linear coeff\n",
       "Air Temp 76.7m (⁰C)                             2.088208\n",
       "Ambient Temperature (⁰C)                        2.014865\n",
       "Barometric Pressure (mbar)                      0.359926\n",
       "Wind Direction 79.1m (⁰)                        0.137066\n",
       "Inverse Ambient Temperature (1/⁰C)              0.124491\n",
       "Relative Humidity 76.7m (%)                     0.112962\n",
       "Wind Speed (m/s)                                0.106543\n",
       "Square Wind Speed (m/s)^2                       0.106543\n",
       "Cube Wind Speed (m/s)^3                         0.106543\n",
       "Summer                                          0.106050\n",
       "Winter                                          0.106050\n",
       "Low speed                                       0.103546\n",
       "High speed                                      0.103546\n",
       "Inverse Air Temp 76.7m (1/⁰C)                   0.049247\n",
       "Std. Wind Speed (m/s)                           0.025821\n",
       "Wind Direction Gradient (⁰)                     0.017454\n",
       "Wind Direction (⁰)                              0.012978\n",
       "TI Wind Speed                                   0.010881\n",
       "Relative Humidity Gradient (%)                  0.008400\n",
       "TI Wind Speed 79.1m (m/s)                       0.007759\n",
       "Std. Wind Speed 79.1m (m/s)                     0.005580\n",
       "Cube Wind Speed 79.1m (m/s)^3                   0.004494\n",
       "Square Wind Speed 79.1m (m/s)^2                 0.004494\n",
       "Wind Speed 79.1m (m/s)                          0.004494\n",
       "Wind Speed Gradient (m/s)                       0.003898\n",
       "Virt. Pot. Temp. Gradient ($^\\circ C$)          0.001061"
      ]
     },
     "execution_count": 391,
     "metadata": {},
     "output_type": "execute_result"
    }
   ],
   "source": [
    "feature_names=x_log.columns.values\n",
    "data=abs(results.params)\n",
    "data=np.array(data)\n",
    "#For retrieving the slope:\n",
    "coeff_df=pd.DataFrame(data[1:29],index=feature_names,columns=['abs linear coeff'])\n",
    "coeff_df.sort_values(by=['abs linear coeff'],ascending=False)"
   ]
  },
  {
   "cell_type": "markdown",
   "metadata": {},
   "source": [
    "**<font color='teal'>  1d. Building the OLS model OLS with limited features on the log data. </font>** "
   ]
  },
  {
   "cell_type": "code",
   "execution_count": null,
   "metadata": {},
   "outputs": [],
   "source": []
  },
  {
   "cell_type": "code",
   "execution_count": 392,
   "metadata": {},
   "outputs": [],
   "source": [
    "#preparing data\n",
    "\n",
    "x_log_woUP = df_log.drop(['Real Power (kW)'], axis =1)\n",
    "x_log_woUP = x_log_woUP.drop(colTodrop, axis =1)\n",
    "y_log=df_log['Real Power (kW)']\n",
    "\n",
    "x_scaled_log_woUP=preprocessing.scale(x_log_woUP, axis=0, with_mean=True, with_std=True, copy=True)\n",
    "\n"
   ]
  },
  {
   "cell_type": "code",
   "execution_count": 393,
   "metadata": {},
   "outputs": [],
   "source": [
    "x_scaled_OLS_log_woUP=sm.add_constant(x_scaled_log_woUP)\n",
    "\n",
    "X_train_log, X_test_log, y_train_log, y_test_log = train_test_split(x_scaled_OLS_log_woUP, y_log, test_size=0.25)"
   ]
  },
  {
   "cell_type": "code",
   "execution_count": 394,
   "metadata": {},
   "outputs": [],
   "source": [
    "# Create the model\n",
    "model_ols_log_woUP = sm.OLS(y_train_log,X_train_log)\n",
    "\n",
    "# Fit the model with fit() \n",
    "results=model_ols_log_woUP.fit() "
   ]
  },
  {
   "cell_type": "code",
   "execution_count": 395,
   "metadata": {},
   "outputs": [
    {
     "data": {
      "text/html": [
       "<table class=\"simpletable\">\n",
       "<caption>OLS Regression Results</caption>\n",
       "<tr>\n",
       "  <th>Dep. Variable:</th>     <td>Real Power (kW)</td> <th>  R-squared:         </th> <td>   0.982</td> \n",
       "</tr>\n",
       "<tr>\n",
       "  <th>Model:</th>                   <td>OLS</td>       <th>  Adj. R-squared:    </th> <td>   0.981</td> \n",
       "</tr>\n",
       "<tr>\n",
       "  <th>Method:</th>             <td>Least Squares</td>  <th>  F-statistic:       </th> <td>   1311.</td> \n",
       "</tr>\n",
       "<tr>\n",
       "  <th>Date:</th>             <td>Sat, 07 Nov 2020</td> <th>  Prob (F-statistic):</th> <td>1.21e-145</td>\n",
       "</tr>\n",
       "<tr>\n",
       "  <th>Time:</th>                 <td>19:09:27</td>     <th>  Log-Likelihood:    </th> <td>  278.46</td> \n",
       "</tr>\n",
       "<tr>\n",
       "  <th>No. Observations:</th>      <td>   180</td>      <th>  AIC:               </th> <td>  -540.9</td> \n",
       "</tr>\n",
       "<tr>\n",
       "  <th>Df Residuals:</th>          <td>   172</td>      <th>  BIC:               </th> <td>  -515.4</td> \n",
       "</tr>\n",
       "<tr>\n",
       "  <th>Df Model:</th>              <td>     7</td>      <th>                     </th>     <td> </td>    \n",
       "</tr>\n",
       "<tr>\n",
       "  <th>Covariance Type:</th>      <td>nonrobust</td>    <th>                     </th>     <td> </td>    \n",
       "</tr>\n",
       "</table>\n",
       "<table class=\"simpletable\">\n",
       "<tr>\n",
       "    <td></td>       <th>coef</th>     <th>std err</th>      <th>t</th>      <th>P>|t|</th>  <th>[0.025</th>    <th>0.975]</th>  \n",
       "</tr>\n",
       "<tr>\n",
       "  <th>const</th> <td>    2.9007</td> <td>    0.004</td> <td>  734.648</td> <td> 0.000</td> <td>    2.893</td> <td>    2.908</td>\n",
       "</tr>\n",
       "<tr>\n",
       "  <th>x1</th>    <td>    0.1161</td> <td>    0.004</td> <td>   29.411</td> <td> 0.000</td> <td>    0.108</td> <td>    0.124</td>\n",
       "</tr>\n",
       "<tr>\n",
       "  <th>x2</th>    <td>   -0.0066</td> <td>    0.016</td> <td>   -0.407</td> <td> 0.684</td> <td>   -0.038</td> <td>    0.025</td>\n",
       "</tr>\n",
       "<tr>\n",
       "  <th>x3</th>    <td>   -0.0753</td> <td>    0.297</td> <td>   -0.254</td> <td> 0.800</td> <td>   -0.662</td> <td>    0.511</td>\n",
       "</tr>\n",
       "<tr>\n",
       "  <th>x4</th>    <td>    0.0147</td> <td>    0.164</td> <td>    0.090</td> <td> 0.929</td> <td>   -0.308</td> <td>    0.338</td>\n",
       "</tr>\n",
       "<tr>\n",
       "  <th>x5</th>    <td>   -0.0147</td> <td>    0.164</td> <td>   -0.090</td> <td> 0.929</td> <td>   -0.338</td> <td>    0.308</td>\n",
       "</tr>\n",
       "<tr>\n",
       "  <th>x6</th>    <td>    0.0344</td> <td>    0.027</td> <td>    1.271</td> <td> 0.205</td> <td>   -0.019</td> <td>    0.088</td>\n",
       "</tr>\n",
       "<tr>\n",
       "  <th>x7</th>    <td>   -0.0344</td> <td>    0.027</td> <td>   -1.271</td> <td> 0.205</td> <td>   -0.088</td> <td>    0.019</td>\n",
       "</tr>\n",
       "<tr>\n",
       "  <th>x8</th>    <td>    0.0311</td> <td>    0.004</td> <td>    8.393</td> <td> 0.000</td> <td>    0.024</td> <td>    0.038</td>\n",
       "</tr>\n",
       "<tr>\n",
       "  <th>x9</th>    <td>   -0.0081</td> <td>    0.004</td> <td>   -1.957</td> <td> 0.052</td> <td>   -0.016</td> <td> 7.14e-05</td>\n",
       "</tr>\n",
       "<tr>\n",
       "  <th>x10</th>   <td>    0.1161</td> <td>    0.004</td> <td>   29.411</td> <td> 0.000</td> <td>    0.108</td> <td>    0.124</td>\n",
       "</tr>\n",
       "<tr>\n",
       "  <th>x11</th>   <td>    0.1161</td> <td>    0.004</td> <td>   29.411</td> <td> 0.000</td> <td>    0.108</td> <td>    0.124</td>\n",
       "</tr>\n",
       "<tr>\n",
       "  <th>x12</th>   <td>   -0.0669</td> <td>    0.071</td> <td>   -0.947</td> <td> 0.345</td> <td>   -0.206</td> <td>    0.073</td>\n",
       "</tr>\n",
       "</table>\n",
       "<table class=\"simpletable\">\n",
       "<tr>\n",
       "  <th>Omnibus:</th>       <td> 4.701</td> <th>  Durbin-Watson:     </th> <td>   2.005</td>\n",
       "</tr>\n",
       "<tr>\n",
       "  <th>Prob(Omnibus):</th> <td> 0.095</td> <th>  Jarque-Bera (JB):  </th> <td>   5.485</td>\n",
       "</tr>\n",
       "<tr>\n",
       "  <th>Skew:</th>          <td>-0.170</td> <th>  Prob(JB):          </th> <td>  0.0644</td>\n",
       "</tr>\n",
       "<tr>\n",
       "  <th>Kurtosis:</th>      <td> 3.785</td> <th>  Cond. No.          </th> <td>1.39e+17</td>\n",
       "</tr>\n",
       "</table><br/><br/>Warnings:<br/>[1] Standard Errors assume that the covariance matrix of the errors is correctly specified.<br/>[2] The smallest eigenvalue is 6.03e-32. This might indicate that there are<br/>strong multicollinearity problems or that the design matrix is singular."
      ],
      "text/plain": [
       "<class 'statsmodels.iolib.summary.Summary'>\n",
       "\"\"\"\n",
       "                            OLS Regression Results                            \n",
       "==============================================================================\n",
       "Dep. Variable:        Real Power (kW)   R-squared:                       0.982\n",
       "Model:                            OLS   Adj. R-squared:                  0.981\n",
       "Method:                 Least Squares   F-statistic:                     1311.\n",
       "Date:                Sat, 07 Nov 2020   Prob (F-statistic):          1.21e-145\n",
       "Time:                        19:09:27   Log-Likelihood:                 278.46\n",
       "No. Observations:                 180   AIC:                            -540.9\n",
       "Df Residuals:                     172   BIC:                            -515.4\n",
       "Df Model:                           7                                         \n",
       "Covariance Type:            nonrobust                                         \n",
       "==============================================================================\n",
       "                 coef    std err          t      P>|t|      [0.025      0.975]\n",
       "------------------------------------------------------------------------------\n",
       "const          2.9007      0.004    734.648      0.000       2.893       2.908\n",
       "x1             0.1161      0.004     29.411      0.000       0.108       0.124\n",
       "x2            -0.0066      0.016     -0.407      0.684      -0.038       0.025\n",
       "x3            -0.0753      0.297     -0.254      0.800      -0.662       0.511\n",
       "x4             0.0147      0.164      0.090      0.929      -0.308       0.338\n",
       "x5            -0.0147      0.164     -0.090      0.929      -0.338       0.308\n",
       "x6             0.0344      0.027      1.271      0.205      -0.019       0.088\n",
       "x7            -0.0344      0.027     -1.271      0.205      -0.088       0.019\n",
       "x8             0.0311      0.004      8.393      0.000       0.024       0.038\n",
       "x9            -0.0081      0.004     -1.957      0.052      -0.016    7.14e-05\n",
       "x10            0.1161      0.004     29.411      0.000       0.108       0.124\n",
       "x11            0.1161      0.004     29.411      0.000       0.108       0.124\n",
       "x12           -0.0669      0.071     -0.947      0.345      -0.206       0.073\n",
       "==============================================================================\n",
       "Omnibus:                        4.701   Durbin-Watson:                   2.005\n",
       "Prob(Omnibus):                  0.095   Jarque-Bera (JB):                5.485\n",
       "Skew:                          -0.170   Prob(JB):                       0.0644\n",
       "Kurtosis:                       3.785   Cond. No.                     1.39e+17\n",
       "==============================================================================\n",
       "\n",
       "Warnings:\n",
       "[1] Standard Errors assume that the covariance matrix of the errors is correctly specified.\n",
       "[2] The smallest eigenvalue is 6.03e-32. This might indicate that there are\n",
       "strong multicollinearity problems or that the design matrix is singular.\n",
       "\"\"\""
      ]
     },
     "execution_count": 395,
     "metadata": {},
     "output_type": "execute_result"
    }
   ],
   "source": [
    "results.summary()"
   ]
  },
  {
   "cell_type": "code",
   "execution_count": 396,
   "metadata": {},
   "outputs": [
    {
     "data": {
      "text/html": [
       "<div>\n",
       "<style scoped>\n",
       "    .dataframe tbody tr th:only-of-type {\n",
       "        vertical-align: middle;\n",
       "    }\n",
       "\n",
       "    .dataframe tbody tr th {\n",
       "        vertical-align: top;\n",
       "    }\n",
       "\n",
       "    .dataframe thead th {\n",
       "        text-align: right;\n",
       "    }\n",
       "</style>\n",
       "<table border=\"1\" class=\"dataframe\">\n",
       "  <thead>\n",
       "    <tr style=\"text-align: right;\">\n",
       "      <th></th>\n",
       "      <th>abs linear coeff</th>\n",
       "    </tr>\n",
       "  </thead>\n",
       "  <tbody>\n",
       "    <tr>\n",
       "      <th>Wind Speed (m/s)</th>\n",
       "      <td>0.116065</td>\n",
       "    </tr>\n",
       "    <tr>\n",
       "      <th>Square Wind Speed (m/s)^2</th>\n",
       "      <td>0.116065</td>\n",
       "    </tr>\n",
       "    <tr>\n",
       "      <th>Cube Wind Speed (m/s)^3</th>\n",
       "      <td>0.116065</td>\n",
       "    </tr>\n",
       "    <tr>\n",
       "      <th>Ambient Temperature (⁰C)</th>\n",
       "      <td>0.075319</td>\n",
       "    </tr>\n",
       "    <tr>\n",
       "      <th>Inverse Air Temp 76.7m (1/⁰C)</th>\n",
       "      <td>0.066911</td>\n",
       "    </tr>\n",
       "    <tr>\n",
       "      <th>Low speed</th>\n",
       "      <td>0.034403</td>\n",
       "    </tr>\n",
       "    <tr>\n",
       "      <th>High speed</th>\n",
       "      <td>0.034403</td>\n",
       "    </tr>\n",
       "    <tr>\n",
       "      <th>Std. Wind Speed (m/s)</th>\n",
       "      <td>0.031079</td>\n",
       "    </tr>\n",
       "    <tr>\n",
       "      <th>Summer</th>\n",
       "      <td>0.014682</td>\n",
       "    </tr>\n",
       "    <tr>\n",
       "      <th>Winter</th>\n",
       "      <td>0.014682</td>\n",
       "    </tr>\n",
       "    <tr>\n",
       "      <th>TI Wind Speed</th>\n",
       "      <td>0.008079</td>\n",
       "    </tr>\n",
       "    <tr>\n",
       "      <th>Wind Direction (⁰)</th>\n",
       "      <td>0.006560</td>\n",
       "    </tr>\n",
       "  </tbody>\n",
       "</table>\n",
       "</div>"
      ],
      "text/plain": [
       "                               abs linear coeff\n",
       "Wind Speed (m/s)                       0.116065\n",
       "Square Wind Speed (m/s)^2              0.116065\n",
       "Cube Wind Speed (m/s)^3                0.116065\n",
       "Ambient Temperature (⁰C)               0.075319\n",
       "Inverse Air Temp 76.7m (1/⁰C)          0.066911\n",
       "Low speed                              0.034403\n",
       "High speed                             0.034403\n",
       "Std. Wind Speed (m/s)                  0.031079\n",
       "Summer                                 0.014682\n",
       "Winter                                 0.014682\n",
       "TI Wind Speed                          0.008079\n",
       "Wind Direction (⁰)                     0.006560"
      ]
     },
     "execution_count": 396,
     "metadata": {},
     "output_type": "execute_result"
    }
   ],
   "source": [
    "feature_names_wo=x_wo_UpTower.columns.values\n",
    "data_wo=abs(results.params)\n",
    "data_wo=np.array(data_wo)\n",
    "#For retrieving the slope:\n",
    "coeff_df_wo=pd.DataFrame(data_wo[1:29],index=feature_names_wo,columns=['abs linear coeff'])\n",
    "coeff_df_wo.sort_values(by=['abs linear coeff'],ascending=False)"
   ]
  },
  {
   "cell_type": "markdown",
   "metadata": {},
   "source": [
    "The model performance with log of features is marginally better than without log of the data. The order of feature contributions however is different. In this case the log dataframe the 'Ambient Temperature' features carry the most weight. The seasonal classification 'Winter' vs. 'Summer' are the next important features, emphasizing the engineering of these features. These are followed by velocity and its various powers. Further, it is noted that the feature order with all data and without upstream tower data is not consistent. "
   ]
  },
  {
   "cell_type": "markdown",
   "metadata": {},
   "source": [
    "**<font color='teal'>  2c. Making the Random Forest Regressor model with all features for log of data. </font>**"
   ]
  },
  {
   "cell_type": "code",
   "execution_count": 397,
   "metadata": {},
   "outputs": [],
   "source": [
    "#preparing data\n",
    "\n",
    "X_train, X_test, y_train, y_test = train_test_split(x_scaled_log, y_log, test_size=0.25)"
   ]
  },
  {
   "cell_type": "code",
   "execution_count": 398,
   "metadata": {},
   "outputs": [
    {
     "name": "stdout",
     "output_type": "stream",
     "text": [
      "|   iter    |  target   | max_depth | min_sa... | min_sa... | n_esti... |\n",
      "-------------------------------------------------------------------------\n",
      "| \u001b[0m 1       \u001b[0m | \u001b[0m 0.9904  \u001b[0m | \u001b[0m 11.26   \u001b[0m | \u001b[0m 7.483   \u001b[0m | \u001b[0m 2.001   \u001b[0m | \u001b[0m 127.9   \u001b[0m |\n",
      "| \u001b[95m 2       \u001b[0m | \u001b[95m 0.9943  \u001b[0m | \u001b[95m 7.201   \u001b[0m | \u001b[95m 1.831   \u001b[0m | \u001b[95m 3.49    \u001b[0m | \u001b[95m 144.8   \u001b[0m |\n",
      "| \u001b[0m 3       \u001b[0m | \u001b[0m 0.9924  \u001b[0m | \u001b[0m 10.95   \u001b[0m | \u001b[0m 5.849   \u001b[0m | \u001b[0m 5.354   \u001b[0m | \u001b[0m 277.2   \u001b[0m |\n",
      "| \u001b[0m 4       \u001b[0m | \u001b[0m 0.989   \u001b[0m | \u001b[0m 8.067   \u001b[0m | \u001b[0m 8.903   \u001b[0m | \u001b[0m 2.219   \u001b[0m | \u001b[0m 271.5   \u001b[0m |\n",
      "| \u001b[0m 5       \u001b[0m | \u001b[0m 0.9908  \u001b[0m | \u001b[0m 11.26   \u001b[0m | \u001b[0m 6.028   \u001b[0m | \u001b[0m 3.123   \u001b[0m | \u001b[0m 87.26   \u001b[0m |\n",
      "| \u001b[0m 6       \u001b[0m | \u001b[0m 0.9884  \u001b[0m | \u001b[0m 17.01   \u001b[0m | \u001b[0m 9.714   \u001b[0m | \u001b[0m 4.507   \u001b[0m | \u001b[0m 280.0   \u001b[0m |\n",
      "| \u001b[0m 7       \u001b[0m | \u001b[0m 0.988   \u001b[0m | \u001b[0m 18.15   \u001b[0m | \u001b[0m 9.051   \u001b[0m | \u001b[0m 2.68    \u001b[0m | \u001b[0m 25.23   \u001b[0m |\n",
      "| \u001b[0m 8       \u001b[0m | \u001b[0m 0.9896  \u001b[0m | \u001b[0m 7.547   \u001b[0m | \u001b[0m 8.903   \u001b[0m | \u001b[0m 2.787   \u001b[0m | \u001b[0m 174.2   \u001b[0m |\n",
      "| \u001b[0m 9       \u001b[0m | \u001b[0m 0.9926  \u001b[0m | \u001b[0m 19.37   \u001b[0m | \u001b[0m 5.798   \u001b[0m | \u001b[0m 7.535   \u001b[0m | \u001b[0m 133.1   \u001b[0m |\n",
      "| \u001b[0m 10      \u001b[0m | \u001b[0m 0.9895  \u001b[0m | \u001b[0m 15.3    \u001b[0m | \u001b[0m 8.512   \u001b[0m | \u001b[0m 2.146   \u001b[0m | \u001b[0m 302.6   \u001b[0m |\n",
      "| \u001b[0m 11      \u001b[0m | \u001b[0m 0.9904  \u001b[0m | \u001b[0m 19.83   \u001b[0m | \u001b[0m 7.733   \u001b[0m | \u001b[0m 4.244   \u001b[0m | \u001b[0m 317.8   \u001b[0m |\n",
      "| \u001b[0m 12      \u001b[0m | \u001b[0m 0.9926  \u001b[0m | \u001b[0m 6.548   \u001b[0m | \u001b[0m 5.031   \u001b[0m | \u001b[0m 9.269   \u001b[0m | \u001b[0m 124.5   \u001b[0m |\n",
      "| \u001b[0m 13      \u001b[0m | \u001b[0m 0.9942  \u001b[0m | \u001b[0m 9.317   \u001b[0m | \u001b[0m 2.17    \u001b[0m | \u001b[0m 2.155   \u001b[0m | \u001b[0m 274.7   \u001b[0m |\n",
      "| \u001b[0m 14      \u001b[0m | \u001b[0m 0.9935  \u001b[0m | \u001b[0m 8.174   \u001b[0m | \u001b[0m 3.39    \u001b[0m | \u001b[0m 5.933   \u001b[0m | \u001b[0m 30.81   \u001b[0m |\n",
      "| \u001b[0m 15      \u001b[0m | \u001b[0m 0.994   \u001b[0m | \u001b[0m 13.61   \u001b[0m | \u001b[0m 2.321   \u001b[0m | \u001b[0m 6.714   \u001b[0m | \u001b[0m 282.9   \u001b[0m |\n",
      "| \u001b[0m 16      \u001b[0m | \u001b[0m 0.9932  \u001b[0m | \u001b[0m 6.535   \u001b[0m | \u001b[0m 4.727   \u001b[0m | \u001b[0m 7.555   \u001b[0m | \u001b[0m 171.5   \u001b[0m |\n",
      "| \u001b[0m 17      \u001b[0m | \u001b[0m 0.9923  \u001b[0m | \u001b[0m 5.749   \u001b[0m | \u001b[0m 5.823   \u001b[0m | \u001b[0m 7.31    \u001b[0m | \u001b[0m 210.8   \u001b[0m |\n",
      "| \u001b[0m 18      \u001b[0m | \u001b[0m 0.9914  \u001b[0m | \u001b[0m 19.17   \u001b[0m | \u001b[0m 6.279   \u001b[0m | \u001b[0m 9.227   \u001b[0m | \u001b[0m 63.62   \u001b[0m |\n",
      "| \u001b[0m 19      \u001b[0m | \u001b[0m 0.9889  \u001b[0m | \u001b[0m 7.089   \u001b[0m | \u001b[0m 8.267   \u001b[0m | \u001b[0m 5.181   \u001b[0m | \u001b[0m 74.49   \u001b[0m |\n",
      "| \u001b[0m 20      \u001b[0m | \u001b[0m 0.9935  \u001b[0m | \u001b[0m 18.91   \u001b[0m | \u001b[0m 4.13    \u001b[0m | \u001b[0m 8.006   \u001b[0m | \u001b[0m 293.1   \u001b[0m |\n",
      "| \u001b[0m 21      \u001b[0m | \u001b[0m 0.9918  \u001b[0m | \u001b[0m 18.25   \u001b[0m | \u001b[0m 6.613   \u001b[0m | \u001b[0m 8.008   \u001b[0m | \u001b[0m 146.1   \u001b[0m |\n",
      "| \u001b[0m 22      \u001b[0m | \u001b[0m 0.9882  \u001b[0m | \u001b[0m 9.049   \u001b[0m | \u001b[0m 9.063   \u001b[0m | \u001b[0m 5.425   \u001b[0m | \u001b[0m 386.3   \u001b[0m |\n",
      "| \u001b[0m 23      \u001b[0m | \u001b[0m 0.9919  \u001b[0m | \u001b[0m 14.95   \u001b[0m | \u001b[0m 6.595   \u001b[0m | \u001b[0m 2.918   \u001b[0m | \u001b[0m 380.3   \u001b[0m |\n",
      "| \u001b[0m 24      \u001b[0m | \u001b[0m 0.9912  \u001b[0m | \u001b[0m 11.75   \u001b[0m | \u001b[0m 6.206   \u001b[0m | \u001b[0m 5.265   \u001b[0m | \u001b[0m 102.4   \u001b[0m |\n",
      "| \u001b[0m 25      \u001b[0m | \u001b[0m 0.9915  \u001b[0m | \u001b[0m 18.55   \u001b[0m | \u001b[0m 6.163   \u001b[0m | \u001b[0m 2.023   \u001b[0m | \u001b[0m 250.7   \u001b[0m |\n",
      "| \u001b[0m 26      \u001b[0m | \u001b[0m 0.9925  \u001b[0m | \u001b[0m 9.9     \u001b[0m | \u001b[0m 5.744   \u001b[0m | \u001b[0m 9.088   \u001b[0m | \u001b[0m 149.3   \u001b[0m |\n",
      "| \u001b[0m 27      \u001b[0m | \u001b[0m 0.9918  \u001b[0m | \u001b[0m 18.63   \u001b[0m | \u001b[0m 6.61    \u001b[0m | \u001b[0m 2.127   \u001b[0m | \u001b[0m 372.5   \u001b[0m |\n",
      "| \u001b[0m 28      \u001b[0m | \u001b[0m 0.9873  \u001b[0m | \u001b[0m 15.36   \u001b[0m | \u001b[0m 9.976   \u001b[0m | \u001b[0m 3.379   \u001b[0m | \u001b[0m 63.48   \u001b[0m |\n",
      "| \u001b[0m 29      \u001b[0m | \u001b[0m 0.9908  \u001b[0m | \u001b[0m 18.99   \u001b[0m | \u001b[0m 7.271   \u001b[0m | \u001b[0m 2.528   \u001b[0m | \u001b[0m 304.6   \u001b[0m |\n",
      "| \u001b[0m 30      \u001b[0m | \u001b[0m 0.9887  \u001b[0m | \u001b[0m 16.31   \u001b[0m | \u001b[0m 9.307   \u001b[0m | \u001b[0m 7.692   \u001b[0m | \u001b[0m 58.47   \u001b[0m |\n",
      "| \u001b[0m 31      \u001b[0m | \u001b[0m 0.9937  \u001b[0m | \u001b[0m 5.298   \u001b[0m | \u001b[0m 1.236   \u001b[0m | \u001b[0m 2.226   \u001b[0m | \u001b[0m 106.0   \u001b[0m |\n",
      "| \u001b[0m 32      \u001b[0m | \u001b[0m 0.9925  \u001b[0m | \u001b[0m 17.9    \u001b[0m | \u001b[0m 5.849   \u001b[0m | \u001b[0m 6.423   \u001b[0m | \u001b[0m 338.4   \u001b[0m |\n",
      "| \u001b[0m 33      \u001b[0m | \u001b[0m 0.9939  \u001b[0m | \u001b[0m 6.863   \u001b[0m | \u001b[0m 3.513   \u001b[0m | \u001b[0m 6.686   \u001b[0m | \u001b[0m 388.1   \u001b[0m |\n",
      "| \u001b[0m 34      \u001b[0m | \u001b[0m 0.9934  \u001b[0m | \u001b[0m 13.42   \u001b[0m | \u001b[0m 1.168   \u001b[0m | \u001b[0m 8.405   \u001b[0m | \u001b[0m 100.9   \u001b[0m |\n",
      "| \u001b[0m 35      \u001b[0m | \u001b[0m 0.9928  \u001b[0m | \u001b[0m 17.11   \u001b[0m | \u001b[0m 4.491   \u001b[0m | \u001b[0m 8.908   \u001b[0m | \u001b[0m 301.4   \u001b[0m |\n",
      "| \u001b[0m 36      \u001b[0m | \u001b[0m 0.9929  \u001b[0m | \u001b[0m 13.34   \u001b[0m | \u001b[0m 2.228   \u001b[0m | \u001b[0m 2.479   \u001b[0m | \u001b[0m 57.32   \u001b[0m |\n",
      "| \u001b[0m 37      \u001b[0m | \u001b[0m 0.994   \u001b[0m | \u001b[0m 5.668   \u001b[0m | \u001b[0m 1.967   \u001b[0m | \u001b[0m 3.806   \u001b[0m | \u001b[0m 288.1   \u001b[0m |\n",
      "| \u001b[95m 38      \u001b[0m | \u001b[95m 0.9944  \u001b[0m | \u001b[95m 13.4    \u001b[0m | \u001b[95m 1.113   \u001b[0m | \u001b[95m 2.576   \u001b[0m | \u001b[95m 387.2   \u001b[0m |\n",
      "| \u001b[0m 39      \u001b[0m | \u001b[0m 0.9941  \u001b[0m | \u001b[0m 13.52   \u001b[0m | \u001b[0m 2.83    \u001b[0m | \u001b[0m 4.019   \u001b[0m | \u001b[0m 300.1   \u001b[0m |\n",
      "| \u001b[0m 40      \u001b[0m | \u001b[0m 0.9915  \u001b[0m | \u001b[0m 7.931   \u001b[0m | \u001b[0m 6.232   \u001b[0m | \u001b[0m 9.76    \u001b[0m | \u001b[0m 340.3   \u001b[0m |\n",
      "| \u001b[0m 41      \u001b[0m | \u001b[0m 0.9924  \u001b[0m | \u001b[0m 8.598   \u001b[0m | \u001b[0m 5.444   \u001b[0m | \u001b[0m 6.96    \u001b[0m | \u001b[0m 333.3   \u001b[0m |\n",
      "| \u001b[95m 42      \u001b[0m | \u001b[95m 0.9946  \u001b[0m | \u001b[95m 7.352   \u001b[0m | \u001b[95m 1.167   \u001b[0m | \u001b[95m 2.56    \u001b[0m | \u001b[95m 199.7   \u001b[0m |\n",
      "| \u001b[0m 43      \u001b[0m | \u001b[0m 0.9913  \u001b[0m | \u001b[0m 14.09   \u001b[0m | \u001b[0m 6.12    \u001b[0m | \u001b[0m 4.539   \u001b[0m | \u001b[0m 395.6   \u001b[0m |\n",
      "| \u001b[0m 44      \u001b[0m | \u001b[0m 0.9935  \u001b[0m | \u001b[0m 13.7    \u001b[0m | \u001b[0m 4.421   \u001b[0m | \u001b[0m 6.408   \u001b[0m | \u001b[0m 300.7   \u001b[0m |\n",
      "| \u001b[0m 45      \u001b[0m | \u001b[0m 0.9939  \u001b[0m | \u001b[0m 15.04   \u001b[0m | \u001b[0m 3.384   \u001b[0m | \u001b[0m 2.531   \u001b[0m | \u001b[0m 154.3   \u001b[0m |\n",
      "| \u001b[0m 46      \u001b[0m | \u001b[0m 0.9926  \u001b[0m | \u001b[0m 14.45   \u001b[0m | \u001b[0m 2.892   \u001b[0m | \u001b[0m 8.022   \u001b[0m | \u001b[0m 35.95   \u001b[0m |\n",
      "| \u001b[0m 47      \u001b[0m | \u001b[0m 0.9896  \u001b[0m | \u001b[0m 8.905   \u001b[0m | \u001b[0m 8.243   \u001b[0m | \u001b[0m 3.547   \u001b[0m | \u001b[0m 259.4   \u001b[0m |\n",
      "| \u001b[0m 48      \u001b[0m | \u001b[0m 0.9849  \u001b[0m | \u001b[0m 12.87   \u001b[0m | \u001b[0m 9.323   \u001b[0m | \u001b[0m 4.106   \u001b[0m | \u001b[0m 35.72   \u001b[0m |\n",
      "| \u001b[0m 49      \u001b[0m | \u001b[0m 0.9911  \u001b[0m | \u001b[0m 16.03   \u001b[0m | \u001b[0m 7.95    \u001b[0m | \u001b[0m 9.263   \u001b[0m | \u001b[0m 373.5   \u001b[0m |\n",
      "| \u001b[0m 50      \u001b[0m | \u001b[0m 0.9936  \u001b[0m | \u001b[0m 5.209   \u001b[0m | \u001b[0m 3.109   \u001b[0m | \u001b[0m 6.934   \u001b[0m | \u001b[0m 380.1   \u001b[0m |\n",
      "| \u001b[0m 51      \u001b[0m | \u001b[0m 0.9932  \u001b[0m | \u001b[0m 18.78   \u001b[0m | \u001b[0m 1.004   \u001b[0m | \u001b[0m 9.814   \u001b[0m | \u001b[0m 156.9   \u001b[0m |\n",
      "| \u001b[0m 52      \u001b[0m | \u001b[0m 0.9933  \u001b[0m | \u001b[0m 19.44   \u001b[0m | \u001b[0m 1.024   \u001b[0m | \u001b[0m 9.802   \u001b[0m | \u001b[0m 281.4   \u001b[0m |\n",
      "| \u001b[0m 53      \u001b[0m | \u001b[0m 0.9931  \u001b[0m | \u001b[0m 16.06   \u001b[0m | \u001b[0m 1.025   \u001b[0m | \u001b[0m 9.705   \u001b[0m | \u001b[0m 396.7   \u001b[0m |\n",
      "| \u001b[0m 54      \u001b[0m | \u001b[0m 0.9931  \u001b[0m | \u001b[0m 5.047   \u001b[0m | \u001b[0m 1.16    \u001b[0m | \u001b[0m 9.985   \u001b[0m | \u001b[0m 254.1   \u001b[0m |\n",
      "| \u001b[0m 55      \u001b[0m | \u001b[0m 0.9933  \u001b[0m | \u001b[0m 18.78   \u001b[0m | \u001b[0m 1.007   \u001b[0m | \u001b[0m 9.513   \u001b[0m | \u001b[0m 249.1   \u001b[0m |\n",
      "| \u001b[0m 56      \u001b[0m | \u001b[0m 0.994   \u001b[0m | \u001b[0m 5.055   \u001b[0m | \u001b[0m 1.043   \u001b[0m | \u001b[0m 3.622   \u001b[0m | \u001b[0m 390.2   \u001b[0m |\n",
      "| \u001b[0m 57      \u001b[0m | \u001b[0m 0.9933  \u001b[0m | \u001b[0m 5.52    \u001b[0m | \u001b[0m 1.085   \u001b[0m | \u001b[0m 9.806   \u001b[0m | \u001b[0m 284.0   \u001b[0m |\n",
      "| \u001b[0m 58      \u001b[0m | \u001b[0m 0.9945  \u001b[0m | \u001b[0m 19.85   \u001b[0m | \u001b[0m 1.018   \u001b[0m | \u001b[0m 3.022   \u001b[0m | \u001b[0m 381.8   \u001b[0m |\n",
      "| \u001b[0m 59      \u001b[0m | \u001b[0m 0.9945  \u001b[0m | \u001b[0m 18.54   \u001b[0m | \u001b[0m 1.088   \u001b[0m | \u001b[0m 2.115   \u001b[0m | \u001b[0m 255.5   \u001b[0m |\n",
      "| \u001b[0m 60      \u001b[0m | \u001b[0m 0.9944  \u001b[0m | \u001b[0m 19.03   \u001b[0m | \u001b[0m 1.116   \u001b[0m | \u001b[0m 2.593   \u001b[0m | \u001b[0m 397.9   \u001b[0m |\n",
      "=========================================================================\n"
     ]
    }
   ],
   "source": [
    "#applying the optimizer\n",
    "\n",
    "optimizer = BayesianOptimization(\n",
    "    f=train_model,\n",
    "    pbounds=bounds,\n",
    "    random_state=1,\n",
    ")\n",
    "optimizer.maximize(init_points=50, n_iter=10)"
   ]
  },
  {
   "cell_type": "code",
   "execution_count": 399,
   "metadata": {},
   "outputs": [
    {
     "data": {
      "text/plain": [
       "{'target': 0.9946261930852625,\n",
       " 'params': {'max_depth': 7.3518709196912635,\n",
       "  'min_samples_leaf': 1.1671858195966855,\n",
       "  'min_samples_split': 2.5601771497537786,\n",
       "  'n_estimators': 199.6745932654424}}"
      ]
     },
     "execution_count": 399,
     "metadata": {},
     "output_type": "execute_result"
    }
   ],
   "source": [
    "optimizer.max"
   ]
  },
  {
   "cell_type": "code",
   "execution_count": null,
   "metadata": {},
   "outputs": [],
   "source": [
    "y_pred_RF_log_all = results.predict(X_test)"
   ]
  },
  {
   "cell_type": "markdown",
   "metadata": {},
   "source": [
    "**<font color='teal'>  2d. Making the Random Forest Regressor model without upstream tower features for log of data. </font>**"
   ]
  },
  {
   "cell_type": "code",
   "execution_count": 400,
   "metadata": {},
   "outputs": [],
   "source": [
    "#preparing data\n",
    "\n",
    "x_log_woUP = df_log.drop(['Real Power (kW)'], axis =1)\n",
    "x_log_woUP = x_log_woUP.drop(colTodrop, axis =1)\n",
    "y_log=df_log['Real Power (kW)']\n",
    "\n",
    "x_scaled_log_woUP=preprocessing.scale(x_log_woUP, axis=0, with_mean=True, with_std=True, copy=True)\n",
    "\n",
    "X_train, X_test, y_train, y_test = train_test_split(x_scaled_log_woUP, y_log, test_size=0.25)"
   ]
  },
  {
   "cell_type": "code",
   "execution_count": 401,
   "metadata": {},
   "outputs": [
    {
     "name": "stdout",
     "output_type": "stream",
     "text": [
      "|   iter    |  target   | max_depth | min_sa... | min_sa... | n_esti... |\n",
      "-------------------------------------------------------------------------\n",
      "| \u001b[0m 1       \u001b[0m | \u001b[0m 0.9632  \u001b[0m | \u001b[0m 11.26   \u001b[0m | \u001b[0m 7.483   \u001b[0m | \u001b[0m 2.001   \u001b[0m | \u001b[0m 127.9   \u001b[0m |\n",
      "| \u001b[95m 2       \u001b[0m | \u001b[95m 0.9844  \u001b[0m | \u001b[95m 7.201   \u001b[0m | \u001b[95m 1.831   \u001b[0m | \u001b[95m 3.49    \u001b[0m | \u001b[95m 144.8   \u001b[0m |\n",
      "| \u001b[0m 3       \u001b[0m | \u001b[0m 0.9718  \u001b[0m | \u001b[0m 10.95   \u001b[0m | \u001b[0m 5.849   \u001b[0m | \u001b[0m 5.354   \u001b[0m | \u001b[0m 277.2   \u001b[0m |\n",
      "| \u001b[0m 4       \u001b[0m | \u001b[0m 0.9579  \u001b[0m | \u001b[0m 8.067   \u001b[0m | \u001b[0m 8.903   \u001b[0m | \u001b[0m 2.219   \u001b[0m | \u001b[0m 271.5   \u001b[0m |\n",
      "| \u001b[0m 5       \u001b[0m | \u001b[0m 0.9677  \u001b[0m | \u001b[0m 11.26   \u001b[0m | \u001b[0m 6.028   \u001b[0m | \u001b[0m 3.123   \u001b[0m | \u001b[0m 87.26   \u001b[0m |\n",
      "| \u001b[0m 6       \u001b[0m | \u001b[0m 0.9514  \u001b[0m | \u001b[0m 17.01   \u001b[0m | \u001b[0m 9.714   \u001b[0m | \u001b[0m 4.507   \u001b[0m | \u001b[0m 280.0   \u001b[0m |\n",
      "| \u001b[0m 7       \u001b[0m | \u001b[0m 0.9505  \u001b[0m | \u001b[0m 18.15   \u001b[0m | \u001b[0m 9.051   \u001b[0m | \u001b[0m 2.68    \u001b[0m | \u001b[0m 25.23   \u001b[0m |\n",
      "| \u001b[0m 8       \u001b[0m | \u001b[0m 0.9597  \u001b[0m | \u001b[0m 7.547   \u001b[0m | \u001b[0m 8.903   \u001b[0m | \u001b[0m 2.787   \u001b[0m | \u001b[0m 174.2   \u001b[0m |\n",
      "| \u001b[0m 9       \u001b[0m | \u001b[0m 0.9698  \u001b[0m | \u001b[0m 19.37   \u001b[0m | \u001b[0m 5.798   \u001b[0m | \u001b[0m 7.535   \u001b[0m | \u001b[0m 133.1   \u001b[0m |\n",
      "| \u001b[0m 10      \u001b[0m | \u001b[0m 0.959   \u001b[0m | \u001b[0m 15.3    \u001b[0m | \u001b[0m 8.512   \u001b[0m | \u001b[0m 2.146   \u001b[0m | \u001b[0m 302.6   \u001b[0m |\n",
      "| \u001b[0m 11      \u001b[0m | \u001b[0m 0.9636  \u001b[0m | \u001b[0m 19.83   \u001b[0m | \u001b[0m 7.733   \u001b[0m | \u001b[0m 4.244   \u001b[0m | \u001b[0m 317.8   \u001b[0m |\n",
      "| \u001b[0m 12      \u001b[0m | \u001b[0m 0.9722  \u001b[0m | \u001b[0m 6.548   \u001b[0m | \u001b[0m 5.031   \u001b[0m | \u001b[0m 9.269   \u001b[0m | \u001b[0m 124.5   \u001b[0m |\n",
      "| \u001b[0m 13      \u001b[0m | \u001b[0m 0.9827  \u001b[0m | \u001b[0m 9.317   \u001b[0m | \u001b[0m 2.17    \u001b[0m | \u001b[0m 2.155   \u001b[0m | \u001b[0m 274.7   \u001b[0m |\n",
      "| \u001b[0m 14      \u001b[0m | \u001b[0m 0.9819  \u001b[0m | \u001b[0m 8.174   \u001b[0m | \u001b[0m 3.39    \u001b[0m | \u001b[0m 5.933   \u001b[0m | \u001b[0m 30.81   \u001b[0m |\n",
      "| \u001b[0m 15      \u001b[0m | \u001b[0m 0.9824  \u001b[0m | \u001b[0m 13.61   \u001b[0m | \u001b[0m 2.321   \u001b[0m | \u001b[0m 6.714   \u001b[0m | \u001b[0m 282.9   \u001b[0m |\n",
      "| \u001b[0m 16      \u001b[0m | \u001b[0m 0.9765  \u001b[0m | \u001b[0m 6.535   \u001b[0m | \u001b[0m 4.727   \u001b[0m | \u001b[0m 7.555   \u001b[0m | \u001b[0m 171.5   \u001b[0m |\n",
      "| \u001b[0m 17      \u001b[0m | \u001b[0m 0.9723  \u001b[0m | \u001b[0m 5.749   \u001b[0m | \u001b[0m 5.823   \u001b[0m | \u001b[0m 7.31    \u001b[0m | \u001b[0m 210.8   \u001b[0m |\n",
      "| \u001b[0m 18      \u001b[0m | \u001b[0m 0.9675  \u001b[0m | \u001b[0m 19.17   \u001b[0m | \u001b[0m 6.279   \u001b[0m | \u001b[0m 9.227   \u001b[0m | \u001b[0m 63.62   \u001b[0m |\n",
      "| \u001b[0m 19      \u001b[0m | \u001b[0m 0.9566  \u001b[0m | \u001b[0m 7.089   \u001b[0m | \u001b[0m 8.267   \u001b[0m | \u001b[0m 5.181   \u001b[0m | \u001b[0m 74.49   \u001b[0m |\n",
      "| \u001b[0m 20      \u001b[0m | \u001b[0m 0.9764  \u001b[0m | \u001b[0m 18.91   \u001b[0m | \u001b[0m 4.13    \u001b[0m | \u001b[0m 8.006   \u001b[0m | \u001b[0m 293.1   \u001b[0m |\n",
      "| \u001b[0m 21      \u001b[0m | \u001b[0m 0.9656  \u001b[0m | \u001b[0m 18.25   \u001b[0m | \u001b[0m 6.613   \u001b[0m | \u001b[0m 8.008   \u001b[0m | \u001b[0m 146.1   \u001b[0m |\n",
      "| \u001b[0m 22      \u001b[0m | \u001b[0m 0.9503  \u001b[0m | \u001b[0m 9.049   \u001b[0m | \u001b[0m 9.063   \u001b[0m | \u001b[0m 5.425   \u001b[0m | \u001b[0m 386.3   \u001b[0m |\n",
      "| \u001b[0m 23      \u001b[0m | \u001b[0m 0.9668  \u001b[0m | \u001b[0m 14.95   \u001b[0m | \u001b[0m 6.595   \u001b[0m | \u001b[0m 2.918   \u001b[0m | \u001b[0m 380.3   \u001b[0m |\n",
      "| \u001b[0m 24      \u001b[0m | \u001b[0m 0.9679  \u001b[0m | \u001b[0m 11.75   \u001b[0m | \u001b[0m 6.206   \u001b[0m | \u001b[0m 5.265   \u001b[0m | \u001b[0m 102.4   \u001b[0m |\n",
      "| \u001b[0m 25      \u001b[0m | \u001b[0m 0.9678  \u001b[0m | \u001b[0m 18.55   \u001b[0m | \u001b[0m 6.163   \u001b[0m | \u001b[0m 2.023   \u001b[0m | \u001b[0m 250.7   \u001b[0m |\n",
      "| \u001b[0m 26      \u001b[0m | \u001b[0m 0.9707  \u001b[0m | \u001b[0m 9.9     \u001b[0m | \u001b[0m 5.744   \u001b[0m | \u001b[0m 9.088   \u001b[0m | \u001b[0m 149.3   \u001b[0m |\n",
      "| \u001b[0m 27      \u001b[0m | \u001b[0m 0.9666  \u001b[0m | \u001b[0m 18.63   \u001b[0m | \u001b[0m 6.61    \u001b[0m | \u001b[0m 2.127   \u001b[0m | \u001b[0m 372.5   \u001b[0m |\n",
      "| \u001b[0m 28      \u001b[0m | \u001b[0m 0.9477  \u001b[0m | \u001b[0m 15.36   \u001b[0m | \u001b[0m 9.976   \u001b[0m | \u001b[0m 3.379   \u001b[0m | \u001b[0m 63.48   \u001b[0m |\n",
      "| \u001b[0m 29      \u001b[0m | \u001b[0m 0.962   \u001b[0m | \u001b[0m 18.99   \u001b[0m | \u001b[0m 7.271   \u001b[0m | \u001b[0m 2.528   \u001b[0m | \u001b[0m 304.6   \u001b[0m |\n",
      "| \u001b[0m 30      \u001b[0m | \u001b[0m 0.9519  \u001b[0m | \u001b[0m 16.31   \u001b[0m | \u001b[0m 9.307   \u001b[0m | \u001b[0m 7.692   \u001b[0m | \u001b[0m 58.47   \u001b[0m |\n",
      "| \u001b[0m 31      \u001b[0m | \u001b[0m 0.983   \u001b[0m | \u001b[0m 5.298   \u001b[0m | \u001b[0m 1.236   \u001b[0m | \u001b[0m 2.226   \u001b[0m | \u001b[0m 106.0   \u001b[0m |\n",
      "| \u001b[0m 32      \u001b[0m | \u001b[0m 0.9722  \u001b[0m | \u001b[0m 17.9    \u001b[0m | \u001b[0m 5.849   \u001b[0m | \u001b[0m 6.423   \u001b[0m | \u001b[0m 338.4   \u001b[0m |\n",
      "| \u001b[0m 33      \u001b[0m | \u001b[0m 0.9803  \u001b[0m | \u001b[0m 6.863   \u001b[0m | \u001b[0m 3.513   \u001b[0m | \u001b[0m 6.686   \u001b[0m | \u001b[0m 388.1   \u001b[0m |\n",
      "| \u001b[0m 34      \u001b[0m | \u001b[0m 0.9815  \u001b[0m | \u001b[0m 13.42   \u001b[0m | \u001b[0m 1.168   \u001b[0m | \u001b[0m 8.405   \u001b[0m | \u001b[0m 100.9   \u001b[0m |\n",
      "| \u001b[0m 35      \u001b[0m | \u001b[0m 0.977   \u001b[0m | \u001b[0m 17.11   \u001b[0m | \u001b[0m 4.491   \u001b[0m | \u001b[0m 8.908   \u001b[0m | \u001b[0m 301.4   \u001b[0m |\n",
      "| \u001b[0m 36      \u001b[0m | \u001b[0m 0.9819  \u001b[0m | \u001b[0m 13.34   \u001b[0m | \u001b[0m 2.228   \u001b[0m | \u001b[0m 2.479   \u001b[0m | \u001b[0m 57.32   \u001b[0m |\n",
      "| \u001b[0m 37      \u001b[0m | \u001b[0m 0.9841  \u001b[0m | \u001b[0m 5.668   \u001b[0m | \u001b[0m 1.967   \u001b[0m | \u001b[0m 3.806   \u001b[0m | \u001b[0m 288.1   \u001b[0m |\n",
      "| \u001b[0m 38      \u001b[0m | \u001b[0m 0.9844  \u001b[0m | \u001b[0m 13.4    \u001b[0m | \u001b[0m 1.113   \u001b[0m | \u001b[0m 2.576   \u001b[0m | \u001b[0m 387.2   \u001b[0m |\n",
      "| \u001b[0m 39      \u001b[0m | \u001b[0m 0.982   \u001b[0m | \u001b[0m 13.52   \u001b[0m | \u001b[0m 2.83    \u001b[0m | \u001b[0m 4.019   \u001b[0m | \u001b[0m 300.1   \u001b[0m |\n",
      "| \u001b[0m 40      \u001b[0m | \u001b[0m 0.9673  \u001b[0m | \u001b[0m 7.931   \u001b[0m | \u001b[0m 6.232   \u001b[0m | \u001b[0m 9.76    \u001b[0m | \u001b[0m 340.3   \u001b[0m |\n",
      "| \u001b[0m 41      \u001b[0m | \u001b[0m 0.9706  \u001b[0m | \u001b[0m 8.598   \u001b[0m | \u001b[0m 5.444   \u001b[0m | \u001b[0m 6.96    \u001b[0m | \u001b[0m 333.3   \u001b[0m |\n",
      "| \u001b[95m 42      \u001b[0m | \u001b[95m 0.9855  \u001b[0m | \u001b[95m 7.352   \u001b[0m | \u001b[95m 1.167   \u001b[0m | \u001b[95m 2.56    \u001b[0m | \u001b[95m 199.7   \u001b[0m |\n",
      "| \u001b[0m 43      \u001b[0m | \u001b[0m 0.9679  \u001b[0m | \u001b[0m 14.09   \u001b[0m | \u001b[0m 6.12    \u001b[0m | \u001b[0m 4.539   \u001b[0m | \u001b[0m 395.6   \u001b[0m |\n",
      "| \u001b[0m 44      \u001b[0m | \u001b[0m 0.9757  \u001b[0m | \u001b[0m 13.7    \u001b[0m | \u001b[0m 4.421   \u001b[0m | \u001b[0m 6.408   \u001b[0m | \u001b[0m 300.7   \u001b[0m |\n",
      "| \u001b[0m 45      \u001b[0m | \u001b[0m 0.9779  \u001b[0m | \u001b[0m 15.04   \u001b[0m | \u001b[0m 3.384   \u001b[0m | \u001b[0m 2.531   \u001b[0m | \u001b[0m 154.3   \u001b[0m |\n",
      "| \u001b[0m 46      \u001b[0m | \u001b[0m 0.9783  \u001b[0m | \u001b[0m 14.45   \u001b[0m | \u001b[0m 2.892   \u001b[0m | \u001b[0m 8.022   \u001b[0m | \u001b[0m 35.95   \u001b[0m |\n",
      "| \u001b[0m 47      \u001b[0m | \u001b[0m 0.9584  \u001b[0m | \u001b[0m 8.905   \u001b[0m | \u001b[0m 8.243   \u001b[0m | \u001b[0m 3.547   \u001b[0m | \u001b[0m 259.4   \u001b[0m |\n",
      "| \u001b[0m 48      \u001b[0m | \u001b[0m 0.9497  \u001b[0m | \u001b[0m 12.87   \u001b[0m | \u001b[0m 9.323   \u001b[0m | \u001b[0m 4.106   \u001b[0m | \u001b[0m 35.72   \u001b[0m |\n",
      "| \u001b[0m 49      \u001b[0m | \u001b[0m 0.9627  \u001b[0m | \u001b[0m 16.03   \u001b[0m | \u001b[0m 7.95    \u001b[0m | \u001b[0m 9.263   \u001b[0m | \u001b[0m 373.5   \u001b[0m |\n",
      "| \u001b[0m 50      \u001b[0m | \u001b[0m 0.979   \u001b[0m | \u001b[0m 5.209   \u001b[0m | \u001b[0m 3.109   \u001b[0m | \u001b[0m 6.934   \u001b[0m | \u001b[0m 380.1   \u001b[0m |\n",
      "| \u001b[0m 51      \u001b[0m | \u001b[0m 0.9814  \u001b[0m | \u001b[0m 6.072   \u001b[0m | \u001b[0m 1.348   \u001b[0m | \u001b[0m 8.725   \u001b[0m | \u001b[0m 12.87   \u001b[0m |\n",
      "| \u001b[0m 52      \u001b[0m | \u001b[0m 0.9816  \u001b[0m | \u001b[0m 18.99   \u001b[0m | \u001b[0m 1.896   \u001b[0m | \u001b[0m 8.72    \u001b[0m | \u001b[0m 397.9   \u001b[0m |\n",
      "| \u001b[0m 53      \u001b[0m | \u001b[0m 0.9806  \u001b[0m | \u001b[0m 19.41   \u001b[0m | \u001b[0m 1.161   \u001b[0m | \u001b[0m 9.95    \u001b[0m | \u001b[0m 358.7   \u001b[0m |\n",
      "| \u001b[0m 54      \u001b[0m | \u001b[0m 0.98    \u001b[0m | \u001b[0m 19.17   \u001b[0m | \u001b[0m 1.055   \u001b[0m | \u001b[0m 9.41    \u001b[0m | \u001b[0m 215.9   \u001b[0m |\n",
      "| \u001b[0m 55      \u001b[0m | \u001b[0m 0.9823  \u001b[0m | \u001b[0m 5.945   \u001b[0m | \u001b[0m 1.031   \u001b[0m | \u001b[0m 2.934   \u001b[0m | \u001b[0m 19.45   \u001b[0m |\n",
      "| \u001b[0m 56      \u001b[0m | \u001b[0m 0.9803  \u001b[0m | \u001b[0m 5.587   \u001b[0m | \u001b[0m 1.059   \u001b[0m | \u001b[0m 8.294   \u001b[0m | \u001b[0m 244.2   \u001b[0m |\n",
      "| \u001b[0m 57      \u001b[0m | \u001b[0m 0.9803  \u001b[0m | \u001b[0m 5.077   \u001b[0m | \u001b[0m 1.507   \u001b[0m | \u001b[0m 9.937   \u001b[0m | \u001b[0m 43.53   \u001b[0m |\n",
      "| \u001b[0m 58      \u001b[0m | \u001b[0m 0.9828  \u001b[0m | \u001b[0m 5.179   \u001b[0m | \u001b[0m 1.91    \u001b[0m | \u001b[0m 4.276   \u001b[0m | \u001b[0m 399.9   \u001b[0m |\n",
      "| \u001b[95m 59      \u001b[0m | \u001b[95m 0.9855  \u001b[0m | \u001b[95m 19.94   \u001b[0m | \u001b[95m 1.059   \u001b[0m | \u001b[95m 3.975   \u001b[0m | \u001b[95m 80.35   \u001b[0m |\n",
      "| \u001b[0m 60      \u001b[0m | \u001b[0m 0.9802  \u001b[0m | \u001b[0m 5.33    \u001b[0m | \u001b[0m 1.135   \u001b[0m | \u001b[0m 8.861   \u001b[0m | \u001b[0m 317.0   \u001b[0m |\n",
      "=========================================================================\n"
     ]
    }
   ],
   "source": [
    "#applying the optimizer\n",
    "\n",
    "optimizer = BayesianOptimization(\n",
    "    f=train_model,\n",
    "    pbounds=bounds,\n",
    "    random_state=1,\n",
    ")\n",
    "optimizer.maximize(init_points=50, n_iter=10)"
   ]
  },
  {
   "cell_type": "code",
   "execution_count": 402,
   "metadata": {},
   "outputs": [
    {
     "data": {
      "text/plain": [
       "{'target': 0.9855113679487034,\n",
       " 'params': {'max_depth': 19.941398277847203,\n",
       "  'min_samples_leaf': 1.0588880939683876,\n",
       "  'min_samples_split': 3.9749027703367643,\n",
       "  'n_estimators': 80.34860814583371}}"
      ]
     },
     "execution_count": 402,
     "metadata": {},
     "output_type": "execute_result"
    }
   ],
   "source": [
    "optimizer.max"
   ]
  },
  {
   "cell_type": "markdown",
   "metadata": {},
   "source": [
    "The modelling results are summarized in the table below:\n",
    "\n",
    "| Model No. |Feature Engineering |Model | Adjusted_$R^2$ or ($R^2$) |\n",
    "| :- | :- | :-: |-:|\n",
    "| 0. | All features  |Physics-based | .929\n",
    "| 1a. | All features |OLS | 0.989 (0.991)\n",
    "| 1b. | W/O upstream tower |OLS | 0.977 (0.979)\n",
    "| 1c. | Log of all features |OLS |0.982 (0.984)\n",
    "| 1d. | W/O upstream tower and log |OLS | 0.981 (0.982)\n",
    "| 2a. | All features |Random Forest Regressor | (0.969)\n",
    "| 2b. | W/O upstream tower |Random Forest Regressor| (0.975)\n",
    "| 2c. | Log of all features |Random Forest Regressor | (0.994)\n",
    "| 2d. | W/O upstream tower and log |Random Forest Regressor | (0.985)"
   ]
  },
  {
   "cell_type": "markdown",
   "metadata": {},
   "source": [
    "All machine learning models perform significantly better than the physics-based model. Amongst machine learning models, the Random Forest Regreessor model with log of data for both the case with all features (2c.) and the case without upstream tower measurements (2d.) perform marginally better than the remaining machine learning models."
   ]
  },
  {
   "cell_type": "markdown",
   "metadata": {},
   "source": [
    "**<font color='teal'> Applying the Random Forest Model to case 2c.</font>**"
   ]
  },
  {
   "cell_type": "code",
   "execution_count": 446,
   "metadata": {},
   "outputs": [
    {
     "data": {
      "text/plain": [
       "0.9954421205558557"
      ]
     },
     "execution_count": 446,
     "metadata": {},
     "output_type": "execute_result"
    }
   ],
   "source": [
    "# Applying the Random Forest Model to case 2c.\n",
    "\n",
    "'''{'target': 0.9946261930852625,\n",
    " 'params': {'max_depth': 7.3518709196912635,\n",
    "  'min_samples_leaf': 1.1671858195966855,\n",
    "  'min_samples_split': 2.5601771497537786,\n",
    "  'n_estimators': 199.6745932654424}}'''\n",
    "#preparing data\n",
    "\n",
    "X_train, X_test, y_train, y_test = train_test_split(x_scaled_log, y_log, test_size=0.25)\n",
    "\n",
    "regressor = RandomForestRegressor(random_state=1, max_depth=7,\n",
    "  min_samples_leaf= 1,\n",
    "  min_samples_split= 2,\n",
    "  n_estimators= 200)\n",
    "regressor.fit(X_train, y_train)\n",
    "regressor.score(X_test, y_test)"
   ]
  },
  {
   "cell_type": "code",
   "execution_count": 449,
   "metadata": {},
   "outputs": [
    {
     "data": {
      "image/png": "[encoded data removed]",
      "text/plain": [
       "<Figure size 432x288 with 1 Axes>"
      ]
     },
     "metadata": {
      "needs_background": "light"
     },
     "output_type": "display_data"
    }
   ],
   "source": [
    "# Plot the predictions\n",
    "\n",
    "y_pred_rfr = regressor.predict(X_test)\n",
    "\n",
    "# Build a scatterplot\n",
    "_ = plt.scatter(y_test, y_pred_rfr, color ='b', label='model prediction') \n",
    "\n",
    "\n",
    "\n",
    "# Add a line for perfect correlation. Can you see what this line is doing? Use plot()\n",
    "\n",
    "_ = plt.plot([2.2,3.6], [2.2,3.6], color ='r', label='perfect correlation') \n",
    "\n",
    "# Label it nicely\n",
    "\n",
    "_ = plt.xlabel('log10(Power_test)')\n",
    "_ = plt.ylabel('log10(Power_prediction)') \n",
    "_ = plt.axis('equal')\n",
    "_ = plt.legend()\n",
    "\n",
    "plt.show()"
   ]
  },
  {
   "cell_type": "code",
   "execution_count": 454,
   "metadata": {},
   "outputs": [
    {
     "data": {
      "text/plain": [
       "[0.5800000000000003, 0.9014293307826042]"
      ]
     },
     "execution_count": 454,
     "metadata": {},
     "output_type": "execute_result"
    },
    {
     "data": {
      "text/plain": [
       "<Figure size 720x504 with 0 Axes>"
      ]
     },
     "metadata": {},
     "output_type": "display_data"
    },
    {
     "data": {
      "image/png": "[encoded data removed]",
      "text/plain": [
       "<Figure size 1008x504 with 2 Axes>"
      ]
     },
     "metadata": {
      "needs_background": "light"
     },
     "output_type": "display_data"
    },
    {
     "data": {
      "text/plain": [
       "<Figure size 504x504 with 0 Axes>"
      ]
     },
     "metadata": {},
     "output_type": "display_data"
    }
   ],
   "source": [
    "#predicting all data\n",
    "y_pred_RFR_all = regressor.predict(x_scaled_log)\n",
    "\n",
    "y_pred_RFR_all_alog=10**y_pred_RFR_all\n",
    "y_alog=10**y_log\n",
    "\n",
    "comparer(df,y_pred_RFR_all_alog,y_alog)"
   ]
  },
  {
   "cell_type": "code",
   "execution_count": 456,
   "metadata": {},
   "outputs": [
    {
     "data": {
      "text/plain": [
       "array([2.96385662e-01, 3.71149198e-04, 1.45285003e-04, 2.39416651e-02,\n",
       "       2.58255887e-04, 4.25176249e-04, 9.44207709e-04, 3.60431486e-02,\n",
       "       3.92761725e-04, 4.57938453e-04, 3.20747380e-04, 1.09880010e-03,\n",
       "       9.12664338e-06, 1.00528037e-05, 2.64468196e-02, 3.54072323e-02,\n",
       "       3.55614740e-04, 2.36551977e-04, 3.60869003e-02, 5.01941603e-03,\n",
       "       2.08737550e-01, 2.81158399e-01, 2.57821598e-02, 1.93364277e-02,\n",
       "       1.71281216e-04, 4.57670504e-04])"
      ]
     },
     "execution_count": 456,
     "metadata": {},
     "output_type": "execute_result"
    }
   ],
   "source": [
    "regressor.feature_importances_"
   ]
  },
  {
   "cell_type": "code",
   "execution_count": 458,
   "metadata": {},
   "outputs": [
    {
     "data": {
      "text/html": [
       "<div>\n",
       "<style scoped>\n",
       "    .dataframe tbody tr th:only-of-type {\n",
       "        vertical-align: middle;\n",
       "    }\n",
       "\n",
       "    .dataframe tbody tr th {\n",
       "        vertical-align: top;\n",
       "    }\n",
       "\n",
       "    .dataframe thead th {\n",
       "        text-align: right;\n",
       "    }\n",
       "</style>\n",
       "<table border=\"1\" class=\"dataframe\">\n",
       "  <thead>\n",
       "    <tr style=\"text-align: right;\">\n",
       "      <th></th>\n",
       "      <th>feature_importances</th>\n",
       "    </tr>\n",
       "  </thead>\n",
       "  <tbody>\n",
       "    <tr>\n",
       "      <th>Wind Speed (m/s)</th>\n",
       "      <td>0.296386</td>\n",
       "    </tr>\n",
       "    <tr>\n",
       "      <th>Cube Wind Speed (m/s)^3</th>\n",
       "      <td>0.281158</td>\n",
       "    </tr>\n",
       "    <tr>\n",
       "      <th>Square Wind Speed (m/s)^2</th>\n",
       "      <td>0.208738</td>\n",
       "    </tr>\n",
       "    <tr>\n",
       "      <th>Std. Wind Speed 79.1m (m/s)</th>\n",
       "      <td>0.036087</td>\n",
       "    </tr>\n",
       "    <tr>\n",
       "      <th>Barometric Pressure (mbar)</th>\n",
       "      <td>0.036043</td>\n",
       "    </tr>\n",
       "    <tr>\n",
       "      <th>Low speed</th>\n",
       "      <td>0.035407</td>\n",
       "    </tr>\n",
       "    <tr>\n",
       "      <th>High speed</th>\n",
       "      <td>0.026447</td>\n",
       "    </tr>\n",
       "    <tr>\n",
       "      <th>Square Wind Speed 79.1m (m/s)^2</th>\n",
       "      <td>0.025782</td>\n",
       "    </tr>\n",
       "    <tr>\n",
       "      <th>Wind Speed 79.1m (m/s)</th>\n",
       "      <td>0.023942</td>\n",
       "    </tr>\n",
       "    <tr>\n",
       "      <th>Cube Wind Speed 79.1m (m/s)^3</th>\n",
       "      <td>0.019336</td>\n",
       "    </tr>\n",
       "    <tr>\n",
       "      <th>TI Wind Speed 79.1m (m/s)</th>\n",
       "      <td>0.005019</td>\n",
       "    </tr>\n",
       "    <tr>\n",
       "      <th>Relative Humidity Gradient (%)</th>\n",
       "      <td>0.001099</td>\n",
       "    </tr>\n",
       "    <tr>\n",
       "      <th>Relative Humidity 76.7m (%)</th>\n",
       "      <td>0.000944</td>\n",
       "    </tr>\n",
       "    <tr>\n",
       "      <th>Wind Direction Gradient (⁰)</th>\n",
       "      <td>0.000458</td>\n",
       "    </tr>\n",
       "    <tr>\n",
       "      <th>Inverse Air Temp 76.7m (1/⁰C)</th>\n",
       "      <td>0.000458</td>\n",
       "    </tr>\n",
       "    <tr>\n",
       "      <th>Air Temp 76.7m (⁰C)</th>\n",
       "      <td>0.000425</td>\n",
       "    </tr>\n",
       "    <tr>\n",
       "      <th>Wind Speed Gradient (m/s)</th>\n",
       "      <td>0.000393</td>\n",
       "    </tr>\n",
       "    <tr>\n",
       "      <th>Wind Direction (⁰)</th>\n",
       "      <td>0.000371</td>\n",
       "    </tr>\n",
       "    <tr>\n",
       "      <th>Std. Wind Speed (m/s)</th>\n",
       "      <td>0.000356</td>\n",
       "    </tr>\n",
       "    <tr>\n",
       "      <th>Virt. Pot. Temp. Gradient ($^\\circ C$)</th>\n",
       "      <td>0.000321</td>\n",
       "    </tr>\n",
       "    <tr>\n",
       "      <th>Wind Direction 79.1m (⁰)</th>\n",
       "      <td>0.000258</td>\n",
       "    </tr>\n",
       "    <tr>\n",
       "      <th>TI Wind Speed</th>\n",
       "      <td>0.000237</td>\n",
       "    </tr>\n",
       "    <tr>\n",
       "      <th>Inverse Ambient Temperature (1/⁰C)</th>\n",
       "      <td>0.000171</td>\n",
       "    </tr>\n",
       "    <tr>\n",
       "      <th>Ambient Temperature (⁰C)</th>\n",
       "      <td>0.000145</td>\n",
       "    </tr>\n",
       "    <tr>\n",
       "      <th>Winter</th>\n",
       "      <td>0.000010</td>\n",
       "    </tr>\n",
       "    <tr>\n",
       "      <th>Summer</th>\n",
       "      <td>0.000009</td>\n",
       "    </tr>\n",
       "  </tbody>\n",
       "</table>\n",
       "</div>"
      ],
      "text/plain": [
       "                                        feature_importances\n",
       "Wind Speed (m/s)                                   0.296386\n",
       "Cube Wind Speed (m/s)^3                            0.281158\n",
       "Square Wind Speed (m/s)^2                          0.208738\n",
       "Std. Wind Speed 79.1m (m/s)                        0.036087\n",
       "Barometric Pressure (mbar)                         0.036043\n",
       "Low speed                                          0.035407\n",
       "High speed                                         0.026447\n",
       "Square Wind Speed 79.1m (m/s)^2                    0.025782\n",
       "Wind Speed 79.1m (m/s)                             0.023942\n",
       "Cube Wind Speed 79.1m (m/s)^3                      0.019336\n",
       "TI Wind Speed 79.1m (m/s)                          0.005019\n",
       "Relative Humidity Gradient (%)                     0.001099\n",
       "Relative Humidity 76.7m (%)                        0.000944\n",
       "Wind Direction Gradient (⁰)                        0.000458\n",
       "Inverse Air Temp 76.7m (1/⁰C)                      0.000458\n",
       "Air Temp 76.7m (⁰C)                                0.000425\n",
       "Wind Speed Gradient (m/s)                          0.000393\n",
       "Wind Direction (⁰)                                 0.000371\n",
       "Std. Wind Speed (m/s)                              0.000356\n",
       "Virt. Pot. Temp. Gradient ($^\\circ C$)             0.000321\n",
       "Wind Direction 79.1m (⁰)                           0.000258\n",
       "TI Wind Speed                                      0.000237\n",
       "Inverse Ambient Temperature (1/⁰C)                 0.000171\n",
       "Ambient Temperature (⁰C)                           0.000145\n",
       "Winter                                             0.000010\n",
       "Summer                                             0.000009"
      ]
     },
     "execution_count": 458,
     "metadata": {},
     "output_type": "execute_result"
    }
   ],
   "source": [
    "feature_names=x_log.columns.values\n",
    "data_wo=abs(regressor.feature_importances_)\n",
    "data_wo=np.array(data_wo)\n",
    "#For retrieving the slope:\n",
    "coeff_df_wo=pd.DataFrame(data_wo,index=feature_names,columns=['feature_importances'])\n",
    "coeff_df_wo.sort_values(by=['feature_importances'],ascending=False)"
   ]
  },
  {
   "cell_type": "markdown",
   "metadata": {},
   "source": [
    "**<font color='teal'> Applying the Random Forest Model to case 2d.</font>**"
   ]
  },
  {
   "cell_type": "code",
   "execution_count": 462,
   "metadata": {},
   "outputs": [
    {
     "data": {
      "text/plain": [
       "0.9887947519482371"
      ]
     },
     "execution_count": 462,
     "metadata": {},
     "output_type": "execute_result"
    }
   ],
   "source": [
    "#optimized hyper parameters\n",
    "'''{'target': 0.9855113679487034,\n",
    " 'params': {'max_depth': 19.941398277847203,\n",
    "  'min_samples_leaf': 1.0588880939683876,\n",
    "  'min_samples_split': 3.9749027703367643,\n",
    "  'n_estimators': 80.34860814583371}}'''\n",
    "\n",
    "#preparing data\n",
    "\n",
    "X_train, X_test, y_train, y_test = train_test_split(x_scaled_log_woUP, y_log, test_size=0.25)\n",
    "\n",
    "regressor = RandomForestRegressor(random_state=1, max_depth=20,\n",
    "  min_samples_leaf= 1,\n",
    "  min_samples_split= 4,\n",
    "  n_estimators= 81)\n",
    "regressor.fit(X_train, y_train)\n",
    "regressor.score(X_test, y_test)"
   ]
  },
  {
   "cell_type": "code",
   "execution_count": 463,
   "metadata": {},
   "outputs": [
    {
     "data": {
      "image/png": "[encoded data removed]",
      "text/plain": [
       "<Figure size 432x288 with 1 Axes>"
      ]
     },
     "metadata": {
      "needs_background": "light"
     },
     "output_type": "display_data"
    }
   ],
   "source": [
    "# Plot the predictions\n",
    "\n",
    "y_pred_rfr = regressor.predict(X_test)\n",
    "\n",
    "# Build a scatterplot\n",
    "_ = plt.scatter(y_test, y_pred_rfr, color ='b', label='model prediction') \n",
    "\n",
    "\n",
    "\n",
    "# Add a line for perfect correlation. Can you see what this line is doing? Use plot()\n",
    "\n",
    "_ = plt.plot([2.2,3.6], [2.2,3.6], color ='r', label='perfect correlation') \n",
    "\n",
    "# Label it nicely\n",
    "\n",
    "_ = plt.xlabel('log10(Power_test)')\n",
    "_ = plt.ylabel('log10(Power_prediction)') \n",
    "_ = plt.axis('equal')\n",
    "_ = plt.legend()\n",
    "\n",
    "plt.show()"
   ]
  },
  {
   "cell_type": "code",
   "execution_count": 464,
   "metadata": {},
   "outputs": [
    {
     "data": {
      "text/plain": [
       "[0.5800000000000003, 0.9014293307826042]"
      ]
     },
     "execution_count": 464,
     "metadata": {},
     "output_type": "execute_result"
    },
    {
     "data": {
      "text/plain": [
       "<Figure size 720x504 with 0 Axes>"
      ]
     },
     "metadata": {},
     "output_type": "display_data"
    },
    {
     "data": {
      "image/png": "[encoded data removed]",
      "text/plain": [
       "<Figure size 1008x504 with 2 Axes>"
      ]
     },
     "metadata": {
      "needs_background": "light"
     },
     "output_type": "display_data"
    },
    {
     "data": {
      "text/plain": [
       "<Figure size 504x504 with 0 Axes>"
      ]
     },
     "metadata": {},
     "output_type": "display_data"
    }
   ],
   "source": [
    "#predicting all data\n",
    "y_pred_RFR_all_woUP = regressor.predict(x_scaled_log_woUP)\n",
    "\n",
    "y_pred_RFR_all_alog_woUP=10**y_pred_RFR_all_woUP\n",
    "y_alog=10**y_log\n",
    "\n",
    "comparer(df,y_pred_RFR_all_alog_woUP,y_alog)"
   ]
  },
  {
   "cell_type": "code",
   "execution_count": 465,
   "metadata": {},
   "outputs": [
    {
     "data": {
      "text/html": [
       "<div>\n",
       "<style scoped>\n",
       "    .dataframe tbody tr th:only-of-type {\n",
       "        vertical-align: middle;\n",
       "    }\n",
       "\n",
       "    .dataframe tbody tr th {\n",
       "        vertical-align: top;\n",
       "    }\n",
       "\n",
       "    .dataframe thead th {\n",
       "        text-align: right;\n",
       "    }\n",
       "</style>\n",
       "<table border=\"1\" class=\"dataframe\">\n",
       "  <thead>\n",
       "    <tr style=\"text-align: right;\">\n",
       "      <th></th>\n",
       "      <th>feature_importances</th>\n",
       "    </tr>\n",
       "  </thead>\n",
       "  <tbody>\n",
       "    <tr>\n",
       "      <th>Square Wind Speed (m/s)^2</th>\n",
       "      <td>0.339017</td>\n",
       "    </tr>\n",
       "    <tr>\n",
       "      <th>Wind Speed (m/s)</th>\n",
       "      <td>0.287928</td>\n",
       "    </tr>\n",
       "    <tr>\n",
       "      <th>Cube Wind Speed (m/s)^3</th>\n",
       "      <td>0.282584</td>\n",
       "    </tr>\n",
       "    <tr>\n",
       "      <th>Low speed</th>\n",
       "      <td>0.056416</td>\n",
       "    </tr>\n",
       "    <tr>\n",
       "      <th>High speed</th>\n",
       "      <td>0.022234</td>\n",
       "    </tr>\n",
       "    <tr>\n",
       "      <th>Inverse Air Temp 76.7m (1/⁰C)</th>\n",
       "      <td>0.003926</td>\n",
       "    </tr>\n",
       "    <tr>\n",
       "      <th>Wind Direction (⁰)</th>\n",
       "      <td>0.003337</td>\n",
       "    </tr>\n",
       "    <tr>\n",
       "      <th>Ambient Temperature (⁰C)</th>\n",
       "      <td>0.001752</td>\n",
       "    </tr>\n",
       "    <tr>\n",
       "      <th>TI Wind Speed</th>\n",
       "      <td>0.001342</td>\n",
       "    </tr>\n",
       "    <tr>\n",
       "      <th>Std. Wind Speed (m/s)</th>\n",
       "      <td>0.001311</td>\n",
       "    </tr>\n",
       "    <tr>\n",
       "      <th>Summer</th>\n",
       "      <td>0.000099</td>\n",
       "    </tr>\n",
       "    <tr>\n",
       "      <th>Winter</th>\n",
       "      <td>0.000054</td>\n",
       "    </tr>\n",
       "  </tbody>\n",
       "</table>\n",
       "</div>"
      ],
      "text/plain": [
       "                               feature_importances\n",
       "Square Wind Speed (m/s)^2                 0.339017\n",
       "Wind Speed (m/s)                          0.287928\n",
       "Cube Wind Speed (m/s)^3                   0.282584\n",
       "Low speed                                 0.056416\n",
       "High speed                                0.022234\n",
       "Inverse Air Temp 76.7m (1/⁰C)             0.003926\n",
       "Wind Direction (⁰)                        0.003337\n",
       "Ambient Temperature (⁰C)                  0.001752\n",
       "TI Wind Speed                             0.001342\n",
       "Std. Wind Speed (m/s)                     0.001311\n",
       "Summer                                    0.000099\n",
       "Winter                                    0.000054"
      ]
     },
     "execution_count": 465,
     "metadata": {},
     "output_type": "execute_result"
    }
   ],
   "source": [
    "feature_names=x_log_woUP.columns.values\n",
    "data_wo=abs(regressor.feature_importances_)\n",
    "data_wo=np.array(data_wo)\n",
    "#For retrieving the slope:\n",
    "coeff_df_wo=pd.DataFrame(data_wo,index=feature_names,columns=['feature_importances'])\n",
    "coeff_df_wo.sort_values(by=['feature_importances'],ascending=False)"
   ]
  },
  {
   "cell_type": "markdown",
   "metadata": {},
   "source": [
    "The above comparison plots show significant prediction improvement when an optimized Random Forest Regressor model is created using log of the data when compared to the physics-based model. The order of feature importance for Random Forest Regressor is different than the relative feature contributions to the OLS model. In all cases, as expected from the physics-based model, the wind speed and its cube and square power are of most importance along with temperature. The additional categorical features that classify the wind speed as 'high' or 'low' and the ones classify the seasons as 'winter' or 'summer' are critical for the Random Forest Regressor and the OLS model, respeectiveee  is of sig of  "
   ]
  }
 ],
 "metadata": {
  "kernelspec": {
   "display_name": "Python 3",
   "language": "python",
   "name": "python3"
  },
  "language_info": {
   "codemirror_mode": {
    "name": "ipython",
    "version": 3
   },
   "file_extension": ".py",
   "mimetype": "text/x-python",
   "name": "python",
   "nbconvert_exporter": "python",
   "pygments_lexer": "ipython3",
   "version": "3.7.4"
  }
 },
 "nbformat": 4,
 "nbformat_minor": 2
}
