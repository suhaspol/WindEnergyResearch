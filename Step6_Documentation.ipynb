{
 "cells": [
  {
   "cell_type": "markdown",
   "metadata": {},
   "source": [
    "# Capstone 2: Step 6 Documentation"
   ]
  },
  {
   "cell_type": "markdown",
   "metadata": {},
   "source": [
    "**The Data Science Method**  \n",
    "\n",
    "\n",
    "1.   Problem Identification \n",
    "\n",
    "2.   Data Wrangling \n",
    "  \n",
    "3.   Exploratory Data Analysis \n",
    " \n",
    "4.   Pre-processing and Training Data Development\n",
    "\n",
    "5.  Modeling\n",
    "\n",
    "6.   **Documentation**\n",
    "  * Review the Results\n",
    "  * Finalize Code \n",
    "  * Finalize Documentation\n",
    "  * Create a Project Report \n",
    "  * Create a Slide Deck for the Executive Audience"
   ]
  },
  {
   "cell_type": "markdown",
   "metadata": {},
   "source": [
    "**<font color='teal'> Loading necessary packages.</font>**"
   ]
  },
  {
   "cell_type": "code",
   "execution_count": 3,
   "metadata": {},
   "outputs": [],
   "source": [
    "#load python packages\n",
    "import os\n",
    "import pandas as pd\n",
    "import datetime\n",
    "import seaborn as sns\n",
    "import matplotlib.pyplot as plt\n",
    "import numpy as np\n",
    "from sklearn import preprocessing\n",
    "%matplotlib inline"
   ]
  },
  {
   "cell_type": "markdown",
   "metadata": {},
   "source": [
    "## Fitting Models with Training Data Set"
   ]
  },
  {
   "cell_type": "markdown",
   "metadata": {},
   "source": [
    "In the modeling step (step 5), the best fit was achieved when Random Forest Regressor model was fit to the log of the wind turbine dataset. This was also true when the upstream tower measurements were removed form the data set.\n",
    "\n",
    "Below modeling of both data sets is presented. The utility of the model that uses all features is during turbine calibration stage, and utility of the model without upstream tower features is during turbine operation. \n",
    "\n",
    "Note: 'All feature' dataset refers to features obtained from original dataset and also the derived features. Further, features that exhibited collinearity were dropped and not considered in the 'All feature' dataset (See Step 3 notebook for more details)."
   ]
  },
  {
   "cell_type": "markdown",
   "metadata": {},
   "source": [
    "#### Best Model for 'all features' dataset."
   ]
  },
  {
   "cell_type": "code",
   "execution_count": 24,
   "metadata": {},
   "outputs": [
    {
     "name": "stdout",
     "output_type": "stream",
     "text": [
      "Model R^2:  0.996\n"
     ]
    }
   ],
   "source": [
    "# loading dataset\n",
    "df=pd.read_csv('./data/step3_EDA_output.csv',index_col=0)\n",
    "\n",
    "\n",
    "# adding additional features that represent powers of speed and inverse of temperature\n",
    "df['Square Wind Speed (m/s)^2']=df['Wind Speed (m/s)']*df['Wind Speed (m/s)']\n",
    "df['Cube Wind Speed (m/s)^3']=df['Square Wind Speed (m/s)^2']*df['Wind Speed (m/s)']\n",
    "df['Square Wind Speed 79.1m (m/s)^2']=df['Wind Speed 79.1m (m/s)']*df['Wind Speed 79.1m (m/s)']\n",
    "df['Cube Wind Speed 79.1m (m/s)^3']=df['Wind Speed 79.1m (m/s)']*df['Wind Speed 79.1m (m/s)']\n",
    "df['Inverse Ambient Temperature (1/⁰C)']=1/df['Ambient Temperature (⁰C)']\n",
    "df['Inverse Air Temp 76.7m (1/⁰C)']=1/df['Air Temp 76.7m (⁰C)']\n",
    "\n",
    "\n",
    "# taking the log of the dataset\n",
    "\n",
    "#Log of negetive temperatures may lead to loosing this feature when log is applied. To avoid the temperatures are converted to Kelvin scale.\n",
    "df_copy=df\n",
    "df_copy['Ambient Temperature (⁰C)']=df_copy['Ambient Temperature (⁰C)']+273\n",
    "df_copy['Air Temp 76.7m (⁰C)']=df_copy['Air Temp 76.7m (⁰C)']+273\n",
    "df_abs=df_copy.applymap(np.absolute)\n",
    "\n",
    "#Avoiding '0' value by adjusting code for categorical vairables\n",
    "df_abs['Summer']=df_abs['Summer']+1\n",
    "df_abs['Winter']=df_abs['Winter']+1\n",
    "df_abs['High speed']=df_abs['High speed']+1\n",
    "df_abs['Low speed']=df_abs['Low speed']+1\n",
    "df_log=df_abs.applymap(np.log10) \n",
    "\n",
    "\n",
    "# Note: since Ri_B<0 will be modified, loosing its physical meaning, this feature will be dropped. \n",
    "x_log = df_log.drop(['Real Power (kW)','Ri_B'], axis =1)\n",
    "y_log=df_log['Real Power (kW)']\n",
    "\n",
    "\n",
    "# Standardizing the numerical values\n",
    "\n",
    "# Scaling features (mean=0 std.=1)\n",
    "x_scaled_log=preprocessing.scale(x_log, axis=0, with_mean=True, with_std=True, copy=True)\n",
    "\n",
    "\n",
    "# Creating train-test split\n",
    "from sklearn.model_selection import train_test_split\n",
    "X_train, X_test, y_train, y_test = train_test_split(x_scaled_log, y_log, test_size=0.25)\n",
    "\n",
    "# Builiding the regressor model (2c in Step5) using optimized hyperparameters found using Bayesian optimizer.\n",
    "from sklearn.ensemble import RandomForestRegressor\n",
    "regressor = RandomForestRegressor(random_state=1, max_depth=7,\n",
    "  min_samples_leaf= 1,\n",
    "  min_samples_split= 2,\n",
    "  n_estimators= 200)\n",
    "regressor.fit(X_train, y_train)\n",
    "print('Model R^2: ',round(regressor.score(X_test, y_test),4))"
   ]
  },
  {
   "cell_type": "markdown",
   "metadata": {},
   "source": [
    "## Review of results "
   ]
  },
  {
   "cell_type": "code",
   "execution_count": 25,
   "metadata": {},
   "outputs": [
    {
     "name": "stdout",
     "output_type": "stream",
     "text": [
      "Model Explained Variance:  0.996\n"
     ]
    }
   ],
   "source": [
    "from sklearn.metrics import explained_variance_score,mean_absolute_error,mean_squared_error\n",
    "y_pred_rfr = regressor.predict(X_test)\n",
    "print('Model Explained Variance: ',round(explained_variance_score(y_test, y_pred_rfr),4))"
   ]
  },
  {
   "cell_type": "code",
   "execution_count": 26,
   "metadata": {},
   "outputs": [
    {
     "data": {
      "image/png": "[encoded data removed]",
      "text/plain": [
       "<Figure size 432x288 with 1 Axes>"
      ]
     },
     "metadata": {
      "needs_background": "light"
     },
     "output_type": "display_data"
    }
   ],
   "source": [
    "# Build a model scatterplot\n",
    "_ = plt.scatter(y_test, y_pred_rfr, color ='b', label='model prediction') \n",
    "\n",
    "\n",
    "\n",
    "# Add a line for perfect correlation. \n",
    "\n",
    "_ = plt.plot([2.2,3.6], [2.2,3.6], color ='r', label='perfect correlation') \n",
    "\n",
    "# Label \n",
    "\n",
    "_ = plt.xlabel('log10(Power_test)')\n",
    "_ = plt.ylabel('log10(Power_prediction)') \n",
    "_ = plt.axis('equal')\n",
    "_ = plt.legend()\n",
    "\n",
    "plt.show()"
   ]
  },
  {
   "cell_type": "code",
   "execution_count": 29,
   "metadata": {},
   "outputs": [
    {
     "data": {
      "text/plain": [
       "[0.5800000000000003, 0.9014293307826042]"
      ]
     },
     "execution_count": 29,
     "metadata": {},
     "output_type": "execute_result"
    },
    {
     "data": {
      "text/plain": [
       "<Figure size 720x504 with 0 Axes>"
      ]
     },
     "metadata": {},
     "output_type": "display_data"
    },
    {
     "data": {
      "image/png": "[encoded data removed]",
      "text/plain": [
       "<Figure size 1008x504 with 2 Axes>"
      ]
     },
     "metadata": {
      "needs_background": "light"
     },
     "output_type": "display_data"
    },
    {
     "data": {
      "text/plain": [
       "<Figure size 504x504 with 0 Axes>"
      ]
     },
     "metadata": {},
     "output_type": "display_data"
    }
   ],
   "source": [
    "#Comparing regressor_all model with the physics-based model\n",
    "\n",
    "def comparer(df,y_pred_ols_all,y): \n",
    "    df_test1=df.loc[df['Wind Speed (m/s)']<12 ] #12\n",
    "    df_test=df_test1.loc[df['Real Power (kW)']<2500 ] #2500\n",
    "    x_test_array=np.array(df_test[['Wind Speed (m/s)', 'Ambient Temperature (⁰C)', 'Barometric Pressure (mbar)']].values)\n",
    "    y_test_array=np.array(df_test[['Real Power (kW)']].values)[:,0]\n",
    "    \n",
    "    #from eq. 5\n",
    "    #Note: pressure is multiplied by 100 to convert mbar to Pa\n",
    "    #Note: 273 is added to temperature to convert C to K\n",
    "    \n",
    "    density_estimate=0.0035*(x_test_array[:,2]*100)/(x_test_array[:,1]+273)\n",
    "    cp_array= np.arange(0.3, 0.59, 0.01)\n",
    "    P_est=[]\n",
    "    count=0\n",
    "    vect_adj_R2=[]\n",
    "    \n",
    "    for cp in cp_array:\n",
    "        #from eq. 1\n",
    "        #1/1000 factor multiplication to convert W to kW \n",
    "        P_line=(1/1000)*1/2*cp*np.array(density_estimate)*7.24e3* (np.array(x_test_array[:,0])**3) \n",
    "        P_est.append(P_line)\n",
    "        count=count+1\n",
    "        #estimating  adj_R2\n",
    "        R2=1-((1/len(P_line))*np.sum(np.power((y_test_array-np.array(P_line)),2))/np.var(y_test_array))\n",
    "        adj_R2=1-((1-R2)*(len(P_line)-1)/(len(P_line)-3-1))\n",
    "        vect_adj_R2.append(adj_R2)\n",
    "        \n",
    "        P_est_np=np.array(P_est)\n",
    "        \n",
    "    maxpos = vect_adj_R2.index(max(vect_adj_R2))\n",
    "    \n",
    "    \n",
    "    \n",
    "    #values at rated\n",
    "    df_rated=df.loc[df['Wind Speed (m/s)']>=12 ]\n",
    "    y_test_array_at_rated=np.array(df_rated[['Real Power (kW)']].values)[:,0]\n",
    "    P_phy_model_optCp_at_rated=2500*np.ones(len(y_test_array_at_rated))\n",
    "    \n",
    "    mask=df['Wind Speed (m/s)']>=12\n",
    "    y_rated=y.loc[mask]\n",
    "    y_pred_ols_all_rated=y_pred_ols_all[mask]\n",
    "    #code above for values at rated\n",
    "        \n",
    "    P_phy_model_optCp=(1/1000)*1/2*cp_array[maxpos]*np.array(density_estimate)*7.24e3*(np.array(x_test_array[:,0])**3)\n",
    "    P_phy_model_optCp[P_phy_model_optCp>2500]=2500\n",
    "    \n",
    "    plt.figure(figsize=(10,7))\n",
    "    fig, (ax1, ax2) = plt.subplots(1, 2,figsize=(14,7))\n",
    "    \n",
    "    ax1.plot([100,2700], [100,2700], color ='r', label='perfect correlation')\n",
    "    ax1.scatter(y_test_array,P_phy_model_optCp,color ='b')\n",
    "    ax1.scatter(y_test_array_at_rated,P_phy_model_optCp_at_rated,color ='g')\n",
    "    \n",
    "    ax1.set(xlabel='Real Power (measured) (kW)', ylabel='Estimated Power (kW)', title='Measured vs. Physics-based Model')\n",
    "    ax1.legend(['perfect correlation','model prediction','model prediction_at rated'])\n",
    "    ax1.axis('equal')\n",
    "    \n",
    "    speed_array= np.arange(4, 13, 0.1)\n",
    "    speed_array=np.append(speed_array, 14)\n",
    "    P_phy_model=(1/1000)*1/2*cp_array[maxpos]*np.mean(density_estimate)*7.24e3*(speed_array**3) \n",
    "    speed_array2= np.arange(12, 16.5, 0.1)\n",
    "    P_phy_model2=2500*np.ones(len(speed_array2)) \n",
    "    \n",
    "    plt.figure(figsize=(7,7))\n",
    "    ax2.plot([100,2700], [100,2700], color ='r', label='perfect correlation')\n",
    "    ax2.scatter(y, y_pred_ols_all, color ='b', label='model prediction')\n",
    "    ax2.scatter(y_rated, y_pred_ols_all_rated, color ='g', label='model prediction_at rated')\n",
    "    ax2.set(xlabel='Real Power (measured) (kW)', ylabel='Estimated Power (kW)', title='Measured vs. ML Model')\n",
    "    ax2.legend(['perfect correlation','model prediction','model prediction_at rated'])\n",
    "    ax2.axis('equal')\n",
    "    \n",
    "    output=[cp_array[maxpos], vect_adj_R2[maxpos]]\n",
    "    return output\n",
    "\n",
    "y_pred_RFR_all = regressor.predict(x_scaled_log)\n",
    "\n",
    "y_pred_RFR_all_alog=10**y_pred_RFR_all# takine antilog to retrive the correct units (kW)\n",
    "y_alog=10**y_log\n",
    "\n",
    "comparer(df,y_pred_RFR_all_alog,y_alog)"
   ]
  },
  {
   "cell_type": "markdown",
   "metadata": {},
   "source": [
    "The prediction improvement is evident in the measured vs. prediction plots. As shown in the left panel, the physics-based model seems to overpredict the power produced in Region II (below rated power), and has worse performance at higher wind speeds (**<font color='blue'> blue dots </font>**). The physics-based model is unable to predict power in Region III (rated power) because the turbine is regulated (**<font color='green'> green dots </font>**). As shown in the right panel, the Random Forest Regressor model is robust enough to predict power even in Region III (**<font color='green'> green dots </font>**). Further, a fitting-based estimate of turbine efficiency $Cp$ was not needed for the regressor model prediction."
   ]
  },
  {
   "cell_type": "code",
   "execution_count": 31,
   "metadata": {},
   "outputs": [
    {
     "data": {
      "text/html": [
       "<div>\n",
       "<style scoped>\n",
       "    .dataframe tbody tr th:only-of-type {\n",
       "        vertical-align: middle;\n",
       "    }\n",
       "\n",
       "    .dataframe tbody tr th {\n",
       "        vertical-align: top;\n",
       "    }\n",
       "\n",
       "    .dataframe thead th {\n",
       "        text-align: right;\n",
       "    }\n",
       "</style>\n",
       "<table border=\"1\" class=\"dataframe\">\n",
       "  <thead>\n",
       "    <tr style=\"text-align: right;\">\n",
       "      <th></th>\n",
       "      <th>feature_importances</th>\n",
       "    </tr>\n",
       "  </thead>\n",
       "  <tbody>\n",
       "    <tr>\n",
       "      <th>Wind Speed (m/s)</th>\n",
       "      <td>0.356023</td>\n",
       "    </tr>\n",
       "    <tr>\n",
       "      <th>Cube Wind Speed (m/s)^3</th>\n",
       "      <td>0.314081</td>\n",
       "    </tr>\n",
       "    <tr>\n",
       "      <th>Square Wind Speed (m/s)^2</th>\n",
       "      <td>0.221060</td>\n",
       "    </tr>\n",
       "    <tr>\n",
       "      <th>Square Wind Speed 79.1m (m/s)^2</th>\n",
       "      <td>0.026229</td>\n",
       "    </tr>\n",
       "    <tr>\n",
       "      <th>Wind Speed 79.1m (m/s)</th>\n",
       "      <td>0.023107</td>\n",
       "    </tr>\n",
       "    <tr>\n",
       "      <th>Cube Wind Speed 79.1m (m/s)^3</th>\n",
       "      <td>0.019948</td>\n",
       "    </tr>\n",
       "    <tr>\n",
       "      <th>Barometric Pressure (mbar)</th>\n",
       "      <td>0.009799</td>\n",
       "    </tr>\n",
       "    <tr>\n",
       "      <th>Std. Wind Speed 79.1m (m/s)</th>\n",
       "      <td>0.009159</td>\n",
       "    </tr>\n",
       "    <tr>\n",
       "      <th>TI Wind Speed 79.1m (m/s)</th>\n",
       "      <td>0.009137</td>\n",
       "    </tr>\n",
       "    <tr>\n",
       "      <th>Low speed</th>\n",
       "      <td>0.004422</td>\n",
       "    </tr>\n",
       "    <tr>\n",
       "      <th>Relative Humidity Gradient (%)</th>\n",
       "      <td>0.001057</td>\n",
       "    </tr>\n",
       "    <tr>\n",
       "      <th>Wind Speed Gradient (m/s)</th>\n",
       "      <td>0.000813</td>\n",
       "    </tr>\n",
       "    <tr>\n",
       "      <th>Virt. Pot. Temp. Gradient ($^\\circ C$)</th>\n",
       "      <td>0.000810</td>\n",
       "    </tr>\n",
       "    <tr>\n",
       "      <th>Relative Humidity 76.7m (%)</th>\n",
       "      <td>0.000700</td>\n",
       "    </tr>\n",
       "    <tr>\n",
       "      <th>Wind Direction Gradient (⁰)</th>\n",
       "      <td>0.000643</td>\n",
       "    </tr>\n",
       "    <tr>\n",
       "      <th>Air Temp 76.7m (⁰C)</th>\n",
       "      <td>0.000620</td>\n",
       "    </tr>\n",
       "    <tr>\n",
       "      <th>Std. Wind Speed (m/s)</th>\n",
       "      <td>0.000572</td>\n",
       "    </tr>\n",
       "    <tr>\n",
       "      <th>Inverse Air Temp 76.7m (1/⁰C)</th>\n",
       "      <td>0.000479</td>\n",
       "    </tr>\n",
       "    <tr>\n",
       "      <th>Wind Direction (⁰)</th>\n",
       "      <td>0.000385</td>\n",
       "    </tr>\n",
       "    <tr>\n",
       "      <th>TI Wind Speed</th>\n",
       "      <td>0.000253</td>\n",
       "    </tr>\n",
       "    <tr>\n",
       "      <th>Wind Direction 79.1m (⁰)</th>\n",
       "      <td>0.000253</td>\n",
       "    </tr>\n",
       "    <tr>\n",
       "      <th>Inverse Ambient Temperature (1/⁰C)</th>\n",
       "      <td>0.000244</td>\n",
       "    </tr>\n",
       "    <tr>\n",
       "      <th>Ambient Temperature (⁰C)</th>\n",
       "      <td>0.000167</td>\n",
       "    </tr>\n",
       "    <tr>\n",
       "      <th>High speed</th>\n",
       "      <td>0.000019</td>\n",
       "    </tr>\n",
       "    <tr>\n",
       "      <th>Summer</th>\n",
       "      <td>0.000013</td>\n",
       "    </tr>\n",
       "    <tr>\n",
       "      <th>Winter</th>\n",
       "      <td>0.000006</td>\n",
       "    </tr>\n",
       "  </tbody>\n",
       "</table>\n",
       "</div>"
      ],
      "text/plain": [
       "                                        feature_importances\n",
       "Wind Speed (m/s)                                   0.356023\n",
       "Cube Wind Speed (m/s)^3                            0.314081\n",
       "Square Wind Speed (m/s)^2                          0.221060\n",
       "Square Wind Speed 79.1m (m/s)^2                    0.026229\n",
       "Wind Speed 79.1m (m/s)                             0.023107\n",
       "Cube Wind Speed 79.1m (m/s)^3                      0.019948\n",
       "Barometric Pressure (mbar)                         0.009799\n",
       "Std. Wind Speed 79.1m (m/s)                        0.009159\n",
       "TI Wind Speed 79.1m (m/s)                          0.009137\n",
       "Low speed                                          0.004422\n",
       "Relative Humidity Gradient (%)                     0.001057\n",
       "Wind Speed Gradient (m/s)                          0.000813\n",
       "Virt. Pot. Temp. Gradient ($^\\circ C$)             0.000810\n",
       "Relative Humidity 76.7m (%)                        0.000700\n",
       "Wind Direction Gradient (⁰)                        0.000643\n",
       "Air Temp 76.7m (⁰C)                                0.000620\n",
       "Std. Wind Speed (m/s)                              0.000572\n",
       "Inverse Air Temp 76.7m (1/⁰C)                      0.000479\n",
       "Wind Direction (⁰)                                 0.000385\n",
       "TI Wind Speed                                      0.000253\n",
       "Wind Direction 79.1m (⁰)                           0.000253\n",
       "Inverse Ambient Temperature (1/⁰C)                 0.000244\n",
       "Ambient Temperature (⁰C)                           0.000167\n",
       "High speed                                         0.000019\n",
       "Summer                                             0.000013\n",
       "Winter                                             0.000006"
      ]
     },
     "execution_count": 31,
     "metadata": {},
     "output_type": "execute_result"
    }
   ],
   "source": [
    "# Exploring relative feature importance\n",
    "\n",
    "feature_names=x_log.columns.values\n",
    "data_wo=abs(regressor.feature_importances_)\n",
    "data_wo=np.array(data_wo)\n",
    "#For retrieving the slope:\n",
    "coeff_df_wo=pd.DataFrame(data_wo,index=feature_names,columns=['feature_importances'])\n",
    "coeff_df_wo.sort_values(by=['feature_importances'],ascending=False)"
   ]
  },
  {
   "cell_type": "markdown",
   "metadata": {},
   "source": [
    "The wind speed and its cube and square power are of most importance along with temperature. The physics based model only emphasizes the cube of speed. The additional categorical features that classify the wind speed as 'high' or 'low' are critical for the Random Forest Regressor model."
   ]
  },
  {
   "cell_type": "markdown",
   "metadata": {},
   "source": [
    "## Finalize Code"
   ]
  },
  {
   "cell_type": "code",
   "execution_count": 32,
   "metadata": {},
   "outputs": [
    {
     "data": {
      "text/plain": [
       "['./models/random_forest_regressor_model_windenergy_allfeatures.joblib']"
      ]
     },
     "execution_count": 32,
     "metadata": {},
     "output_type": "execute_result"
    }
   ],
   "source": [
    "import pickle\n",
    "s = pickle.dumps(regressor)\n",
    "from joblib import dump, load\n",
    "dump(regressor, './models/random_forest_regressor_model_windenergy_allfeatures.joblib') "
   ]
  },
  {
   "cell_type": "markdown",
   "metadata": {},
   "source": [
    "## Finalize Documentation"
   ]
  },
  {
   "cell_type": "markdown",
   "metadata": {},
   "source": [
    "Documentation includes model performance metrics as well as the hyperparameter values included in the final model."
   ]
  },
  {
   "cell_type": "code",
   "execution_count": 40,
   "metadata": {},
   "outputs": [],
   "source": [
    "    \n",
    "param_names=['random_state','max_depth','min_samples_leaf','min_samples_split','n_estimators']\n",
    "param_value=np.array([1,7,1,2,200])\n",
    "\n",
    "coeff_df=pd.DataFrame(param_value,index=param_names,columns=['Hyperparameter Values'])\n",
    "coeff_df=coeff_df.reset_index().rename(columns={'index': 'Hyperparameter'})"
   ]
  },
  {
   "cell_type": "code",
   "execution_count": 41,
   "metadata": {},
   "outputs": [
    {
     "data": {
      "text/html": [
       "<div>\n",
       "<style scoped>\n",
       "    .dataframe tbody tr th:only-of-type {\n",
       "        vertical-align: middle;\n",
       "    }\n",
       "\n",
       "    .dataframe tbody tr th {\n",
       "        vertical-align: top;\n",
       "    }\n",
       "\n",
       "    .dataframe thead th {\n",
       "        text-align: right;\n",
       "    }\n",
       "</style>\n",
       "<table border=\"1\" class=\"dataframe\">\n",
       "  <thead>\n",
       "    <tr style=\"text-align: right;\">\n",
       "      <th></th>\n",
       "      <th>Hyperparameter</th>\n",
       "      <th>Hyperparameter Values</th>\n",
       "      <th>Explained Variance</th>\n",
       "      <th>Root Mean Square Error</th>\n",
       "    </tr>\n",
       "  </thead>\n",
       "  <tbody>\n",
       "    <tr>\n",
       "      <th>0</th>\n",
       "      <td>random_state</td>\n",
       "      <td>1</td>\n",
       "      <td>0.996</td>\n",
       "      <td>0.0244</td>\n",
       "    </tr>\n",
       "    <tr>\n",
       "      <th>1</th>\n",
       "      <td>max_depth</td>\n",
       "      <td>7</td>\n",
       "      <td></td>\n",
       "      <td></td>\n",
       "    </tr>\n",
       "    <tr>\n",
       "      <th>2</th>\n",
       "      <td>min_samples_leaf</td>\n",
       "      <td>1</td>\n",
       "      <td></td>\n",
       "      <td></td>\n",
       "    </tr>\n",
       "    <tr>\n",
       "      <th>3</th>\n",
       "      <td>min_samples_split</td>\n",
       "      <td>2</td>\n",
       "      <td></td>\n",
       "      <td></td>\n",
       "    </tr>\n",
       "    <tr>\n",
       "      <th>4</th>\n",
       "      <td>n_estimators</td>\n",
       "      <td>200</td>\n",
       "      <td></td>\n",
       "      <td></td>\n",
       "    </tr>\n",
       "  </tbody>\n",
       "</table>\n",
       "</div>"
      ],
      "text/plain": [
       "      Hyperparameter  Hyperparameter Values Explained Variance  \\\n",
       "0       random_state                      1              0.996   \n",
       "1          max_depth                      7                      \n",
       "2   min_samples_leaf                      1                      \n",
       "3  min_samples_split                      2                      \n",
       "4       n_estimators                    200                      \n",
       "\n",
       "  Root Mean Square Error  \n",
       "0                 0.0244  \n",
       "1                         \n",
       "2                         \n",
       "3                         \n",
       "4                         "
      ]
     },
     "execution_count": 41,
     "metadata": {},
     "output_type": "execute_result"
    }
   ],
   "source": [
    "coeff_df['Explained Variance']=[round(explained_variance_score(y_test, y_pred_rfr),4)]+['']*(len(coeff_df)-1)\n",
    "coeff_df['Root Mean Square Error']=[round((mean_squared_error(y_test, y_pred_rfr)**(1/2)),4)]+['']*(len(coeff_df)-1)\n",
    "coeff_df"
   ]
  },
  {
   "cell_type": "code",
   "execution_count": 42,
   "metadata": {},
   "outputs": [],
   "source": [
    "coeff_df.to_csv('./models/Random Forest Regressor Model_hyperparameters_performance.csv')"
   ]
  },
  {
   "cell_type": "markdown",
   "metadata": {},
   "source": [
    "## Fitting Models with Training Data Set for Limited Features"
   ]
  },
  {
   "cell_type": "code",
   "execution_count": 55,
   "metadata": {},
   "outputs": [
    {
     "name": "stdout",
     "output_type": "stream",
     "text": [
      "Model R^2:  0.9915\n"
     ]
    }
   ],
   "source": [
    "# preparing limited feature data set without upstream tower measurements\n",
    "\n",
    "colTodrop=['Wind Speed 79.1m (m/s)', 'Wind Direction 79.1m (⁰)',\n",
    "       'Air Temp 76.7m (⁰C)', 'Relative Humidity 76.7m (%)',\n",
    "       'Barometric Pressure (mbar)', 'Wind Speed Gradient (m/s)',\n",
    "       'Wind Direction Gradient (⁰)', 'Virt. Pot. Temp. Gradient ($^\\circ C$)',\n",
    "       'Relative Humidity Gradient (%)', 'Std. Wind Speed 79.1m (m/s)', 'TI Wind Speed 79.1m (m/s)','Square Wind Speed 79.1m (m/s)^2', 'Cube Wind Speed 79.1m (m/s)^3',\n",
    "       'Inverse Ambient Temperature (1/⁰C)']\n",
    "\n",
    "#Note: 'Ri_B' has been already dropped\n",
    "\n",
    "x_log_woUP = x_log.drop(colTodrop, axis =1)\n",
    "\n",
    "\n",
    "# Standardizing the numerical values\n",
    "\n",
    "# Scaling features (mean=0 std.=1)\n",
    "x_scaled_log_woUP=preprocessing.scale(x_log_woUP, axis=0, with_mean=True, with_std=True, copy=True)\n",
    "\n",
    "\n",
    "# Creating train-test split\n",
    "from sklearn.model_selection import train_test_split\n",
    "X_train, X_test, y_train, y_test = train_test_split(x_scaled_log_woUP, y_log, test_size=0.25)\n",
    "\n",
    "# Builiding the regressor model (2c in Step5) using optimized hyperparameters found using Bayesian optimizer. Further a while loop is used since output of this model is not consistent\n",
    "from sklearn.ensemble import RandomForestRegressor\n",
    "max_iter=10 \n",
    "metric=0.0\n",
    "itera=1\n",
    "while ((metric <= 0.988) and itera<max_iter):\n",
    "    regressor_woUP = RandomForestRegressor(random_state=1, max_depth=20,\n",
    "                                           min_samples_leaf= 1, min_samples_split= 4, n_estimators= 81)\n",
    "    regressor_woUP.fit(X_train, y_train)\n",
    "    metric=regressor_woUP.score(X_test, y_test)\n",
    "    itera=itera+1\n",
    "    \n",
    "print('Model R^2: ',round(regressor_woUP.score(X_test, y_test),4))"
   ]
  },
  {
   "cell_type": "markdown",
   "metadata": {},
   "source": [
    "## Review of results  for data without upstream features"
   ]
  },
  {
   "cell_type": "code",
   "execution_count": 56,
   "metadata": {},
   "outputs": [
    {
     "name": "stdout",
     "output_type": "stream",
     "text": [
      "Model Explained Variance:  0.9918\n"
     ]
    }
   ],
   "source": [
    "y_pred_rfr_woUP = regressor_woUP.predict(X_test)\n",
    "print('Model Explained Variance: ',round(explained_variance_score(y_test, y_pred_rfr_woUP),4))"
   ]
  },
  {
   "cell_type": "code",
   "execution_count": 57,
   "metadata": {},
   "outputs": [
    {
     "data": {
      "image/png": "[encoded data removed]",
      "text/plain": [
       "<Figure size 432x288 with 1 Axes>"
      ]
     },
     "metadata": {
      "needs_background": "light"
     },
     "output_type": "display_data"
    }
   ],
   "source": [
    "# Build a model scatterplot\n",
    "_ = plt.scatter(y_test, y_pred_rfr_woUP, color ='b', label='model prediction') \n",
    "\n",
    "\n",
    "\n",
    "# Add a line for perfect correlation. \n",
    "\n",
    "_ = plt.plot([2.2,3.6], [2.2,3.6], color ='r', label='perfect correlation') \n",
    "\n",
    "# Label \n",
    "\n",
    "_ = plt.xlabel('log10(Power_test)')\n",
    "_ = plt.ylabel('log10(Power_prediction)') \n",
    "_ = plt.axis('equal')\n",
    "_ = plt.legend()\n",
    "\n",
    "plt.show()"
   ]
  },
  {
   "cell_type": "code",
   "execution_count": 62,
   "metadata": {},
   "outputs": [
    {
     "data": {
      "text/plain": [
       "[0.5800000000000003, 0.9014293307826042]"
      ]
     },
     "execution_count": 62,
     "metadata": {},
     "output_type": "execute_result"
    },
    {
     "data": {
      "text/plain": [
       "<Figure size 720x504 with 0 Axes>"
      ]
     },
     "metadata": {},
     "output_type": "display_data"
    },
    {
     "data": {
      "image/png": "[encoded data removed]",
      "text/plain": [
       "<Figure size 1008x504 with 2 Axes>"
      ]
     },
     "metadata": {
      "needs_background": "light"
     },
     "output_type": "display_data"
    },
    {
     "data": {
      "text/plain": [
       "<Figure size 504x504 with 0 Axes>"
      ]
     },
     "metadata": {},
     "output_type": "display_data"
    }
   ],
   "source": [
    "#Comparison with Physics-based model\n",
    "\n",
    "y_pred_RFR_woUP = regressor_woUP.predict(x_scaled_log_woUP)\n",
    "\n",
    "y_pred_RFR_woUP_alog=10**y_pred_RFR_woUP# takine antilog to retrive the correct units (kW)\n",
    "y_alog=10**y_log\n",
    "\n",
    "comparer(df,y_pred_RFR_woUP_alog,y_alog)"
   ]
  },
  {
   "cell_type": "code",
   "execution_count": 63,
   "metadata": {},
   "outputs": [
    {
     "data": {
      "text/html": [
       "<div>\n",
       "<style scoped>\n",
       "    .dataframe tbody tr th:only-of-type {\n",
       "        vertical-align: middle;\n",
       "    }\n",
       "\n",
       "    .dataframe tbody tr th {\n",
       "        vertical-align: top;\n",
       "    }\n",
       "\n",
       "    .dataframe thead th {\n",
       "        text-align: right;\n",
       "    }\n",
       "</style>\n",
       "<table border=\"1\" class=\"dataframe\">\n",
       "  <thead>\n",
       "    <tr style=\"text-align: right;\">\n",
       "      <th></th>\n",
       "      <th>feature_importances</th>\n",
       "    </tr>\n",
       "  </thead>\n",
       "  <tbody>\n",
       "    <tr>\n",
       "      <th>Square Wind Speed (m/s)^2</th>\n",
       "      <td>0.372158</td>\n",
       "    </tr>\n",
       "    <tr>\n",
       "      <th>Wind Speed (m/s)</th>\n",
       "      <td>0.313089</td>\n",
       "    </tr>\n",
       "    <tr>\n",
       "      <th>Cube Wind Speed (m/s)^3</th>\n",
       "      <td>0.302513</td>\n",
       "    </tr>\n",
       "    <tr>\n",
       "      <th>Wind Direction (⁰)</th>\n",
       "      <td>0.003706</td>\n",
       "    </tr>\n",
       "    <tr>\n",
       "      <th>Inverse Air Temp 76.7m (1/⁰C)</th>\n",
       "      <td>0.003090</td>\n",
       "    </tr>\n",
       "    <tr>\n",
       "      <th>Ambient Temperature (⁰C)</th>\n",
       "      <td>0.002076</td>\n",
       "    </tr>\n",
       "    <tr>\n",
       "      <th>Std. Wind Speed (m/s)</th>\n",
       "      <td>0.001681</td>\n",
       "    </tr>\n",
       "    <tr>\n",
       "      <th>TI Wind Speed</th>\n",
       "      <td>0.001241</td>\n",
       "    </tr>\n",
       "    <tr>\n",
       "      <th>Winter</th>\n",
       "      <td>0.000192</td>\n",
       "    </tr>\n",
       "    <tr>\n",
       "      <th>High speed</th>\n",
       "      <td>0.000134</td>\n",
       "    </tr>\n",
       "    <tr>\n",
       "      <th>Low speed</th>\n",
       "      <td>0.000087</td>\n",
       "    </tr>\n",
       "    <tr>\n",
       "      <th>Summer</th>\n",
       "      <td>0.000034</td>\n",
       "    </tr>\n",
       "  </tbody>\n",
       "</table>\n",
       "</div>"
      ],
      "text/plain": [
       "                               feature_importances\n",
       "Square Wind Speed (m/s)^2                 0.372158\n",
       "Wind Speed (m/s)                          0.313089\n",
       "Cube Wind Speed (m/s)^3                   0.302513\n",
       "Wind Direction (⁰)                        0.003706\n",
       "Inverse Air Temp 76.7m (1/⁰C)             0.003090\n",
       "Ambient Temperature (⁰C)                  0.002076\n",
       "Std. Wind Speed (m/s)                     0.001681\n",
       "TI Wind Speed                             0.001241\n",
       "Winter                                    0.000192\n",
       "High speed                                0.000134\n",
       "Low speed                                 0.000087\n",
       "Summer                                    0.000034"
      ]
     },
     "execution_count": 63,
     "metadata": {},
     "output_type": "execute_result"
    }
   ],
   "source": [
    "# Exploring relative feature importance\n",
    "\n",
    "feature_names_woUP=x_log_woUP.columns.values\n",
    "data_wo_woUP=abs(regressor_woUP.feature_importances_)\n",
    "data_wo_woUP=np.array(data_wo_woUP)\n",
    "#For retrieving the slope:\n",
    "coeff_df_wo_woUP=pd.DataFrame(data_wo_woUP,index=feature_names_woUP,columns=['feature_importances'])\n",
    "coeff_df_wo_woUP.sort_values(by=['feature_importances'],ascending=False)"
   ]
  },
  {
   "cell_type": "markdown",
   "metadata": {},
   "source": [
    "The wind speed and its cube and square power are of most importance along with temperature. The physics based model only emphasizes the cube of speed. The additional categorical features that classify the wind speed as 'high' or 'low' are not as critical for the Random Forest Regressor model working on limited feature set."
   ]
  },
  {
   "cell_type": "markdown",
   "metadata": {},
   "source": [
    "## Finalize Code for limited feature model"
   ]
  },
  {
   "cell_type": "code",
   "execution_count": 65,
   "metadata": {},
   "outputs": [
    {
     "data": {
      "text/plain": [
       "['./models/random_forest_regressor_model_windenergy__woUP.joblib']"
      ]
     },
     "execution_count": 65,
     "metadata": {},
     "output_type": "execute_result"
    }
   ],
   "source": [
    "s = pickle.dumps(regressor_woUP)\n",
    "from joblib import dump, load\n",
    "dump(regressor_woUP, './models/random_forest_regressor_model_windenergy__woUP.joblib') "
   ]
  },
  {
   "cell_type": "markdown",
   "metadata": {},
   "source": [
    "## Finalize Documentation for limited feature model"
   ]
  },
  {
   "cell_type": "markdown",
   "metadata": {},
   "source": [
    "Documentation includes model performance metrics as well as the hyperparameter values included in the final model."
   ]
  },
  {
   "cell_type": "code",
   "execution_count": 68,
   "metadata": {},
   "outputs": [
    {
     "data": {
      "text/html": [
       "<div>\n",
       "<style scoped>\n",
       "    .dataframe tbody tr th:only-of-type {\n",
       "        vertical-align: middle;\n",
       "    }\n",
       "\n",
       "    .dataframe tbody tr th {\n",
       "        vertical-align: top;\n",
       "    }\n",
       "\n",
       "    .dataframe thead th {\n",
       "        text-align: right;\n",
       "    }\n",
       "</style>\n",
       "<table border=\"1\" class=\"dataframe\">\n",
       "  <thead>\n",
       "    <tr style=\"text-align: right;\">\n",
       "      <th></th>\n",
       "      <th>Hyperparameter</th>\n",
       "      <th>Hyperparameter Values</th>\n",
       "      <th>Explained Variance</th>\n",
       "      <th>Root Mean Square Error</th>\n",
       "    </tr>\n",
       "  </thead>\n",
       "  <tbody>\n",
       "    <tr>\n",
       "      <th>0</th>\n",
       "      <td>random_state</td>\n",
       "      <td>1</td>\n",
       "      <td>0.9918</td>\n",
       "      <td>0.0349</td>\n",
       "    </tr>\n",
       "    <tr>\n",
       "      <th>1</th>\n",
       "      <td>max_depth</td>\n",
       "      <td>20</td>\n",
       "      <td></td>\n",
       "      <td></td>\n",
       "    </tr>\n",
       "    <tr>\n",
       "      <th>2</th>\n",
       "      <td>min_samples_leaf</td>\n",
       "      <td>1</td>\n",
       "      <td></td>\n",
       "      <td></td>\n",
       "    </tr>\n",
       "    <tr>\n",
       "      <th>3</th>\n",
       "      <td>min_samples_split</td>\n",
       "      <td>4</td>\n",
       "      <td></td>\n",
       "      <td></td>\n",
       "    </tr>\n",
       "    <tr>\n",
       "      <th>4</th>\n",
       "      <td>n_estimators</td>\n",
       "      <td>81</td>\n",
       "      <td></td>\n",
       "      <td></td>\n",
       "    </tr>\n",
       "  </tbody>\n",
       "</table>\n",
       "</div>"
      ],
      "text/plain": [
       "      Hyperparameter  Hyperparameter Values Explained Variance  \\\n",
       "0       random_state                      1             0.9918   \n",
       "1          max_depth                     20                      \n",
       "2   min_samples_leaf                      1                      \n",
       "3  min_samples_split                      4                      \n",
       "4       n_estimators                     81                      \n",
       "\n",
       "  Root Mean Square Error  \n",
       "0                 0.0349  \n",
       "1                         \n",
       "2                         \n",
       "3                         \n",
       "4                         "
      ]
     },
     "execution_count": 68,
     "metadata": {},
     "output_type": "execute_result"
    }
   ],
   "source": [
    "    \n",
    "param_names=['random_state','max_depth','min_samples_leaf','min_samples_split','n_estimators']\n",
    "param_value=np.array([1,20,1,4,81])\n",
    "\n",
    "coeff_df_woUP=pd.DataFrame(param_value,index=param_names,columns=['Hyperparameter Values'])\n",
    "coeff_df_woUP=coeff_df_woUP.reset_index().rename(columns={'index': 'Hyperparameter'})\n",
    "\n",
    "coeff_df_woUP['Explained Variance']=[round(explained_variance_score(y_test, y_pred_rfr_woUP),4)]+['']*(len(coeff_df_woUP)-1)\n",
    "coeff_df_woUP['Root Mean Square Error']=[round((mean_squared_error(y_test, y_pred_rfr_woUP)**(1/2)),4)]+['']*(len(coeff_df_woUP)-1)\n",
    "coeff_df_woUP"
   ]
  },
  {
   "cell_type": "code",
   "execution_count": 69,
   "metadata": {},
   "outputs": [],
   "source": [
    "coeff_df_woUP.to_csv('./models/Random Forest Regressor Model_WithoutUspstreamTower_hyperparameters_performance.csv')"
   ]
  },
  {
   "cell_type": "code",
   "execution_count": null,
   "metadata": {},
   "outputs": [],
   "source": []
  }
 ],
 "metadata": {
  "kernelspec": {
   "display_name": "Python 3",
   "language": "python",
   "name": "python3"
  },
  "language_info": {
   "codemirror_mode": {
    "name": "ipython",
    "version": 3
   },
   "file_extension": ".py",
   "mimetype": "text/x-python",
   "name": "python",
   "nbconvert_exporter": "python",
   "pygments_lexer": "ipython3",
   "version": "3.7.4"
  }
 },
 "nbformat": 4,
 "nbformat_minor": 2
}
