{
 "cells": [
  {
   "cell_type": "markdown",
   "metadata": {},
   "source": [
    "# Step 4 - Pre-processing and Training Data Development"
   ]
  },
  {
   "cell_type": "markdown",
   "metadata": {},
   "source": [
    "### **The Data Science Method**  \n",
    "\n",
    "\n",
    "1.   Problem Identification \n",
    "\n",
    "2.   Data Wrangling \n",
    "  \n",
    "3.   Exploratory Data Analysis \n",
    " \n",
    "4.   **Pre-processing and Training Data Development**\n",
    "\n",
    "5.  Modeling\n",
    "  * Fit Models with Training Data Set\n",
    "  * Review Model Outcomes — Iterate over additional models as needed.\n",
    "  * Identify the Final Model\n",
    "\n",
    "6.   Documentation\n",
    "  * Review the Results\n",
    "  * Present and share your findings - storytelling\n",
    "  * Finalize Code \n",
    "  * Finalize Documentation"
   ]
  },
  {
   "cell_type": "markdown",
   "metadata": {},
   "source": [
    "**<font color='teal'> Loading the necessary packages. </font>**"
   ]
  },
  {
   "cell_type": "code",
   "execution_count": 31,
   "metadata": {},
   "outputs": [],
   "source": [
    "#load python packages\n",
    "import os\n",
    "import pandas as pd\n",
    "import datetime\n",
    "import seaborn as sns\n",
    "import matplotlib.pyplot as plt\n",
    "import numpy as np\n",
    "from sklearn import preprocessing\n",
    "%matplotlib inline"
   ]
  },
  {
   "cell_type": "markdown",
   "metadata": {},
   "source": [
    "**<font color='teal'>  Loading the csv file  created in step 3. </font>**"
   ]
  },
  {
   "cell_type": "code",
   "execution_count": 32,
   "metadata": {},
   "outputs": [
    {
     "data": {
      "text/html": [
       "<div>\n",
       "<style scoped>\n",
       "    .dataframe tbody tr th:only-of-type {\n",
       "        vertical-align: middle;\n",
       "    }\n",
       "\n",
       "    .dataframe tbody tr th {\n",
       "        vertical-align: top;\n",
       "    }\n",
       "\n",
       "    .dataframe thead th {\n",
       "        text-align: right;\n",
       "    }\n",
       "</style>\n",
       "<table border=\"1\" class=\"dataframe\">\n",
       "  <thead>\n",
       "    <tr style=\"text-align: right;\">\n",
       "      <th></th>\n",
       "      <th>Wind Speed (m/s)</th>\n",
       "      <th>Real Power (kW)</th>\n",
       "      <th>Wind Direction (⁰)</th>\n",
       "      <th>Ambient Temperature (⁰C)</th>\n",
       "      <th>Wind Speed 79.1m (m/s)</th>\n",
       "      <th>Wind Direction 79.1m (⁰)</th>\n",
       "      <th>Air Temp 76.7m (⁰C)</th>\n",
       "      <th>Relative Humidity 76.7m (%)</th>\n",
       "      <th>Barometric Pressure (mbar)</th>\n",
       "      <th>Wind Speed Gradient (m/s)</th>\n",
       "      <th>...</th>\n",
       "      <th>Relative Humidity Gradient (%)</th>\n",
       "      <th>Ri_B</th>\n",
       "      <th>Summer</th>\n",
       "      <th>Winter</th>\n",
       "      <th>High speed</th>\n",
       "      <th>Low speed</th>\n",
       "      <th>Std. Wind Speed (m/s)</th>\n",
       "      <th>TI Wind Speed</th>\n",
       "      <th>Std. Wind Speed 79.1m (m/s)</th>\n",
       "      <th>TI Wind Speed 79.1m (m/s)</th>\n",
       "    </tr>\n",
       "    <tr>\n",
       "      <th>Timestamp</th>\n",
       "      <th></th>\n",
       "      <th></th>\n",
       "      <th></th>\n",
       "      <th></th>\n",
       "      <th></th>\n",
       "      <th></th>\n",
       "      <th></th>\n",
       "      <th></th>\n",
       "      <th></th>\n",
       "      <th></th>\n",
       "      <th></th>\n",
       "      <th></th>\n",
       "      <th></th>\n",
       "      <th></th>\n",
       "      <th></th>\n",
       "      <th></th>\n",
       "      <th></th>\n",
       "      <th></th>\n",
       "      <th></th>\n",
       "      <th></th>\n",
       "      <th></th>\n",
       "    </tr>\n",
       "  </thead>\n",
       "  <tbody>\n",
       "    <tr>\n",
       "      <th>2012-08-19 01:00:00</th>\n",
       "      <td>5.556833</td>\n",
       "      <td>214.633333</td>\n",
       "      <td>239.385000</td>\n",
       "      <td>21.40</td>\n",
       "      <td>5.330633</td>\n",
       "      <td>253.377777</td>\n",
       "      <td>20.935833</td>\n",
       "      <td>54.757833</td>\n",
       "      <td>975.052380</td>\n",
       "      <td>1.629017</td>\n",
       "      <td>...</td>\n",
       "      <td>-3.236667</td>\n",
       "      <td>-0.591926</td>\n",
       "      <td>1.0</td>\n",
       "      <td>0.0</td>\n",
       "      <td>0.0</td>\n",
       "      <td>1.0</td>\n",
       "      <td>0.105469</td>\n",
       "      <td>0.018980</td>\n",
       "      <td>0.180488</td>\n",
       "      <td>0.033859</td>\n",
       "    </tr>\n",
       "    <tr>\n",
       "      <th>2012-08-19 01:01:00</th>\n",
       "      <td>5.409500</td>\n",
       "      <td>221.266667</td>\n",
       "      <td>240.626667</td>\n",
       "      <td>21.40</td>\n",
       "      <td>5.245217</td>\n",
       "      <td>252.030522</td>\n",
       "      <td>20.909667</td>\n",
       "      <td>55.532667</td>\n",
       "      <td>975.062235</td>\n",
       "      <td>1.730033</td>\n",
       "      <td>...</td>\n",
       "      <td>-3.410167</td>\n",
       "      <td>-0.507177</td>\n",
       "      <td>1.0</td>\n",
       "      <td>0.0</td>\n",
       "      <td>0.0</td>\n",
       "      <td>1.0</td>\n",
       "      <td>0.036473</td>\n",
       "      <td>0.006742</td>\n",
       "      <td>0.202429</td>\n",
       "      <td>0.038593</td>\n",
       "    </tr>\n",
       "    <tr>\n",
       "      <th>2012-08-19 01:02:00</th>\n",
       "      <td>5.646833</td>\n",
       "      <td>245.200000</td>\n",
       "      <td>240.248333</td>\n",
       "      <td>21.40</td>\n",
       "      <td>5.581933</td>\n",
       "      <td>253.660155</td>\n",
       "      <td>20.873833</td>\n",
       "      <td>55.137833</td>\n",
       "      <td>974.933405</td>\n",
       "      <td>1.919733</td>\n",
       "      <td>...</td>\n",
       "      <td>-4.813833</td>\n",
       "      <td>-0.558537</td>\n",
       "      <td>1.0</td>\n",
       "      <td>0.0</td>\n",
       "      <td>0.0</td>\n",
       "      <td>1.0</td>\n",
       "      <td>0.105918</td>\n",
       "      <td>0.018757</td>\n",
       "      <td>0.184955</td>\n",
       "      <td>0.033135</td>\n",
       "    </tr>\n",
       "    <tr>\n",
       "      <th>2012-08-19 01:03:00</th>\n",
       "      <td>5.718667</td>\n",
       "      <td>253.850000</td>\n",
       "      <td>239.643333</td>\n",
       "      <td>21.28</td>\n",
       "      <td>5.841283</td>\n",
       "      <td>255.637168</td>\n",
       "      <td>20.863000</td>\n",
       "      <td>54.162833</td>\n",
       "      <td>974.981192</td>\n",
       "      <td>1.876100</td>\n",
       "      <td>...</td>\n",
       "      <td>-5.227500</td>\n",
       "      <td>-0.605762</td>\n",
       "      <td>1.0</td>\n",
       "      <td>0.0</td>\n",
       "      <td>0.0</td>\n",
       "      <td>1.0</td>\n",
       "      <td>0.041882</td>\n",
       "      <td>0.007324</td>\n",
       "      <td>0.138177</td>\n",
       "      <td>0.023655</td>\n",
       "    </tr>\n",
       "    <tr>\n",
       "      <th>2012-08-19 01:04:00</th>\n",
       "      <td>5.712667</td>\n",
       "      <td>257.216667</td>\n",
       "      <td>240.478333</td>\n",
       "      <td>21.00</td>\n",
       "      <td>5.975533</td>\n",
       "      <td>256.679192</td>\n",
       "      <td>20.882833</td>\n",
       "      <td>53.614000</td>\n",
       "      <td>974.921545</td>\n",
       "      <td>1.785267</td>\n",
       "      <td>...</td>\n",
       "      <td>-5.427500</td>\n",
       "      <td>-0.599312</td>\n",
       "      <td>1.0</td>\n",
       "      <td>0.0</td>\n",
       "      <td>0.0</td>\n",
       "      <td>1.0</td>\n",
       "      <td>0.052299</td>\n",
       "      <td>0.009155</td>\n",
       "      <td>0.100991</td>\n",
       "      <td>0.016901</td>\n",
       "    </tr>\n",
       "  </tbody>\n",
       "</table>\n",
       "<p>5 rows × 22 columns</p>\n",
       "</div>"
      ],
      "text/plain": [
       "                     Wind Speed (m/s)  Real Power (kW)  Wind Direction (⁰)  \\\n",
       "Timestamp                                                                    \n",
       "2012-08-19 01:00:00          5.556833       214.633333          239.385000   \n",
       "2012-08-19 01:01:00          5.409500       221.266667          240.626667   \n",
       "2012-08-19 01:02:00          5.646833       245.200000          240.248333   \n",
       "2012-08-19 01:03:00          5.718667       253.850000          239.643333   \n",
       "2012-08-19 01:04:00          5.712667       257.216667          240.478333   \n",
       "\n",
       "                     Ambient Temperature (⁰C)  Wind Speed 79.1m (m/s)  \\\n",
       "Timestamp                                                               \n",
       "2012-08-19 01:00:00                     21.40                5.330633   \n",
       "2012-08-19 01:01:00                     21.40                5.245217   \n",
       "2012-08-19 01:02:00                     21.40                5.581933   \n",
       "2012-08-19 01:03:00                     21.28                5.841283   \n",
       "2012-08-19 01:04:00                     21.00                5.975533   \n",
       "\n",
       "                     Wind Direction 79.1m (⁰)  Air Temp 76.7m (⁰C)  \\\n",
       "Timestamp                                                            \n",
       "2012-08-19 01:00:00                253.377777            20.935833   \n",
       "2012-08-19 01:01:00                252.030522            20.909667   \n",
       "2012-08-19 01:02:00                253.660155            20.873833   \n",
       "2012-08-19 01:03:00                255.637168            20.863000   \n",
       "2012-08-19 01:04:00                256.679192            20.882833   \n",
       "\n",
       "                     Relative Humidity 76.7m (%)  Barometric Pressure (mbar)  \\\n",
       "Timestamp                                                                      \n",
       "2012-08-19 01:00:00                    54.757833                  975.052380   \n",
       "2012-08-19 01:01:00                    55.532667                  975.062235   \n",
       "2012-08-19 01:02:00                    55.137833                  974.933405   \n",
       "2012-08-19 01:03:00                    54.162833                  974.981192   \n",
       "2012-08-19 01:04:00                    53.614000                  974.921545   \n",
       "\n",
       "                     Wind Speed Gradient (m/s)  ...  \\\n",
       "Timestamp                                       ...   \n",
       "2012-08-19 01:00:00                   1.629017  ...   \n",
       "2012-08-19 01:01:00                   1.730033  ...   \n",
       "2012-08-19 01:02:00                   1.919733  ...   \n",
       "2012-08-19 01:03:00                   1.876100  ...   \n",
       "2012-08-19 01:04:00                   1.785267  ...   \n",
       "\n",
       "                     Relative Humidity Gradient (%)      Ri_B  Summer  Winter  \\\n",
       "Timestamp                                                                       \n",
       "2012-08-19 01:00:00                       -3.236667 -0.591926     1.0     0.0   \n",
       "2012-08-19 01:01:00                       -3.410167 -0.507177     1.0     0.0   \n",
       "2012-08-19 01:02:00                       -4.813833 -0.558537     1.0     0.0   \n",
       "2012-08-19 01:03:00                       -5.227500 -0.605762     1.0     0.0   \n",
       "2012-08-19 01:04:00                       -5.427500 -0.599312     1.0     0.0   \n",
       "\n",
       "                     High speed  Low speed  Std. Wind Speed (m/s)  \\\n",
       "Timestamp                                                           \n",
       "2012-08-19 01:00:00         0.0        1.0               0.105469   \n",
       "2012-08-19 01:01:00         0.0        1.0               0.036473   \n",
       "2012-08-19 01:02:00         0.0        1.0               0.105918   \n",
       "2012-08-19 01:03:00         0.0        1.0               0.041882   \n",
       "2012-08-19 01:04:00         0.0        1.0               0.052299   \n",
       "\n",
       "                     TI Wind Speed  Std. Wind Speed 79.1m (m/s)  \\\n",
       "Timestamp                                                         \n",
       "2012-08-19 01:00:00       0.018980                     0.180488   \n",
       "2012-08-19 01:01:00       0.006742                     0.202429   \n",
       "2012-08-19 01:02:00       0.018757                     0.184955   \n",
       "2012-08-19 01:03:00       0.007324                     0.138177   \n",
       "2012-08-19 01:04:00       0.009155                     0.100991   \n",
       "\n",
       "                     TI Wind Speed 79.1m (m/s)  \n",
       "Timestamp                                       \n",
       "2012-08-19 01:00:00                   0.033859  \n",
       "2012-08-19 01:01:00                   0.038593  \n",
       "2012-08-19 01:02:00                   0.033135  \n",
       "2012-08-19 01:03:00                   0.023655  \n",
       "2012-08-19 01:04:00                   0.016901  \n",
       "\n",
       "[5 rows x 22 columns]"
      ]
     },
     "execution_count": 32,
     "metadata": {},
     "output_type": "execute_result"
    }
   ],
   "source": [
    "df=pd.read_csv('./data/step3_EDA_output.csv',index_col=0)\n",
    "df.head()"
   ]
  },
  {
   "cell_type": "markdown",
   "metadata": {},
   "source": [
    "**<font color='teal'>   Adding square and cube of velocities and inverse of temperature as features. </font>**"
   ]
  },
  {
   "cell_type": "markdown",
   "metadata": {},
   "source": [
    "A linear model will be tested subsequently. However, from eq 1. $P\\propto U^3$ and $\\rho\\propto 1/T$ both non-linear relationships. To incorporate non-linear effects the higher power of velocity and inverse Temperatures are added as features."
   ]
  },
  {
   "cell_type": "code",
   "execution_count": 33,
   "metadata": {},
   "outputs": [
    {
     "data": {
      "text/plain": [
       "Index(['Wind Speed (m/s)', 'Real Power (kW)', 'Wind Direction (⁰)',\n",
       "       'Ambient Temperature (⁰C)', 'Wind Speed 79.1m (m/s)',\n",
       "       'Wind Direction 79.1m (⁰)', 'Air Temp 76.7m (⁰C)',\n",
       "       'Relative Humidity 76.7m (%)', 'Barometric Pressure (mbar)',\n",
       "       'Wind Speed Gradient (m/s)', 'Wind Direction Gradient (⁰)',\n",
       "       'Virt. Pot. Temp. Gradient ($^\\circ C$)',\n",
       "       'Relative Humidity Gradient (%)', 'Ri_B', 'Summer', 'Winter',\n",
       "       'High speed', 'Low speed', 'Std. Wind Speed (m/s)', 'TI Wind Speed',\n",
       "       'Std. Wind Speed 79.1m (m/s)', 'TI Wind Speed 79.1m (m/s)'],\n",
       "      dtype='object')"
      ]
     },
     "execution_count": 33,
     "metadata": {},
     "output_type": "execute_result"
    }
   ],
   "source": [
    "df.columns"
   ]
  },
  {
   "cell_type": "code",
   "execution_count": 34,
   "metadata": {},
   "outputs": [],
   "source": [
    "df['Square Wind Speed (m/s)^2']=df['Wind Speed (m/s)']*df['Wind Speed (m/s)']\n",
    "df['Cube Wind Speed (m/s)^3']=df['Square Wind Speed (m/s)^2']*df['Wind Speed (m/s)']\n",
    "\n",
    "df['Square Wind Speed 79.1m (m/s)^2']=df['Wind Speed 79.1m (m/s)']*df['Wind Speed 79.1m (m/s)']\n",
    "df['Cube Wind Speed 79.1m (m/s)^3']=df['Wind Speed 79.1m (m/s)']*df['Wind Speed 79.1m (m/s)']\n",
    "\n",
    "df['Inverse Ambient Temperature (1/⁰C)']=1/df['Ambient Temperature (⁰C)']\n",
    "df['Inverse Air Temp 76.7m (1/⁰C)']=1/df['Air Temp 76.7m (⁰C)']\n"
   ]
  },
  {
   "cell_type": "markdown",
   "metadata": {},
   "source": [
    "**<font color='teal'> Creating a Dataframe with log of features.</font>**"
   ]
  },
  {
   "cell_type": "markdown",
   "metadata": {},
   "source": [
    "Again from eq. 1, $P\\propto product(\\rho, U^3,..)$. If a linear model is used, adding log of features will have an equivalent effect of feature products as shown in eq. 7."
   ]
  },
  {
   "cell_type": "code",
   "execution_count": 35,
   "metadata": {},
   "outputs": [],
   "source": [
    "#log of negetive temperature may lead to loosing this feature. To avoid the temperatures are converted to Kelvin scale.\n",
    "df_copy=df\n",
    "\n",
    "df_copy['Ambient Temperature (⁰C)']=df_copy['Ambient Temperature (⁰C)']+273\n",
    "df_copy['Air Temp 76.7m (⁰C)']=df_copy['Air Temp 76.7m (⁰C)']+273\n",
    "\n",
    "\n",
    "\n",
    "df_abs=df_copy.applymap(np.absolute)"
   ]
  },
  {
   "cell_type": "code",
   "execution_count": 36,
   "metadata": {},
   "outputs": [],
   "source": [
    "df_abs['Summer']=df_abs['Summer']+1\n",
    "df_abs['Winter']=df_abs['Winter']+1\n",
    "df_abs['High speed']=df_abs['High speed']+1\n",
    "df_abs['Low speed']=df_abs['Low speed']+1\n",
    "\n",
    "df_log=df_abs.applymap(np.log10) \n",
    "\n",
    "# Since Ri_B<0 will be modified, loosing its physical meaning, this feature will be dropped. Further, temperatures will also have to dropped"
   ]
  },
  {
   "cell_type": "markdown",
   "metadata": {},
   "source": [
    "## Standardizing the magnitude of numeric features"
   ]
  },
  {
   "cell_type": "code",
   "execution_count": 37,
   "metadata": {},
   "outputs": [],
   "source": [
    "x = df.drop(['Real Power (kW)'], axis =1)\n",
    "y=df['Real Power (kW)']\n",
    "\n",
    "x_scaled=preprocessing.scale(x, axis=0, with_mean=True, with_std=True, copy=True)"
   ]
  },
  {
   "cell_type": "code",
   "execution_count": 38,
   "metadata": {},
   "outputs": [
    {
     "data": {
      "text/plain": [
       "array([ 2.81256500e-16,  5.92118946e-17, -2.25005200e-15, -3.33066907e-17,\n",
       "       -5.32907052e-16,  2.96059473e-15, -5.92118946e-17, -6.42449057e-15,\n",
       "        5.92118946e-17,  9.89948864e-17, -5.92118946e-17,  0.00000000e+00,\n",
       "        2.96059473e-17,  0.00000000e+00,  0.00000000e+00,  0.00000000e+00,\n",
       "        0.00000000e+00,  8.88178420e-17, -5.92118946e-17, -7.40148683e-17,\n",
       "       -1.62832710e-16, -2.36847579e-16, -1.48029737e-16, -1.96139401e-16,\n",
       "       -1.96139401e-16,  5.92118946e-17,  5.92118946e-17])"
      ]
     },
     "execution_count": 38,
     "metadata": {},
     "output_type": "execute_result"
    }
   ],
   "source": [
    "x_scaled.mean(axis=0)"
   ]
  },
  {
   "cell_type": "code",
   "execution_count": 39,
   "metadata": {},
   "outputs": [
    {
     "data": {
      "text/plain": [
       "array([1., 1., 1., 1., 1., 1., 1., 1., 1., 1., 1., 1., 1., 1., 1., 1., 1.,\n",
       "       1., 1., 1., 1., 1., 1., 1., 1., 1., 1.])"
      ]
     },
     "execution_count": 39,
     "metadata": {},
     "output_type": "execute_result"
    }
   ],
   "source": [
    "x_scaled.std(axis=0)"
   ]
  },
  {
   "cell_type": "code",
   "execution_count": 40,
   "metadata": {},
   "outputs": [
    {
     "data": {
      "text/plain": [
       "(240, 27)"
      ]
     },
     "execution_count": 40,
     "metadata": {},
     "output_type": "execute_result"
    }
   ],
   "source": [
    "x_scaled.shape"
   ]
  },
  {
   "cell_type": "code",
   "execution_count": 41,
   "metadata": {},
   "outputs": [
    {
     "data": {
      "image/png": "[encoded data removed]",
      "text/plain": [
       "<Figure size 1440x1440 with 30 Axes>"
      ]
     },
     "metadata": {
      "needs_background": "light"
     },
     "output_type": "display_data"
    }
   ],
   "source": [
    "x_scaled_check_df=pd.DataFrame(x_scaled,columns=x.columns)\n",
    "hist=x_scaled_check_df.hist(bins=25,figsize=[20,20])"
   ]
  },
  {
   "cell_type": "markdown",
   "metadata": {},
   "source": [
    "### Repeating standardizing for the log dataframe"
   ]
  },
  {
   "cell_type": "code",
   "execution_count": 42,
   "metadata": {},
   "outputs": [],
   "source": [
    "x_log = df_log.drop(['Real Power (kW)','Ri_B'], axis =1)\n",
    "y_log=df_log['Real Power (kW)']\n",
    "\n",
    "x_scaled_log=preprocessing.scale(x_log, axis=0, with_mean=True, with_std=True, copy=True)"
   ]
  },
  {
   "cell_type": "code",
   "execution_count": 43,
   "metadata": {},
   "outputs": [
    {
     "data": {
      "text/plain": [
       "array([ 5.14403335e-16,  1.18423789e-15, -3.07901852e-15,  8.06762065e-16,\n",
       "        4.61852778e-15, -4.85537536e-15, -1.12502600e-15, -1.55904919e-13,\n",
       "       -1.18423789e-16,  7.40148683e-18,  2.07241631e-16,  0.00000000e+00,\n",
       "        0.00000000e+00,  0.00000000e+00,  0.00000000e+00,  0.00000000e+00,\n",
       "       -1.77635684e-16, -1.33226763e-16,  5.92118946e-17, -1.62832710e-16,\n",
       "        4.73695157e-16, -7.40148683e-18,  8.14163551e-16,  8.14163551e-16,\n",
       "       -7.69754630e-16, -1.18423789e-16])"
      ]
     },
     "execution_count": 43,
     "metadata": {},
     "output_type": "execute_result"
    }
   ],
   "source": [
    "x_scaled_log.mean(axis=0)"
   ]
  },
  {
   "cell_type": "code",
   "execution_count": 45,
   "metadata": {},
   "outputs": [
    {
     "data": {
      "text/plain": [
       "array([1., 1., 1., 1., 1., 1., 1., 1., 1., 1., 1., 1., 1., 1., 1., 1., 1.,\n",
       "       1., 1., 1., 1., 1., 1., 1., 1., 1.])"
      ]
     },
     "execution_count": 45,
     "metadata": {},
     "output_type": "execute_result"
    }
   ],
   "source": [
    "x_scaled_log.std(axis=0)"
   ]
  },
  {
   "cell_type": "markdown",
   "metadata": {},
   "source": [
    "## Splitting into training and testing datasets"
   ]
  },
  {
   "cell_type": "code",
   "execution_count": 46,
   "metadata": {},
   "outputs": [],
   "source": [
    "from sklearn.model_selection import train_test_split\n",
    "X_train, X_test, y_train, y_test = train_test_split(x_scaled, y, test_size=0.25)"
   ]
  },
  {
   "cell_type": "code",
   "execution_count": 47,
   "metadata": {},
   "outputs": [
    {
     "data": {
      "text/plain": [
       "((180, 27), (60, 27))"
      ]
     },
     "execution_count": 47,
     "metadata": {},
     "output_type": "execute_result"
    }
   ],
   "source": [
    "X_train.shape, X_test.shape"
   ]
  },
  {
   "cell_type": "code",
   "execution_count": 48,
   "metadata": {},
   "outputs": [
    {
     "data": {
      "text/plain": [
       "((180,), (60,))"
      ]
     },
     "execution_count": 48,
     "metadata": {},
     "output_type": "execute_result"
    }
   ],
   "source": [
    "y_train.shape, y_test.shape"
   ]
  },
  {
   "cell_type": "markdown",
   "metadata": {},
   "source": [
    "### Repeating standardizing for the log dataframe"
   ]
  },
  {
   "cell_type": "code",
   "execution_count": 49,
   "metadata": {},
   "outputs": [],
   "source": [
    "from sklearn.model_selection import train_test_split\n",
    "X_train_log, X_test_log, y_train_log, y_test_log = train_test_split(x_scaled_log, y_log, test_size=0.25)"
   ]
  },
  {
   "cell_type": "code",
   "execution_count": null,
   "metadata": {},
   "outputs": [],
   "source": [
    "X_train.shape, X_test.shape"
   ]
  }
 ],
 "metadata": {
  "kernelspec": {
   "display_name": "Python 3",
   "language": "python",
   "name": "python3"
  },
  "language_info": {
   "codemirror_mode": {
    "name": "ipython",
    "version": 3
   },
   "file_extension": ".py",
   "mimetype": "text/x-python",
   "name": "python",
   "nbconvert_exporter": "python",
   "pygments_lexer": "ipython3",
   "version": "3.7.4"
  }
 },
 "nbformat": 4,
 "nbformat_minor": 2
}
